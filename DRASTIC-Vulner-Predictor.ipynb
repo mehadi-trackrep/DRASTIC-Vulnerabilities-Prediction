{
 "cells": [
  {
   "cell_type": "code",
   "execution_count": 1,
   "id": "77e87531-db4e-481c-b3dd-8d4bb6b4685c",
   "metadata": {},
   "outputs": [
    {
     "name": "stdout",
     "output_type": "stream",
     "text": [
      "Libraries Imported\n"
     ]
    }
   ],
   "source": [
    " #Importing Libraries\n",
    "import numpy as np\n",
    "import pandas as pd\n",
    "from sklearn.svm import SVC\n",
    "from sklearn.model_selection import train_test_split\n",
    "from sklearn.preprocessing import StandardScaler\n",
    "from sklearn.ensemble import RandomForestClassifier\n",
    "from sklearn.metrics import classification_report, confusion_matrix, roc_curve, auc\n",
    "from sklearn.multiclass import OneVsRestClassifier\n",
    "import matplotlib.pyplot as plt\n",
    "import seaborn as sns\n",
    "print('Libraries Imported')"
   ]
  },
  {
   "cell_type": "code",
   "execution_count": 3,
   "id": "30369c34-64ec-44cf-a6b6-4a0f433c3223",
   "metadata": {},
   "outputs": [],
   "source": [
    "#df = pd.read_excel('data/input/Drastic-Model-Data-For-ML-Analysis.xlsx', header=0)"
   ]
  },
  {
   "cell_type": "code",
   "execution_count": 5,
   "id": "3619b2ce-f891-476b-b06e-8064aae8eec8",
   "metadata": {},
   "outputs": [],
   "source": [
    "#df.to_csv('data/input/Drastic-Model-Data-For-ML-Analysis.csv', index=False)"
   ]
  },
  {
   "cell_type": "code",
   "execution_count": 2,
   "id": "d9d1bfee-4210-4a6c-9e48-81bd168164c9",
   "metadata": {},
   "outputs": [],
   "source": [
    "df = pd.read_csv('data/input/Drastic-Model-Data-For-ML-Analysis.csv')"
   ]
  },
  {
   "cell_type": "code",
   "execution_count": 3,
   "id": "1f68015d-f8b7-48d5-b6a8-b626a3bd88b3",
   "metadata": {},
   "outputs": [
    {
     "data": {
      "text/html": [
       "<div>\n",
       "<style scoped>\n",
       "    .dataframe tbody tr th:only-of-type {\n",
       "        vertical-align: middle;\n",
       "    }\n",
       "\n",
       "    .dataframe tbody tr th {\n",
       "        vertical-align: top;\n",
       "    }\n",
       "\n",
       "    .dataframe thead th {\n",
       "        text-align: right;\n",
       "    }\n",
       "</style>\n",
       "<table border=\"1\" class=\"dataframe\">\n",
       "  <thead>\n",
       "    <tr style=\"text-align: right;\">\n",
       "      <th></th>\n",
       "      <th>OBJECTID *</th>\n",
       "      <th>pointid</th>\n",
       "      <th>grid_code</th>\n",
       "      <th>Vulnerabil</th>\n",
       "      <th>Tropograpy</th>\n",
       "      <th>Soil__Media</th>\n",
       "      <th>Net_Recharge</th>\n",
       "      <th>Impact_Vandose_Zone</th>\n",
       "      <th>Hydrolic_Conductivity</th>\n",
       "      <th>Depth_to_Acquifer</th>\n",
       "      <th>Aquirfer_Media</th>\n",
       "    </tr>\n",
       "  </thead>\n",
       "  <tbody>\n",
       "    <tr>\n",
       "      <th>0</th>\n",
       "      <td>1</td>\n",
       "      <td>3254</td>\n",
       "      <td>2</td>\n",
       "      <td>Low (47-78)</td>\n",
       "      <td>&lt;Null&gt;</td>\n",
       "      <td>6</td>\n",
       "      <td>1</td>\n",
       "      <td>3</td>\n",
       "      <td>1</td>\n",
       "      <td>5</td>\n",
       "      <td>1</td>\n",
       "    </tr>\n",
       "    <tr>\n",
       "      <th>1</th>\n",
       "      <td>2</td>\n",
       "      <td>3255</td>\n",
       "      <td>3</td>\n",
       "      <td>Medium (78-100)</td>\n",
       "      <td>3</td>\n",
       "      <td>4</td>\n",
       "      <td>1</td>\n",
       "      <td>3</td>\n",
       "      <td>1</td>\n",
       "      <td>5</td>\n",
       "      <td>1</td>\n",
       "    </tr>\n",
       "    <tr>\n",
       "      <th>2</th>\n",
       "      <td>3</td>\n",
       "      <td>3256</td>\n",
       "      <td>3</td>\n",
       "      <td>Medium (78-100)</td>\n",
       "      <td>3</td>\n",
       "      <td>4</td>\n",
       "      <td>1</td>\n",
       "      <td>3</td>\n",
       "      <td>1</td>\n",
       "      <td>5</td>\n",
       "      <td>1</td>\n",
       "    </tr>\n",
       "    <tr>\n",
       "      <th>3</th>\n",
       "      <td>4</td>\n",
       "      <td>3257</td>\n",
       "      <td>3</td>\n",
       "      <td>Medium (78-100)</td>\n",
       "      <td>1</td>\n",
       "      <td>4</td>\n",
       "      <td>1</td>\n",
       "      <td>3</td>\n",
       "      <td>1</td>\n",
       "      <td>5</td>\n",
       "      <td>1</td>\n",
       "    </tr>\n",
       "    <tr>\n",
       "      <th>4</th>\n",
       "      <td>5</td>\n",
       "      <td>3258</td>\n",
       "      <td>3</td>\n",
       "      <td>Medium (78-100)</td>\n",
       "      <td>2</td>\n",
       "      <td>4</td>\n",
       "      <td>1</td>\n",
       "      <td>3</td>\n",
       "      <td>1</td>\n",
       "      <td>5</td>\n",
       "      <td>1</td>\n",
       "    </tr>\n",
       "  </tbody>\n",
       "</table>\n",
       "</div>"
      ],
      "text/plain": [
       "   OBJECTID *  pointid  grid_code       Vulnerabil Tropograpy Soil__Media  \\\n",
       "0           1     3254          2      Low (47-78)     <Null>           6   \n",
       "1           2     3255          3  Medium (78-100)          3           4   \n",
       "2           3     3256          3  Medium (78-100)          3           4   \n",
       "3           4     3257          3  Medium (78-100)          1           4   \n",
       "4           5     3258          3  Medium (78-100)          2           4   \n",
       "\n",
       "  Net_Recharge  Impact_Vandose_Zone  Hydrolic_Conductivity  Depth_to_Acquifer  \\\n",
       "0            1                    3                      1                  5   \n",
       "1            1                    3                      1                  5   \n",
       "2            1                    3                      1                  5   \n",
       "3            1                    3                      1                  5   \n",
       "4            1                    3                      1                  5   \n",
       "\n",
       "   Aquirfer_Media  \n",
       "0               1  \n",
       "1               1  \n",
       "2               1  \n",
       "3               1  \n",
       "4               1  "
      ]
     },
     "execution_count": 3,
     "metadata": {},
     "output_type": "execute_result"
    }
   ],
   "source": [
    "df.head()"
   ]
  },
  {
   "cell_type": "code",
   "execution_count": 4,
   "id": "d8445d55-f3f1-49d0-aefc-96c8cd1ed6f8",
   "metadata": {},
   "outputs": [
    {
     "data": {
      "text/plain": [
       "OBJECTID *                int64\n",
       "pointid                   int64\n",
       "grid_code                 int64\n",
       "Vulnerabil               object\n",
       "Tropograpy               object\n",
       "Soil__Media              object\n",
       "Net_Recharge             object\n",
       "Impact_Vandose_Zone       int64\n",
       "Hydrolic_Conductivity     int64\n",
       "Depth_to_Acquifer         int64\n",
       "Aquirfer_Media            int64\n",
       "dtype: object"
      ]
     },
     "execution_count": 4,
     "metadata": {},
     "output_type": "execute_result"
    }
   ],
   "source": [
    "df.dtypes"
   ]
  },
  {
   "cell_type": "code",
   "execution_count": 5,
   "id": "f77358df-5396-4d93-82eb-1de70006a8a1",
   "metadata": {},
   "outputs": [],
   "source": [
    "df = df.drop(['OBJECTID *', 'Vulnerabil'], axis=1) # remove unnecessary columns"
   ]
  },
  {
   "cell_type": "code",
   "execution_count": 6,
   "id": "11f86974-d7b8-421d-92fe-7c46c004cbd0",
   "metadata": {},
   "outputs": [
    {
     "data": {
      "text/html": [
       "<div>\n",
       "<style scoped>\n",
       "    .dataframe tbody tr th:only-of-type {\n",
       "        vertical-align: middle;\n",
       "    }\n",
       "\n",
       "    .dataframe tbody tr th {\n",
       "        vertical-align: top;\n",
       "    }\n",
       "\n",
       "    .dataframe thead th {\n",
       "        text-align: right;\n",
       "    }\n",
       "</style>\n",
       "<table border=\"1\" class=\"dataframe\">\n",
       "  <thead>\n",
       "    <tr style=\"text-align: right;\">\n",
       "      <th></th>\n",
       "      <th>pointid</th>\n",
       "      <th>grid_code</th>\n",
       "      <th>Tropograpy</th>\n",
       "      <th>Soil__Media</th>\n",
       "      <th>Net_Recharge</th>\n",
       "      <th>Impact_Vandose_Zone</th>\n",
       "      <th>Hydrolic_Conductivity</th>\n",
       "      <th>Depth_to_Acquifer</th>\n",
       "      <th>Aquirfer_Media</th>\n",
       "    </tr>\n",
       "  </thead>\n",
       "  <tbody>\n",
       "    <tr>\n",
       "      <th>0</th>\n",
       "      <td>3254</td>\n",
       "      <td>2</td>\n",
       "      <td>&lt;Null&gt;</td>\n",
       "      <td>6</td>\n",
       "      <td>1</td>\n",
       "      <td>3</td>\n",
       "      <td>1</td>\n",
       "      <td>5</td>\n",
       "      <td>1</td>\n",
       "    </tr>\n",
       "    <tr>\n",
       "      <th>1</th>\n",
       "      <td>3255</td>\n",
       "      <td>3</td>\n",
       "      <td>3</td>\n",
       "      <td>4</td>\n",
       "      <td>1</td>\n",
       "      <td>3</td>\n",
       "      <td>1</td>\n",
       "      <td>5</td>\n",
       "      <td>1</td>\n",
       "    </tr>\n",
       "    <tr>\n",
       "      <th>2</th>\n",
       "      <td>3256</td>\n",
       "      <td>3</td>\n",
       "      <td>3</td>\n",
       "      <td>4</td>\n",
       "      <td>1</td>\n",
       "      <td>3</td>\n",
       "      <td>1</td>\n",
       "      <td>5</td>\n",
       "      <td>1</td>\n",
       "    </tr>\n",
       "    <tr>\n",
       "      <th>3</th>\n",
       "      <td>3257</td>\n",
       "      <td>3</td>\n",
       "      <td>1</td>\n",
       "      <td>4</td>\n",
       "      <td>1</td>\n",
       "      <td>3</td>\n",
       "      <td>1</td>\n",
       "      <td>5</td>\n",
       "      <td>1</td>\n",
       "    </tr>\n",
       "    <tr>\n",
       "      <th>4</th>\n",
       "      <td>3258</td>\n",
       "      <td>3</td>\n",
       "      <td>2</td>\n",
       "      <td>4</td>\n",
       "      <td>1</td>\n",
       "      <td>3</td>\n",
       "      <td>1</td>\n",
       "      <td>5</td>\n",
       "      <td>1</td>\n",
       "    </tr>\n",
       "  </tbody>\n",
       "</table>\n",
       "</div>"
      ],
      "text/plain": [
       "   pointid  grid_code Tropograpy Soil__Media Net_Recharge  \\\n",
       "0     3254          2     <Null>           6            1   \n",
       "1     3255          3          3           4            1   \n",
       "2     3256          3          3           4            1   \n",
       "3     3257          3          1           4            1   \n",
       "4     3258          3          2           4            1   \n",
       "\n",
       "   Impact_Vandose_Zone  Hydrolic_Conductivity  Depth_to_Acquifer  \\\n",
       "0                    3                      1                  5   \n",
       "1                    3                      1                  5   \n",
       "2                    3                      1                  5   \n",
       "3                    3                      1                  5   \n",
       "4                    3                      1                  5   \n",
       "\n",
       "   Aquirfer_Media  \n",
       "0               1  \n",
       "1               1  \n",
       "2               1  \n",
       "3               1  \n",
       "4               1  "
      ]
     },
     "execution_count": 6,
     "metadata": {},
     "output_type": "execute_result"
    }
   ],
   "source": [
    "df.head()"
   ]
  },
  {
   "cell_type": "markdown",
   "id": "2d6d7756-7025-494a-9376-b56a392179c4",
   "metadata": {},
   "source": [
    "## Understanding Class Imbalance in Multiclass Datasets"
   ]
  },
  {
   "cell_type": "code",
   "execution_count": 7,
   "id": "265a0889-93e3-4418-bf22-4ba0bafb8ce5",
   "metadata": {
    "scrolled": true
   },
   "outputs": [
    {
     "data": {
      "image/png": "[encoded data removed]",
      "text/plain": [
       "<Figure size 1000x600 with 1 Axes>"
      ]
     },
     "metadata": {},
     "output_type": "display_data"
    },
    {
     "name": "stdout",
     "output_type": "stream",
     "text": [
      "grid_code\n",
      "1    13804\n",
      "3     8706\n",
      "4     8085\n",
      "2     1271\n",
      "5       52\n",
      "Name: count, dtype: int64\n",
      "grid_code\n",
      "1    0.432483\n",
      "3    0.272761\n",
      "4    0.253305\n",
      "2    0.039821\n",
      "5    0.001629\n",
      "Name: count, dtype: float64\n"
     ]
    }
   ],
   "source": [
    "# Visualize class distribution\n",
    "plt.figure(figsize=(10, 6))\n",
    "df['grid_code'].value_counts().plot(kind='bar')\n",
    "plt.title('Class Distribution')\n",
    "plt.xlabel('Class')\n",
    "plt.ylabel('Count')\n",
    "plt.show()\n",
    "\n",
    "# Calculate class frequencies and ratios\n",
    "class_counts = df['grid_code'].value_counts()\n",
    "class_ratios = class_counts / class_counts.sum()\n",
    "\n",
    "print(class_counts)\n",
    "print(class_ratios)"
   ]
  },
  {
   "cell_type": "markdown",
   "id": "5b7d622e-f066-47e2-83ab-1f80a226cc94",
   "metadata": {},
   "source": [
    "### Replace `<Null>` with None"
   ]
  },
  {
   "cell_type": "code",
   "execution_count": 8,
   "id": "6ecb9d09-55e4-4cc2-aebb-75ea04af6988",
   "metadata": {},
   "outputs": [],
   "source": [
    "# <Null>\n",
    "df1 = df.replace(\"<Null>\", None)"
   ]
  },
  {
   "cell_type": "code",
   "execution_count": 9,
   "id": "4528b3a5-846a-4714-b922-d8f302a20fc4",
   "metadata": {},
   "outputs": [
    {
     "name": "stdout",
     "output_type": "stream",
     "text": [
      "pointid                    0\n",
      "grid_code                  0\n",
      "Tropograpy               460\n",
      "Soil__Media              159\n",
      "Net_Recharge              54\n",
      "Impact_Vandose_Zone        0\n",
      "Hydrolic_Conductivity      0\n",
      "Depth_to_Acquifer          0\n",
      "Aquirfer_Media             0\n",
      "dtype: int64\n",
      "<class 'pandas.core.frame.DataFrame'>\n",
      "RangeIndex: 31918 entries, 0 to 31917\n",
      "Data columns (total 9 columns):\n",
      " #   Column                 Non-Null Count  Dtype \n",
      "---  ------                 --------------  ----- \n",
      " 0   pointid                31918 non-null  int64 \n",
      " 1   grid_code              31918 non-null  int64 \n",
      " 2   Tropograpy             31458 non-null  object\n",
      " 3   Soil__Media            31759 non-null  object\n",
      " 4   Net_Recharge           31864 non-null  object\n",
      " 5   Impact_Vandose_Zone    31918 non-null  int64 \n",
      " 6   Hydrolic_Conductivity  31918 non-null  int64 \n",
      " 7   Depth_to_Acquifer      31918 non-null  int64 \n",
      " 8   Aquirfer_Media         31918 non-null  int64 \n",
      "dtypes: int64(6), object(3)\n",
      "memory usage: 2.2+ MB\n",
      "None\n"
     ]
    }
   ],
   "source": [
    "# Check for missing values\n",
    "print(df1.isnull().sum())  # Counts missing values per column\n",
    "print(df1.info())  # Provides overall information"
   ]
  },
  {
   "cell_type": "code",
   "execution_count": 9,
   "id": "61058aa2-530e-4ae2-ad98-880ac9dd962c",
   "metadata": {
    "scrolled": true
   },
   "outputs": [
    {
     "data": {
      "text/html": [
       "<div>\n",
       "<style scoped>\n",
       "    .dataframe tbody tr th:only-of-type {\n",
       "        vertical-align: middle;\n",
       "    }\n",
       "\n",
       "    .dataframe tbody tr th {\n",
       "        vertical-align: top;\n",
       "    }\n",
       "\n",
       "    .dataframe thead th {\n",
       "        text-align: right;\n",
       "    }\n",
       "</style>\n",
       "<table border=\"1\" class=\"dataframe\">\n",
       "  <thead>\n",
       "    <tr style=\"text-align: right;\">\n",
       "      <th></th>\n",
       "      <th>pointid</th>\n",
       "      <th>grid_code</th>\n",
       "      <th>Tropograpy</th>\n",
       "      <th>Soil__Media</th>\n",
       "      <th>Net_Recharge</th>\n",
       "      <th>Impact_Vandose_Zone</th>\n",
       "      <th>Hydrolic_Conductivity</th>\n",
       "      <th>Depth_to_Acquifer</th>\n",
       "      <th>Aquirfer_Media</th>\n",
       "    </tr>\n",
       "  </thead>\n",
       "  <tbody>\n",
       "    <tr>\n",
       "      <th>0</th>\n",
       "      <td>3254</td>\n",
       "      <td>2</td>\n",
       "      <td>None</td>\n",
       "      <td>6</td>\n",
       "      <td>1</td>\n",
       "      <td>3</td>\n",
       "      <td>1</td>\n",
       "      <td>5</td>\n",
       "      <td>1</td>\n",
       "    </tr>\n",
       "    <tr>\n",
       "      <th>1</th>\n",
       "      <td>3255</td>\n",
       "      <td>3</td>\n",
       "      <td>3</td>\n",
       "      <td>4</td>\n",
       "      <td>1</td>\n",
       "      <td>3</td>\n",
       "      <td>1</td>\n",
       "      <td>5</td>\n",
       "      <td>1</td>\n",
       "    </tr>\n",
       "    <tr>\n",
       "      <th>2</th>\n",
       "      <td>3256</td>\n",
       "      <td>3</td>\n",
       "      <td>3</td>\n",
       "      <td>4</td>\n",
       "      <td>1</td>\n",
       "      <td>3</td>\n",
       "      <td>1</td>\n",
       "      <td>5</td>\n",
       "      <td>1</td>\n",
       "    </tr>\n",
       "  </tbody>\n",
       "</table>\n",
       "</div>"
      ],
      "text/plain": [
       "   pointid  grid_code Tropograpy Soil__Media Net_Recharge  \\\n",
       "0     3254          2       None           6            1   \n",
       "1     3255          3          3           4            1   \n",
       "2     3256          3          3           4            1   \n",
       "\n",
       "   Impact_Vandose_Zone  Hydrolic_Conductivity  Depth_to_Acquifer  \\\n",
       "0                    3                      1                  5   \n",
       "1                    3                      1                  5   \n",
       "2                    3                      1                  5   \n",
       "\n",
       "   Aquirfer_Media  \n",
       "0               1  \n",
       "1               1  \n",
       "2               1  "
      ]
     },
     "execution_count": 9,
     "metadata": {},
     "output_type": "execute_result"
    }
   ],
   "source": [
    "df1.head(3)"
   ]
  },
  {
   "cell_type": "code",
   "execution_count": 12,
   "id": "a5861e91-01d2-4e0f-a5c6-77e14d3b6cf3",
   "metadata": {
    "scrolled": true
   },
   "outputs": [
    {
     "data": {
      "text/plain": [
       "grid_code    86\n",
       "dtype: int64"
      ]
     },
     "execution_count": 12,
     "metadata": {},
     "output_type": "execute_result"
    }
   ],
   "source": [
    "# df1[df1.apply(lambda x: x.Tropograpy == None and x.grid_code == 1, axis=1)][['grid_code', 'Tropograpy']].head()\n",
    "df1[df1.apply(lambda x: x.Tropograpy == None and x.grid_code == 1, axis=1)][['grid_code']].count()"
   ]
  },
  {
   "cell_type": "code",
   "execution_count": 13,
   "id": "4cf8f0b6-4d9e-4e0c-8f8e-ecd619a784c3",
   "metadata": {},
   "outputs": [
    {
     "data": {
      "image/png": "[encoded data removed]",
      "text/plain": [
       "<Figure size 1500x500 with 3 Axes>"
      ]
     },
     "metadata": {},
     "output_type": "display_data"
    }
   ],
   "source": [
    "# Create a new figure for plotting\n",
    "fig, axes = plt.subplots(1, 3, figsize=(15, 5))  # 1 row, 3 columns\n",
    "\n",
    "NULL_VALUES_COLS = df1.columns[df1.isnull().any()] # get null columns\n",
    "TARGET_COL = 'grid_code'\n",
    "\n",
    "# Iterate over columns and create subplots\n",
    "for i, col in enumerate(NULL_VALUES_COLS):\n",
    "    counts = df1[df1[col].isna()][TARGET_COL].value_counts()\n",
    "    axes[i].bar(counts.index, counts.values)\n",
    "    axes[i].set_xlabel(f'{TARGET_COL} Values')\n",
    "    axes[i].set_ylabel('Count')\n",
    "    axes[i].set_title(f'Count of {TARGET_COL} when {col} is Null')\n",
    "\n",
    "# Adjust layout to prevent overlapping labels\n",
    "plt.tight_layout()\n",
    "\n",
    "# Display the plot\n",
    "plt.show()"
   ]
  },
  {
   "cell_type": "markdown",
   "id": "8f5d8e17-6600-4e34-896f-9d8fdd79b970",
   "metadata": {},
   "source": [
    "### Data Cleaning"
   ]
  },
  {
   "cell_type": "markdown",
   "id": "933e7c42-1d91-41af-addc-52148707d819",
   "metadata": {},
   "source": [
    "##### '''As we have imbalanced dataset, so we will use Stratified K-Fold technique where we may use Grid Search / Randomized Search to \n",
    "##### optimize the underlying hyperparameters.'''"
   ]
  },
  {
   "cell_type": "markdown",
   "id": "53084e59-4d10-4722-833f-303b87d47d2c",
   "metadata": {},
   "source": [
    "'''\n",
    "##### And we know that - \n",
    "##### Oversampling: This technique involves increasing the number of instances in the minority class.\n",
    "##### Hybrid Approaches: Combining oversampling and undersampling techniques can be effective in certain scenarios.   \n",
    "##### Class Weighting: Assigning different weights to different classes can help balance the impact of class imbalance.   \n",
    "##### Algorithm Selection: Choosing algorithms that are robust to class imbalance, such as decision trees or ensemble methods \n",
    "##### like Random Forest and XGBoost.\n",
    "'''"
   ]
  },
  {
   "cell_type": "code",
   "execution_count": 14,
   "id": "5a79f3bf-3040-4833-b26c-19d56ab3eb40",
   "metadata": {
    "scrolled": true
   },
   "outputs": [
    {
     "data": {
      "text/html": [
       "<div>\n",
       "<style scoped>\n",
       "    .dataframe tbody tr th:only-of-type {\n",
       "        vertical-align: middle;\n",
       "    }\n",
       "\n",
       "    .dataframe tbody tr th {\n",
       "        vertical-align: top;\n",
       "    }\n",
       "\n",
       "    .dataframe thead th {\n",
       "        text-align: right;\n",
       "    }\n",
       "</style>\n",
       "<table border=\"1\" class=\"dataframe\">\n",
       "  <thead>\n",
       "    <tr style=\"text-align: right;\">\n",
       "      <th></th>\n",
       "      <th>pointid</th>\n",
       "      <th>grid_code</th>\n",
       "      <th>Tropograpy</th>\n",
       "      <th>Soil__Media</th>\n",
       "      <th>Net_Recharge</th>\n",
       "      <th>Impact_Vandose_Zone</th>\n",
       "      <th>Hydrolic_Conductivity</th>\n",
       "      <th>Depth_to_Acquifer</th>\n",
       "      <th>Aquirfer_Media</th>\n",
       "    </tr>\n",
       "  </thead>\n",
       "  <tbody>\n",
       "    <tr>\n",
       "      <th>0</th>\n",
       "      <td>3254</td>\n",
       "      <td>2</td>\n",
       "      <td>None</td>\n",
       "      <td>6</td>\n",
       "      <td>1</td>\n",
       "      <td>3</td>\n",
       "      <td>1</td>\n",
       "      <td>5</td>\n",
       "      <td>1</td>\n",
       "    </tr>\n",
       "    <tr>\n",
       "      <th>1</th>\n",
       "      <td>3255</td>\n",
       "      <td>3</td>\n",
       "      <td>3</td>\n",
       "      <td>4</td>\n",
       "      <td>1</td>\n",
       "      <td>3</td>\n",
       "      <td>1</td>\n",
       "      <td>5</td>\n",
       "      <td>1</td>\n",
       "    </tr>\n",
       "    <tr>\n",
       "      <th>2</th>\n",
       "      <td>3256</td>\n",
       "      <td>3</td>\n",
       "      <td>3</td>\n",
       "      <td>4</td>\n",
       "      <td>1</td>\n",
       "      <td>3</td>\n",
       "      <td>1</td>\n",
       "      <td>5</td>\n",
       "      <td>1</td>\n",
       "    </tr>\n",
       "    <tr>\n",
       "      <th>3</th>\n",
       "      <td>3257</td>\n",
       "      <td>3</td>\n",
       "      <td>1</td>\n",
       "      <td>4</td>\n",
       "      <td>1</td>\n",
       "      <td>3</td>\n",
       "      <td>1</td>\n",
       "      <td>5</td>\n",
       "      <td>1</td>\n",
       "    </tr>\n",
       "    <tr>\n",
       "      <th>4</th>\n",
       "      <td>3258</td>\n",
       "      <td>3</td>\n",
       "      <td>2</td>\n",
       "      <td>4</td>\n",
       "      <td>1</td>\n",
       "      <td>3</td>\n",
       "      <td>1</td>\n",
       "      <td>5</td>\n",
       "      <td>1</td>\n",
       "    </tr>\n",
       "  </tbody>\n",
       "</table>\n",
       "</div>"
      ],
      "text/plain": [
       "   pointid  grid_code Tropograpy Soil__Media Net_Recharge  \\\n",
       "0     3254          2       None           6            1   \n",
       "1     3255          3          3           4            1   \n",
       "2     3256          3          3           4            1   \n",
       "3     3257          3          1           4            1   \n",
       "4     3258          3          2           4            1   \n",
       "\n",
       "   Impact_Vandose_Zone  Hydrolic_Conductivity  Depth_to_Acquifer  \\\n",
       "0                    3                      1                  5   \n",
       "1                    3                      1                  5   \n",
       "2                    3                      1                  5   \n",
       "3                    3                      1                  5   \n",
       "4                    3                      1                  5   \n",
       "\n",
       "   Aquirfer_Media  \n",
       "0               1  \n",
       "1               1  \n",
       "2               1  \n",
       "3               1  \n",
       "4               1  "
      ]
     },
     "execution_count": 14,
     "metadata": {},
     "output_type": "execute_result"
    }
   ],
   "source": [
    "df1.head()"
   ]
  },
  {
   "cell_type": "markdown",
   "id": "4a86d7b9-d1b0-4523-852c-b073608881c6",
   "metadata": {},
   "source": [
    "#### Imputation (Filling None values with Central values (Mean/Median/Mode), here is the Mean as all are numerical data\n",
    "#### Using KNN Imputation.."
   ]
  },
  {
   "cell_type": "code",
   "execution_count": 10,
   "id": "9b325a92-6291-4836-b8b6-250058c576fc",
   "metadata": {},
   "outputs": [],
   "source": [
    "from sklearn.impute import KNNImputer"
   ]
  },
  {
   "cell_type": "code",
   "execution_count": 11,
   "id": "a65afd56-9d9e-453a-b837-37b7c96055e1",
   "metadata": {},
   "outputs": [
    {
     "name": "stdout",
     "output_type": "stream",
     "text": [
      "Original DataFrame:\n",
      "   pointid  grid_code Tropograpy Soil__Media Net_Recharge  \\\n",
      "0     3254          2       None           6            1   \n",
      "1     3255          3          3           4            1   \n",
      "2     3256          3          3           4            1   \n",
      "\n",
      "   Impact_Vandose_Zone  Hydrolic_Conductivity  Depth_to_Acquifer  \\\n",
      "0                    3                      1                  5   \n",
      "1                    3                      1                  5   \n",
      "2                    3                      1                  5   \n",
      "\n",
      "   Aquirfer_Media  \n",
      "0               1  \n",
      "1               1  \n",
      "2               1  \n",
      "\n",
      "DataFrame after KNN Imputation:\n",
      "   pointid  grid_code  Tropograpy  Soil__Media  Net_Recharge  \\\n",
      "0   3254.0        2.0         3.0          6.0           1.0   \n",
      "1   3255.0        3.0         3.0          4.0           1.0   \n",
      "2   3256.0        3.0         3.0          4.0           1.0   \n",
      "\n",
      "   Impact_Vandose_Zone  Hydrolic_Conductivity  Depth_to_Acquifer  \\\n",
      "0                  3.0                    1.0                5.0   \n",
      "1                  3.0                    1.0                5.0   \n",
      "2                  3.0                    1.0                5.0   \n",
      "\n",
      "   Aquirfer_Media  \n",
      "0             1.0  \n",
      "1             1.0  \n",
      "2             1.0  \n"
     ]
    }
   ],
   "source": [
    "df = pd.DataFrame(df1)\n",
    "\n",
    "# Initialize KNNImputer with a specified number of neighbors\n",
    "imputer = KNNImputer(n_neighbors=2)\n",
    "\n",
    "# Apply KNN imputation on the entire DataFrame\n",
    "df_imputed = pd.DataFrame(imputer.fit_transform(df), columns=df.columns)\n",
    "\n",
    "print(\"Original DataFrame:\")\n",
    "print(df1.head(3))\n",
    "print(\"\\nDataFrame after KNN Imputation:\")\n",
    "print(df_imputed.head(3))"
   ]
  },
  {
   "cell_type": "code",
   "execution_count": 12,
   "id": "d5e153d0-2ac3-45d9-b2e2-8db25395eded",
   "metadata": {},
   "outputs": [
    {
     "data": {
      "text/html": [
       "<div>\n",
       "<style scoped>\n",
       "    .dataframe tbody tr th:only-of-type {\n",
       "        vertical-align: middle;\n",
       "    }\n",
       "\n",
       "    .dataframe tbody tr th {\n",
       "        vertical-align: top;\n",
       "    }\n",
       "\n",
       "    .dataframe thead th {\n",
       "        text-align: right;\n",
       "    }\n",
       "</style>\n",
       "<table border=\"1\" class=\"dataframe\">\n",
       "  <thead>\n",
       "    <tr style=\"text-align: right;\">\n",
       "      <th></th>\n",
       "      <th>pointid</th>\n",
       "      <th>grid_code</th>\n",
       "      <th>Tropograpy</th>\n",
       "      <th>Soil__Media</th>\n",
       "      <th>Net_Recharge</th>\n",
       "      <th>Impact_Vandose_Zone</th>\n",
       "      <th>Hydrolic_Conductivity</th>\n",
       "      <th>Depth_to_Acquifer</th>\n",
       "      <th>Aquirfer_Media</th>\n",
       "    </tr>\n",
       "  </thead>\n",
       "  <tbody>\n",
       "    <tr>\n",
       "      <th>count</th>\n",
       "      <td>31918.000000</td>\n",
       "      <td>31918.000000</td>\n",
       "      <td>31918.000000</td>\n",
       "      <td>31918.000000</td>\n",
       "      <td>31918.000000</td>\n",
       "      <td>31918.000000</td>\n",
       "      <td>31918.000000</td>\n",
       "      <td>31918.000000</td>\n",
       "      <td>31918.000000</td>\n",
       "    </tr>\n",
       "    <tr>\n",
       "      <th>mean</th>\n",
       "      <td>15959.500000</td>\n",
       "      <td>2.351776</td>\n",
       "      <td>2.066624</td>\n",
       "      <td>3.168040</td>\n",
       "      <td>3.577339</td>\n",
       "      <td>2.720753</td>\n",
       "      <td>2.791215</td>\n",
       "      <td>3.054891</td>\n",
       "      <td>1.446958</td>\n",
       "    </tr>\n",
       "    <tr>\n",
       "      <th>std</th>\n",
       "      <td>9214.077282</td>\n",
       "      <td>1.268634</td>\n",
       "      <td>0.912546</td>\n",
       "      <td>1.756301</td>\n",
       "      <td>1.291732</td>\n",
       "      <td>0.789021</td>\n",
       "      <td>1.178903</td>\n",
       "      <td>1.591383</td>\n",
       "      <td>0.991199</td>\n",
       "    </tr>\n",
       "    <tr>\n",
       "      <th>min</th>\n",
       "      <td>1.000000</td>\n",
       "      <td>1.000000</td>\n",
       "      <td>1.000000</td>\n",
       "      <td>1.000000</td>\n",
       "      <td>1.000000</td>\n",
       "      <td>0.000000</td>\n",
       "      <td>0.000000</td>\n",
       "      <td>0.000000</td>\n",
       "      <td>0.000000</td>\n",
       "    </tr>\n",
       "    <tr>\n",
       "      <th>25%</th>\n",
       "      <td>7980.250000</td>\n",
       "      <td>1.000000</td>\n",
       "      <td>1.000000</td>\n",
       "      <td>1.000000</td>\n",
       "      <td>3.000000</td>\n",
       "      <td>2.000000</td>\n",
       "      <td>2.000000</td>\n",
       "      <td>1.000000</td>\n",
       "      <td>1.000000</td>\n",
       "    </tr>\n",
       "    <tr>\n",
       "      <th>50%</th>\n",
       "      <td>15959.500000</td>\n",
       "      <td>3.000000</td>\n",
       "      <td>2.000000</td>\n",
       "      <td>4.000000</td>\n",
       "      <td>4.000000</td>\n",
       "      <td>3.000000</td>\n",
       "      <td>3.000000</td>\n",
       "      <td>3.000000</td>\n",
       "      <td>1.000000</td>\n",
       "    </tr>\n",
       "    <tr>\n",
       "      <th>75%</th>\n",
       "      <td>23938.750000</td>\n",
       "      <td>4.000000</td>\n",
       "      <td>3.000000</td>\n",
       "      <td>4.000000</td>\n",
       "      <td>5.000000</td>\n",
       "      <td>3.000000</td>\n",
       "      <td>4.000000</td>\n",
       "      <td>5.000000</td>\n",
       "      <td>1.000000</td>\n",
       "    </tr>\n",
       "    <tr>\n",
       "      <th>max</th>\n",
       "      <td>31918.000000</td>\n",
       "      <td>5.000000</td>\n",
       "      <td>5.000000</td>\n",
       "      <td>7.000000</td>\n",
       "      <td>5.000000</td>\n",
       "      <td>5.000000</td>\n",
       "      <td>5.000000</td>\n",
       "      <td>5.000000</td>\n",
       "      <td>5.000000</td>\n",
       "    </tr>\n",
       "  </tbody>\n",
       "</table>\n",
       "</div>"
      ],
      "text/plain": [
       "            pointid     grid_code    Tropograpy   Soil__Media  Net_Recharge  \\\n",
       "count  31918.000000  31918.000000  31918.000000  31918.000000  31918.000000   \n",
       "mean   15959.500000      2.351776      2.066624      3.168040      3.577339   \n",
       "std     9214.077282      1.268634      0.912546      1.756301      1.291732   \n",
       "min        1.000000      1.000000      1.000000      1.000000      1.000000   \n",
       "25%     7980.250000      1.000000      1.000000      1.000000      3.000000   \n",
       "50%    15959.500000      3.000000      2.000000      4.000000      4.000000   \n",
       "75%    23938.750000      4.000000      3.000000      4.000000      5.000000   \n",
       "max    31918.000000      5.000000      5.000000      7.000000      5.000000   \n",
       "\n",
       "       Impact_Vandose_Zone  Hydrolic_Conductivity  Depth_to_Acquifer  \\\n",
       "count         31918.000000           31918.000000       31918.000000   \n",
       "mean              2.720753               2.791215           3.054891   \n",
       "std               0.789021               1.178903           1.591383   \n",
       "min               0.000000               0.000000           0.000000   \n",
       "25%               2.000000               2.000000           1.000000   \n",
       "50%               3.000000               3.000000           3.000000   \n",
       "75%               3.000000               4.000000           5.000000   \n",
       "max               5.000000               5.000000           5.000000   \n",
       "\n",
       "       Aquirfer_Media  \n",
       "count    31918.000000  \n",
       "mean         1.446958  \n",
       "std          0.991199  \n",
       "min          0.000000  \n",
       "25%          1.000000  \n",
       "50%          1.000000  \n",
       "75%          1.000000  \n",
       "max          5.000000  "
      ]
     },
     "execution_count": 12,
     "metadata": {},
     "output_type": "execute_result"
    }
   ],
   "source": [
    "df_imputed.describe()"
   ]
  },
  {
   "cell_type": "code",
   "execution_count": 13,
   "id": "c21b3404-b141-4280-a8ad-4929c867b312",
   "metadata": {},
   "outputs": [
    {
     "data": {
      "image/png": "[encoded data removed]",
      "text/plain": [
       "<Figure size 1000x800 with 9 Axes>"
      ]
     },
     "metadata": {},
     "output_type": "display_data"
    }
   ],
   "source": [
    "# Plot histogram for each feature\n",
    "df_imputed.loc[:, ~df.columns.isin(['pointid', 'grid_code'])].hist(bins=20, figsize=(10, 8))\n",
    "plt.show()"
   ]
  },
  {
   "cell_type": "code",
   "execution_count": 14,
   "id": "4e4dd80c-023c-4859-9f78-4f14479b1344",
   "metadata": {},
   "outputs": [],
   "source": [
    "df_cleaned = df_imputed"
   ]
  },
  {
   "cell_type": "code",
   "execution_count": 15,
   "id": "0f217ad5-297d-4c59-aec1-4eb4fd9d733c",
   "metadata": {},
   "outputs": [
    {
     "data": {
      "text/plain": [
       "31918"
      ]
     },
     "execution_count": 15,
     "metadata": {},
     "output_type": "execute_result"
    }
   ],
   "source": [
    "df_cleaned['pointid'].nunique()"
   ]
  },
  {
   "cell_type": "code",
   "execution_count": 16,
   "id": "06413f1a-b9c4-4156-9345-83b7809765d2",
   "metadata": {
    "scrolled": true
   },
   "outputs": [
    {
     "data": {
      "text/html": [
       "<div>\n",
       "<style scoped>\n",
       "    .dataframe tbody tr th:only-of-type {\n",
       "        vertical-align: middle;\n",
       "    }\n",
       "\n",
       "    .dataframe tbody tr th {\n",
       "        vertical-align: top;\n",
       "    }\n",
       "\n",
       "    .dataframe thead th {\n",
       "        text-align: right;\n",
       "    }\n",
       "</style>\n",
       "<table border=\"1\" class=\"dataframe\">\n",
       "  <thead>\n",
       "    <tr style=\"text-align: right;\">\n",
       "      <th></th>\n",
       "      <th>pointid</th>\n",
       "      <th>grid_code</th>\n",
       "      <th>Tropograpy</th>\n",
       "      <th>Soil__Media</th>\n",
       "      <th>Net_Recharge</th>\n",
       "      <th>Impact_Vandose_Zone</th>\n",
       "      <th>Hydrolic_Conductivity</th>\n",
       "      <th>Depth_to_Acquifer</th>\n",
       "      <th>Aquirfer_Media</th>\n",
       "    </tr>\n",
       "  </thead>\n",
       "  <tbody>\n",
       "    <tr>\n",
       "      <th>0</th>\n",
       "      <td>3254.0</td>\n",
       "      <td>2.0</td>\n",
       "      <td>3.0</td>\n",
       "      <td>6.0</td>\n",
       "      <td>1.0</td>\n",
       "      <td>3.0</td>\n",
       "      <td>1.0</td>\n",
       "      <td>5.0</td>\n",
       "      <td>1.0</td>\n",
       "    </tr>\n",
       "    <tr>\n",
       "      <th>1</th>\n",
       "      <td>3255.0</td>\n",
       "      <td>3.0</td>\n",
       "      <td>3.0</td>\n",
       "      <td>4.0</td>\n",
       "      <td>1.0</td>\n",
       "      <td>3.0</td>\n",
       "      <td>1.0</td>\n",
       "      <td>5.0</td>\n",
       "      <td>1.0</td>\n",
       "    </tr>\n",
       "    <tr>\n",
       "      <th>2</th>\n",
       "      <td>3256.0</td>\n",
       "      <td>3.0</td>\n",
       "      <td>3.0</td>\n",
       "      <td>4.0</td>\n",
       "      <td>1.0</td>\n",
       "      <td>3.0</td>\n",
       "      <td>1.0</td>\n",
       "      <td>5.0</td>\n",
       "      <td>1.0</td>\n",
       "    </tr>\n",
       "    <tr>\n",
       "      <th>3</th>\n",
       "      <td>3257.0</td>\n",
       "      <td>3.0</td>\n",
       "      <td>1.0</td>\n",
       "      <td>4.0</td>\n",
       "      <td>1.0</td>\n",
       "      <td>3.0</td>\n",
       "      <td>1.0</td>\n",
       "      <td>5.0</td>\n",
       "      <td>1.0</td>\n",
       "    </tr>\n",
       "    <tr>\n",
       "      <th>4</th>\n",
       "      <td>3258.0</td>\n",
       "      <td>3.0</td>\n",
       "      <td>2.0</td>\n",
       "      <td>4.0</td>\n",
       "      <td>1.0</td>\n",
       "      <td>3.0</td>\n",
       "      <td>1.0</td>\n",
       "      <td>5.0</td>\n",
       "      <td>1.0</td>\n",
       "    </tr>\n",
       "  </tbody>\n",
       "</table>\n",
       "</div>"
      ],
      "text/plain": [
       "   pointid  grid_code  Tropograpy  Soil__Media  Net_Recharge  \\\n",
       "0   3254.0        2.0         3.0          6.0           1.0   \n",
       "1   3255.0        3.0         3.0          4.0           1.0   \n",
       "2   3256.0        3.0         3.0          4.0           1.0   \n",
       "3   3257.0        3.0         1.0          4.0           1.0   \n",
       "4   3258.0        3.0         2.0          4.0           1.0   \n",
       "\n",
       "   Impact_Vandose_Zone  Hydrolic_Conductivity  Depth_to_Acquifer  \\\n",
       "0                  3.0                    1.0                5.0   \n",
       "1                  3.0                    1.0                5.0   \n",
       "2                  3.0                    1.0                5.0   \n",
       "3                  3.0                    1.0                5.0   \n",
       "4                  3.0                    1.0                5.0   \n",
       "\n",
       "   Aquirfer_Media  \n",
       "0             1.0  \n",
       "1             1.0  \n",
       "2             1.0  \n",
       "3             1.0  \n",
       "4             1.0  "
      ]
     },
     "execution_count": 16,
     "metadata": {},
     "output_type": "execute_result"
    }
   ],
   "source": [
    "df_cleaned.head()"
   ]
  },
  {
   "cell_type": "markdown",
   "id": "53440650-9db5-4437-b68c-3838b36275c7",
   "metadata": {},
   "source": [
    "#### Find duplicate rows aggregated the 7 (DRASTIC) params column values"
   ]
  },
  {
   "cell_type": "code",
   "execution_count": 38,
   "id": "69e3f7d0-94b4-4b38-a4c1-1eb69949a1fc",
   "metadata": {},
   "outputs": [],
   "source": [
    "Xx = df_cleaned.iloc[:, 2:]"
   ]
  },
  {
   "cell_type": "code",
   "execution_count": 40,
   "id": "efe50d11-4626-4c09-919f-2c6c771e563d",
   "metadata": {},
   "outputs": [
    {
     "data": {
      "text/html": [
       "<div>\n",
       "<style scoped>\n",
       "    .dataframe tbody tr th:only-of-type {\n",
       "        vertical-align: middle;\n",
       "    }\n",
       "\n",
       "    .dataframe tbody tr th {\n",
       "        vertical-align: top;\n",
       "    }\n",
       "\n",
       "    .dataframe thead th {\n",
       "        text-align: right;\n",
       "    }\n",
       "</style>\n",
       "<table border=\"1\" class=\"dataframe\">\n",
       "  <thead>\n",
       "    <tr style=\"text-align: right;\">\n",
       "      <th></th>\n",
       "      <th>Tropograpy</th>\n",
       "      <th>Soil__Media</th>\n",
       "      <th>Net_Recharge</th>\n",
       "      <th>Impact_Vandose_Zone</th>\n",
       "      <th>Hydrolic_Conductivity</th>\n",
       "      <th>Depth_to_Acquifer</th>\n",
       "      <th>Aquirfer_Media</th>\n",
       "    </tr>\n",
       "  </thead>\n",
       "  <tbody>\n",
       "    <tr>\n",
       "      <th>0</th>\n",
       "      <td>3.0</td>\n",
       "      <td>6.0</td>\n",
       "      <td>1.0</td>\n",
       "      <td>3.0</td>\n",
       "      <td>1.0</td>\n",
       "      <td>5.0</td>\n",
       "      <td>1.0</td>\n",
       "    </tr>\n",
       "    <tr>\n",
       "      <th>1</th>\n",
       "      <td>3.0</td>\n",
       "      <td>4.0</td>\n",
       "      <td>1.0</td>\n",
       "      <td>3.0</td>\n",
       "      <td>1.0</td>\n",
       "      <td>5.0</td>\n",
       "      <td>1.0</td>\n",
       "    </tr>\n",
       "    <tr>\n",
       "      <th>2</th>\n",
       "      <td>3.0</td>\n",
       "      <td>4.0</td>\n",
       "      <td>1.0</td>\n",
       "      <td>3.0</td>\n",
       "      <td>1.0</td>\n",
       "      <td>5.0</td>\n",
       "      <td>1.0</td>\n",
       "    </tr>\n",
       "  </tbody>\n",
       "</table>\n",
       "</div>"
      ],
      "text/plain": [
       "   Tropograpy  Soil__Media  Net_Recharge  Impact_Vandose_Zone  \\\n",
       "0         3.0          6.0           1.0                  3.0   \n",
       "1         3.0          4.0           1.0                  3.0   \n",
       "2         3.0          4.0           1.0                  3.0   \n",
       "\n",
       "   Hydrolic_Conductivity  Depth_to_Acquifer  Aquirfer_Media  \n",
       "0                    1.0                5.0             1.0  \n",
       "1                    1.0                5.0             1.0  \n",
       "2                    1.0                5.0             1.0  "
      ]
     },
     "execution_count": 40,
     "metadata": {},
     "output_type": "execute_result"
    }
   ],
   "source": [
    "Xx.head(3)"
   ]
  },
  {
   "cell_type": "code",
   "execution_count": 39,
   "id": "4cc77a70-745c-4918-9235-2dc9f4359d9f",
   "metadata": {
    "scrolled": true
   },
   "outputs": [
    {
     "data": {
      "text/html": [
       "<div>\n",
       "<style scoped>\n",
       "    .dataframe tbody tr th:only-of-type {\n",
       "        vertical-align: middle;\n",
       "    }\n",
       "\n",
       "    .dataframe tbody tr th {\n",
       "        vertical-align: top;\n",
       "    }\n",
       "\n",
       "    .dataframe thead th {\n",
       "        text-align: right;\n",
       "    }\n",
       "</style>\n",
       "<table border=\"1\" class=\"dataframe\">\n",
       "  <thead>\n",
       "    <tr style=\"text-align: right;\">\n",
       "      <th></th>\n",
       "      <th>Tropograpy</th>\n",
       "      <th>Soil__Media</th>\n",
       "      <th>Net_Recharge</th>\n",
       "      <th>Impact_Vandose_Zone</th>\n",
       "      <th>Hydrolic_Conductivity</th>\n",
       "      <th>Depth_to_Acquifer</th>\n",
       "      <th>Aquirfer_Media</th>\n",
       "    </tr>\n",
       "  </thead>\n",
       "  <tbody>\n",
       "    <tr>\n",
       "      <th>2</th>\n",
       "      <td>3.0</td>\n",
       "      <td>4.0</td>\n",
       "      <td>1.0</td>\n",
       "      <td>3.0</td>\n",
       "      <td>1.0</td>\n",
       "      <td>5.0</td>\n",
       "      <td>1.0</td>\n",
       "    </tr>\n",
       "    <tr>\n",
       "      <th>7</th>\n",
       "      <td>1.0</td>\n",
       "      <td>4.0</td>\n",
       "      <td>1.0</td>\n",
       "      <td>2.0</td>\n",
       "      <td>1.0</td>\n",
       "      <td>5.0</td>\n",
       "      <td>1.0</td>\n",
       "    </tr>\n",
       "    <tr>\n",
       "      <th>8</th>\n",
       "      <td>1.0</td>\n",
       "      <td>4.0</td>\n",
       "      <td>1.0</td>\n",
       "      <td>3.0</td>\n",
       "      <td>1.0</td>\n",
       "      <td>5.0</td>\n",
       "      <td>1.0</td>\n",
       "    </tr>\n",
       "    <tr>\n",
       "      <th>9</th>\n",
       "      <td>3.0</td>\n",
       "      <td>6.0</td>\n",
       "      <td>1.0</td>\n",
       "      <td>3.0</td>\n",
       "      <td>1.0</td>\n",
       "      <td>5.0</td>\n",
       "      <td>1.0</td>\n",
       "    </tr>\n",
       "    <tr>\n",
       "      <th>13</th>\n",
       "      <td>3.0</td>\n",
       "      <td>4.0</td>\n",
       "      <td>1.0</td>\n",
       "      <td>3.0</td>\n",
       "      <td>1.0</td>\n",
       "      <td>5.0</td>\n",
       "      <td>1.0</td>\n",
       "    </tr>\n",
       "    <tr>\n",
       "      <th>...</th>\n",
       "      <td>...</td>\n",
       "      <td>...</td>\n",
       "      <td>...</td>\n",
       "      <td>...</td>\n",
       "      <td>...</td>\n",
       "      <td>...</td>\n",
       "      <td>...</td>\n",
       "    </tr>\n",
       "    <tr>\n",
       "      <th>31910</th>\n",
       "      <td>3.0</td>\n",
       "      <td>4.0</td>\n",
       "      <td>3.0</td>\n",
       "      <td>3.0</td>\n",
       "      <td>2.0</td>\n",
       "      <td>5.0</td>\n",
       "      <td>1.0</td>\n",
       "    </tr>\n",
       "    <tr>\n",
       "      <th>31911</th>\n",
       "      <td>3.0</td>\n",
       "      <td>4.0</td>\n",
       "      <td>3.0</td>\n",
       "      <td>2.0</td>\n",
       "      <td>2.0</td>\n",
       "      <td>5.0</td>\n",
       "      <td>1.0</td>\n",
       "    </tr>\n",
       "    <tr>\n",
       "      <th>31912</th>\n",
       "      <td>1.0</td>\n",
       "      <td>4.0</td>\n",
       "      <td>3.0</td>\n",
       "      <td>3.0</td>\n",
       "      <td>2.0</td>\n",
       "      <td>5.0</td>\n",
       "      <td>1.0</td>\n",
       "    </tr>\n",
       "    <tr>\n",
       "      <th>31913</th>\n",
       "      <td>1.0</td>\n",
       "      <td>6.0</td>\n",
       "      <td>3.0</td>\n",
       "      <td>3.0</td>\n",
       "      <td>2.0</td>\n",
       "      <td>5.0</td>\n",
       "      <td>1.0</td>\n",
       "    </tr>\n",
       "    <tr>\n",
       "      <th>31916</th>\n",
       "      <td>2.0</td>\n",
       "      <td>6.0</td>\n",
       "      <td>2.0</td>\n",
       "      <td>0.0</td>\n",
       "      <td>0.0</td>\n",
       "      <td>0.0</td>\n",
       "      <td>0.0</td>\n",
       "    </tr>\n",
       "  </tbody>\n",
       "</table>\n",
       "<p>30540 rows × 7 columns</p>\n",
       "</div>"
      ],
      "text/plain": [
       "       Tropograpy  Soil__Media  Net_Recharge  Impact_Vandose_Zone  \\\n",
       "2             3.0          4.0           1.0                  3.0   \n",
       "7             1.0          4.0           1.0                  2.0   \n",
       "8             1.0          4.0           1.0                  3.0   \n",
       "9             3.0          6.0           1.0                  3.0   \n",
       "13            3.0          4.0           1.0                  3.0   \n",
       "...           ...          ...           ...                  ...   \n",
       "31910         3.0          4.0           3.0                  3.0   \n",
       "31911         3.0          4.0           3.0                  2.0   \n",
       "31912         1.0          4.0           3.0                  3.0   \n",
       "31913         1.0          6.0           3.0                  3.0   \n",
       "31916         2.0          6.0           2.0                  0.0   \n",
       "\n",
       "       Hydrolic_Conductivity  Depth_to_Acquifer  Aquirfer_Media  \n",
       "2                        1.0                5.0             1.0  \n",
       "7                        1.0                5.0             1.0  \n",
       "8                        1.0                5.0             1.0  \n",
       "9                        1.0                5.0             1.0  \n",
       "13                       1.0                5.0             1.0  \n",
       "...                      ...                ...             ...  \n",
       "31910                    2.0                5.0             1.0  \n",
       "31911                    2.0                5.0             1.0  \n",
       "31912                    2.0                5.0             1.0  \n",
       "31913                    2.0                5.0             1.0  \n",
       "31916                    0.0                0.0             0.0  \n",
       "\n",
       "[30540 rows x 7 columns]"
      ]
     },
     "execution_count": 39,
     "metadata": {},
     "output_type": "execute_result"
    }
   ],
   "source": [
    "duplicate = Xx[Xx.duplicated()]\n",
    "duplicate"
   ]
  },
  {
   "cell_type": "code",
   "execution_count": 41,
   "id": "f1391f3f-0dbf-416f-94e7-4c48152ecf89",
   "metadata": {},
   "outputs": [],
   "source": [
    "Xx = df_cleaned.drop(['grid_code'], axis=1)"
   ]
  },
  {
   "cell_type": "code",
   "execution_count": 42,
   "id": "0945809d-ccc7-481b-87e7-61ea60c891ec",
   "metadata": {},
   "outputs": [
    {
     "data": {
      "text/html": [
       "<div>\n",
       "<style scoped>\n",
       "    .dataframe tbody tr th:only-of-type {\n",
       "        vertical-align: middle;\n",
       "    }\n",
       "\n",
       "    .dataframe tbody tr th {\n",
       "        vertical-align: top;\n",
       "    }\n",
       "\n",
       "    .dataframe thead th {\n",
       "        text-align: right;\n",
       "    }\n",
       "</style>\n",
       "<table border=\"1\" class=\"dataframe\">\n",
       "  <thead>\n",
       "    <tr style=\"text-align: right;\">\n",
       "      <th></th>\n",
       "      <th>pointid</th>\n",
       "      <th>Tropograpy</th>\n",
       "      <th>Soil__Media</th>\n",
       "      <th>Net_Recharge</th>\n",
       "      <th>Impact_Vandose_Zone</th>\n",
       "      <th>Hydrolic_Conductivity</th>\n",
       "      <th>Depth_to_Acquifer</th>\n",
       "      <th>Aquirfer_Media</th>\n",
       "    </tr>\n",
       "  </thead>\n",
       "  <tbody>\n",
       "    <tr>\n",
       "      <th>0</th>\n",
       "      <td>3254.0</td>\n",
       "      <td>3.0</td>\n",
       "      <td>6.0</td>\n",
       "      <td>1.0</td>\n",
       "      <td>3.0</td>\n",
       "      <td>1.0</td>\n",
       "      <td>5.0</td>\n",
       "      <td>1.0</td>\n",
       "    </tr>\n",
       "    <tr>\n",
       "      <th>1</th>\n",
       "      <td>3255.0</td>\n",
       "      <td>3.0</td>\n",
       "      <td>4.0</td>\n",
       "      <td>1.0</td>\n",
       "      <td>3.0</td>\n",
       "      <td>1.0</td>\n",
       "      <td>5.0</td>\n",
       "      <td>1.0</td>\n",
       "    </tr>\n",
       "    <tr>\n",
       "      <th>2</th>\n",
       "      <td>3256.0</td>\n",
       "      <td>3.0</td>\n",
       "      <td>4.0</td>\n",
       "      <td>1.0</td>\n",
       "      <td>3.0</td>\n",
       "      <td>1.0</td>\n",
       "      <td>5.0</td>\n",
       "      <td>1.0</td>\n",
       "    </tr>\n",
       "  </tbody>\n",
       "</table>\n",
       "</div>"
      ],
      "text/plain": [
       "   pointid  Tropograpy  Soil__Media  Net_Recharge  Impact_Vandose_Zone  \\\n",
       "0   3254.0         3.0          6.0           1.0                  3.0   \n",
       "1   3255.0         3.0          4.0           1.0                  3.0   \n",
       "2   3256.0         3.0          4.0           1.0                  3.0   \n",
       "\n",
       "   Hydrolic_Conductivity  Depth_to_Acquifer  Aquirfer_Media  \n",
       "0                    1.0                5.0             1.0  \n",
       "1                    1.0                5.0             1.0  \n",
       "2                    1.0                5.0             1.0  "
      ]
     },
     "execution_count": 42,
     "metadata": {},
     "output_type": "execute_result"
    }
   ],
   "source": [
    "Xx.head(3)"
   ]
  },
  {
   "cell_type": "code",
   "execution_count": 43,
   "id": "5faeb5fd-1373-4c73-a375-a02b7b119826",
   "metadata": {
    "scrolled": true
   },
   "outputs": [
    {
     "name": "stdout",
     "output_type": "stream",
     "text": [
      "No duplicate rows found.\n"
     ]
    }
   ],
   "source": [
    "# Find duplicate rows based on the 'ID' column (primary key)\n",
    "duplicates = Xx[Xx['pointid'].duplicated(keep=False)]\n",
    "\n",
    "if duplicates.empty:\n",
    "    print(\"No duplicate rows found.\")\n",
    "else:\n",
    "    print(\"Duplicate rows found:\")\n",
    "    print(duplicates)"
   ]
  },
  {
   "cell_type": "code",
   "execution_count": 52,
   "id": "c840f314-e64f-4a4d-b912-a0746d5867a9",
   "metadata": {},
   "outputs": [],
   "source": [
    "DRASTIC_COLS = ['Tropograpy', 'Soil__Media', 'Net_Recharge', 'Impact_Vandose_Zone', 'Hydrolic_Conductivity', 'Depth_to_Acquifer', 'Aquirfer_Media']"
   ]
  },
  {
   "cell_type": "code",
   "execution_count": 54,
   "id": "022a5d26-925d-40d2-a6bd-ee6bc933706d",
   "metadata": {},
   "outputs": [
    {
     "data": {
      "text/html": [
       "<div>\n",
       "<style scoped>\n",
       "    .dataframe tbody tr th:only-of-type {\n",
       "        vertical-align: middle;\n",
       "    }\n",
       "\n",
       "    .dataframe tbody tr th {\n",
       "        vertical-align: top;\n",
       "    }\n",
       "\n",
       "    .dataframe thead th {\n",
       "        text-align: right;\n",
       "    }\n",
       "</style>\n",
       "<table border=\"1\" class=\"dataframe\">\n",
       "  <thead>\n",
       "    <tr style=\"text-align: right;\">\n",
       "      <th></th>\n",
       "      <th>Tropograpy</th>\n",
       "      <th>Soil__Media</th>\n",
       "      <th>Net_Recharge</th>\n",
       "      <th>Impact_Vandose_Zone</th>\n",
       "      <th>Hydrolic_Conductivity</th>\n",
       "      <th>Depth_to_Acquifer</th>\n",
       "      <th>Aquirfer_Media</th>\n",
       "    </tr>\n",
       "  </thead>\n",
       "  <tbody>\n",
       "    <tr>\n",
       "      <th>0</th>\n",
       "      <td>3.0</td>\n",
       "      <td>6.0</td>\n",
       "      <td>1.0</td>\n",
       "      <td>3.0</td>\n",
       "      <td>1.0</td>\n",
       "      <td>5.0</td>\n",
       "      <td>1.0</td>\n",
       "    </tr>\n",
       "    <tr>\n",
       "      <th>1</th>\n",
       "      <td>3.0</td>\n",
       "      <td>4.0</td>\n",
       "      <td>1.0</td>\n",
       "      <td>3.0</td>\n",
       "      <td>1.0</td>\n",
       "      <td>5.0</td>\n",
       "      <td>1.0</td>\n",
       "    </tr>\n",
       "    <tr>\n",
       "      <th>2</th>\n",
       "      <td>3.0</td>\n",
       "      <td>4.0</td>\n",
       "      <td>1.0</td>\n",
       "      <td>3.0</td>\n",
       "      <td>1.0</td>\n",
       "      <td>5.0</td>\n",
       "      <td>1.0</td>\n",
       "    </tr>\n",
       "    <tr>\n",
       "      <th>3</th>\n",
       "      <td>1.0</td>\n",
       "      <td>4.0</td>\n",
       "      <td>1.0</td>\n",
       "      <td>3.0</td>\n",
       "      <td>1.0</td>\n",
       "      <td>5.0</td>\n",
       "      <td>1.0</td>\n",
       "    </tr>\n",
       "    <tr>\n",
       "      <th>4</th>\n",
       "      <td>2.0</td>\n",
       "      <td>4.0</td>\n",
       "      <td>1.0</td>\n",
       "      <td>3.0</td>\n",
       "      <td>1.0</td>\n",
       "      <td>5.0</td>\n",
       "      <td>1.0</td>\n",
       "    </tr>\n",
       "    <tr>\n",
       "      <th>...</th>\n",
       "      <td>...</td>\n",
       "      <td>...</td>\n",
       "      <td>...</td>\n",
       "      <td>...</td>\n",
       "      <td>...</td>\n",
       "      <td>...</td>\n",
       "      <td>...</td>\n",
       "    </tr>\n",
       "    <tr>\n",
       "      <th>31913</th>\n",
       "      <td>1.0</td>\n",
       "      <td>6.0</td>\n",
       "      <td>3.0</td>\n",
       "      <td>3.0</td>\n",
       "      <td>2.0</td>\n",
       "      <td>5.0</td>\n",
       "      <td>1.0</td>\n",
       "    </tr>\n",
       "    <tr>\n",
       "      <th>31914</th>\n",
       "      <td>1.0</td>\n",
       "      <td>4.0</td>\n",
       "      <td>3.0</td>\n",
       "      <td>0.0</td>\n",
       "      <td>0.0</td>\n",
       "      <td>0.0</td>\n",
       "      <td>0.0</td>\n",
       "    </tr>\n",
       "    <tr>\n",
       "      <th>31915</th>\n",
       "      <td>1.0</td>\n",
       "      <td>5.0</td>\n",
       "      <td>3.0</td>\n",
       "      <td>0.0</td>\n",
       "      <td>0.0</td>\n",
       "      <td>0.0</td>\n",
       "      <td>0.0</td>\n",
       "    </tr>\n",
       "    <tr>\n",
       "      <th>31916</th>\n",
       "      <td>2.0</td>\n",
       "      <td>6.0</td>\n",
       "      <td>2.0</td>\n",
       "      <td>0.0</td>\n",
       "      <td>0.0</td>\n",
       "      <td>0.0</td>\n",
       "      <td>0.0</td>\n",
       "    </tr>\n",
       "    <tr>\n",
       "      <th>31917</th>\n",
       "      <td>3.0</td>\n",
       "      <td>6.0</td>\n",
       "      <td>1.0</td>\n",
       "      <td>0.0</td>\n",
       "      <td>0.0</td>\n",
       "      <td>0.0</td>\n",
       "      <td>0.0</td>\n",
       "    </tr>\n",
       "  </tbody>\n",
       "</table>\n",
       "<p>31918 rows × 7 columns</p>\n",
       "</div>"
      ],
      "text/plain": [
       "       Tropograpy  Soil__Media  Net_Recharge  Impact_Vandose_Zone  \\\n",
       "0             3.0          6.0           1.0                  3.0   \n",
       "1             3.0          4.0           1.0                  3.0   \n",
       "2             3.0          4.0           1.0                  3.0   \n",
       "3             1.0          4.0           1.0                  3.0   \n",
       "4             2.0          4.0           1.0                  3.0   \n",
       "...           ...          ...           ...                  ...   \n",
       "31913         1.0          6.0           3.0                  3.0   \n",
       "31914         1.0          4.0           3.0                  0.0   \n",
       "31915         1.0          5.0           3.0                  0.0   \n",
       "31916         2.0          6.0           2.0                  0.0   \n",
       "31917         3.0          6.0           1.0                  0.0   \n",
       "\n",
       "       Hydrolic_Conductivity  Depth_to_Acquifer  Aquirfer_Media  \n",
       "0                        1.0                5.0             1.0  \n",
       "1                        1.0                5.0             1.0  \n",
       "2                        1.0                5.0             1.0  \n",
       "3                        1.0                5.0             1.0  \n",
       "4                        1.0                5.0             1.0  \n",
       "...                      ...                ...             ...  \n",
       "31913                    2.0                5.0             1.0  \n",
       "31914                    0.0                0.0             0.0  \n",
       "31915                    0.0                0.0             0.0  \n",
       "31916                    0.0                0.0             0.0  \n",
       "31917                    0.0                0.0             0.0  \n",
       "\n",
       "[31918 rows x 7 columns]"
      ]
     },
     "execution_count": 54,
     "metadata": {},
     "output_type": "execute_result"
    }
   ],
   "source": [
    " df_cleaned.iloc[:, 2:]"
   ]
  },
  {
   "cell_type": "code",
   "execution_count": 58,
   "id": "b0589790-0bac-40b8-8f3d-30533b5fc64e",
   "metadata": {
    "scrolled": true
   },
   "outputs": [
    {
     "name": "stdout",
     "output_type": "stream",
     "text": [
      "       Tropograpy  Soil__Media  Net_Recharge  Impact_Vandose_Zone  \\\n",
      "31914         1.0          4.0           3.0                  0.0   \n",
      "31915         1.0          5.0           3.0                  0.0   \n",
      "31917         3.0          6.0           1.0                  0.0   \n",
      "\n",
      "       Hydrolic_Conductivity  Depth_to_Acquifer  Aquirfer_Media  \\\n",
      "31914                    0.0                0.0             0.0   \n",
      "31915                    0.0                0.0             0.0   \n",
      "31917                    0.0                0.0             0.0   \n",
      "\n",
      "                concatenated  Count  \n",
      "31914  1.04.03.00.00.00.00.0      1  \n",
      "31915  1.05.03.00.00.00.00.0      1  \n",
      "31917  3.06.01.00.00.00.00.0      1  \n",
      "(1378, 9)\n"
     ]
    },
    {
     "name": "stderr",
     "output_type": "stream",
     "text": [
      "/var/folders/3d/kxtj402x661f95hx0f4pmdqr0000gn/T/ipykernel_2452/2276872629.py:4: SettingWithCopyWarning: \n",
      "A value is trying to be set on a copy of a slice from a DataFrame.\n",
      "Try using .loc[row_indexer,col_indexer] = value instead\n",
      "\n",
      "See the caveats in the documentation: https://pandas.pydata.org/pandas-docs/stable/user_guide/indexing.html#returning-a-view-versus-a-copy\n",
      "  df['concatenated'] = df.apply(lambda row: ''.join(row[DRASTIC_COLS].astype(str)), axis=1)\n"
     ]
    }
   ],
   "source": [
    "df = df_cleaned.iloc[:, 2:]\n",
    "\n",
    "# Concatenate all columns into a single string\n",
    "df['concatenated'] = df.apply(lambda row: ''.join(row[DRASTIC_COLS].astype(str)), axis=1)\n",
    "\n",
    "# Group by the primary key 'concatenated' and count occurrences\n",
    "grouped_df = df.groupby('concatenated').size().reset_index(name='Count')\n",
    "\n",
    "# Merge the grouped DataFrame with the original DataFrame to get the count for each row\n",
    "df = df.merge(grouped_df, on='concatenated')\n",
    "\n",
    "# Drop duplicate rows based on the 'ID' column, keeping the first occurrence\n",
    "df_unique = df.drop_duplicates(subset='concatenated', keep='first')\n",
    "print(df_unique.tail(3))\n",
    "print(df_unique.shape)"
   ]
  },
  {
   "cell_type": "code",
   "execution_count": 60,
   "id": "830faee6-2cfe-4888-9112-a0cf0e762024",
   "metadata": {},
   "outputs": [],
   "source": [
    "# Sort the DataFrame by the 'Col2' column in descending order\n",
    "df_unique_sorted = df_unique.sort_values(by='Count', ascending=False)\n",
    "# Save the DataFrame to a CSV file\n",
    "df_unique_sorted.to_csv('df_unique_sorted.csv', index=False)"
   ]
  },
  {
   "cell_type": "code",
   "execution_count": 62,
   "id": "dc55a060-34e8-4194-bc6e-e71386e76e61",
   "metadata": {},
   "outputs": [
    {
     "name": "stdout",
     "output_type": "stream",
     "text": [
      "31918\n"
     ]
    }
   ],
   "source": [
    "# Sum all values in the 'A' column\n",
    "sum_of_df_unique_sorted = df_unique_sorted['Count'].sum()\n",
    "\n",
    "print(sum_of_df_unique_sorted)  # Output (should be) - 31918"
   ]
  },
  {
   "cell_type": "code",
   "execution_count": 24,
   "id": "06f03ae4-5750-49d5-b10b-66603a1adc1f",
   "metadata": {},
   "outputs": [],
   "source": [
    "X, y = df_cleaned.iloc[:, 2:], df_cleaned['grid_code']"
   ]
  },
  {
   "cell_type": "code",
   "execution_count": 25,
   "id": "39498e49-45e6-4569-9438-adb420d5fad9",
   "metadata": {},
   "outputs": [
    {
     "name": "stdout",
     "output_type": "stream",
     "text": [
      "(31918, 7)\n",
      "(31918,)\n"
     ]
    }
   ],
   "source": [
    "print(X.shape)\n",
    "print(y.shape)"
   ]
  },
  {
   "cell_type": "code",
   "execution_count": 26,
   "id": "4f653ff1-5705-4b5b-9950-928ab334090e",
   "metadata": {},
   "outputs": [],
   "source": [
    "# X, y = df_cleaned.drop(['grid_code'], axis=1), df_cleaned['grid_code']"
   ]
  },
  {
   "cell_type": "code",
   "execution_count": 23,
   "id": "02466f04-096b-476c-a2e6-e3bf63f68a6c",
   "metadata": {},
   "outputs": [
    {
     "name": "stdout",
     "output_type": "stream",
     "text": [
      "(31918, 8)\n",
      "(31918,)\n"
     ]
    }
   ],
   "source": [
    "print(X.shape)\n",
    "print(y.shape)"
   ]
  },
  {
   "cell_type": "code",
   "execution_count": 27,
   "id": "bddc9d54-89f4-4e96-b16b-49e50d6d9a04",
   "metadata": {},
   "outputs": [
    {
     "data": {
      "text/html": [
       "<div>\n",
       "<style scoped>\n",
       "    .dataframe tbody tr th:only-of-type {\n",
       "        vertical-align: middle;\n",
       "    }\n",
       "\n",
       "    .dataframe tbody tr th {\n",
       "        vertical-align: top;\n",
       "    }\n",
       "\n",
       "    .dataframe thead th {\n",
       "        text-align: right;\n",
       "    }\n",
       "</style>\n",
       "<table border=\"1\" class=\"dataframe\">\n",
       "  <thead>\n",
       "    <tr style=\"text-align: right;\">\n",
       "      <th></th>\n",
       "      <th>Tropograpy</th>\n",
       "      <th>Soil__Media</th>\n",
       "      <th>Net_Recharge</th>\n",
       "      <th>Impact_Vandose_Zone</th>\n",
       "      <th>Hydrolic_Conductivity</th>\n",
       "      <th>Depth_to_Acquifer</th>\n",
       "      <th>Aquirfer_Media</th>\n",
       "    </tr>\n",
       "  </thead>\n",
       "  <tbody>\n",
       "    <tr>\n",
       "      <th>0</th>\n",
       "      <td>3.0</td>\n",
       "      <td>6.0</td>\n",
       "      <td>1.0</td>\n",
       "      <td>3.0</td>\n",
       "      <td>1.0</td>\n",
       "      <td>5.0</td>\n",
       "      <td>1.0</td>\n",
       "    </tr>\n",
       "    <tr>\n",
       "      <th>1</th>\n",
       "      <td>3.0</td>\n",
       "      <td>4.0</td>\n",
       "      <td>1.0</td>\n",
       "      <td>3.0</td>\n",
       "      <td>1.0</td>\n",
       "      <td>5.0</td>\n",
       "      <td>1.0</td>\n",
       "    </tr>\n",
       "    <tr>\n",
       "      <th>2</th>\n",
       "      <td>3.0</td>\n",
       "      <td>4.0</td>\n",
       "      <td>1.0</td>\n",
       "      <td>3.0</td>\n",
       "      <td>1.0</td>\n",
       "      <td>5.0</td>\n",
       "      <td>1.0</td>\n",
       "    </tr>\n",
       "  </tbody>\n",
       "</table>\n",
       "</div>"
      ],
      "text/plain": [
       "   Tropograpy  Soil__Media  Net_Recharge  Impact_Vandose_Zone  \\\n",
       "0         3.0          6.0           1.0                  3.0   \n",
       "1         3.0          4.0           1.0                  3.0   \n",
       "2         3.0          4.0           1.0                  3.0   \n",
       "\n",
       "   Hydrolic_Conductivity  Depth_to_Acquifer  Aquirfer_Media  \n",
       "0                    1.0                5.0             1.0  \n",
       "1                    1.0                5.0             1.0  \n",
       "2                    1.0                5.0             1.0  "
      ]
     },
     "execution_count": 27,
     "metadata": {},
     "output_type": "execute_result"
    }
   ],
   "source": [
    "X.head(3)"
   ]
  },
  {
   "cell_type": "code",
   "execution_count": 28,
   "id": "4b497f50-2b3c-4e60-8503-4a3f3fc66cce",
   "metadata": {},
   "outputs": [
    {
     "data": {
      "text/html": [
       "<div>\n",
       "<style scoped>\n",
       "    .dataframe tbody tr th:only-of-type {\n",
       "        vertical-align: middle;\n",
       "    }\n",
       "\n",
       "    .dataframe tbody tr th {\n",
       "        vertical-align: top;\n",
       "    }\n",
       "\n",
       "    .dataframe thead th {\n",
       "        text-align: right;\n",
       "    }\n",
       "</style>\n",
       "<table border=\"1\" class=\"dataframe\">\n",
       "  <thead>\n",
       "    <tr style=\"text-align: right;\">\n",
       "      <th></th>\n",
       "      <th>pointid</th>\n",
       "      <th>grid_code</th>\n",
       "      <th>Tropograpy</th>\n",
       "      <th>Soil__Media</th>\n",
       "      <th>Net_Recharge</th>\n",
       "      <th>Impact_Vandose_Zone</th>\n",
       "      <th>Hydrolic_Conductivity</th>\n",
       "      <th>Depth_to_Acquifer</th>\n",
       "      <th>Aquirfer_Media</th>\n",
       "    </tr>\n",
       "  </thead>\n",
       "  <tbody>\n",
       "    <tr>\n",
       "      <th>0</th>\n",
       "      <td>3254.0</td>\n",
       "      <td>2.0</td>\n",
       "      <td>3.0</td>\n",
       "      <td>6.0</td>\n",
       "      <td>1.0</td>\n",
       "      <td>3.0</td>\n",
       "      <td>1.0</td>\n",
       "      <td>5.0</td>\n",
       "      <td>1.0</td>\n",
       "    </tr>\n",
       "    <tr>\n",
       "      <th>1</th>\n",
       "      <td>3255.0</td>\n",
       "      <td>3.0</td>\n",
       "      <td>3.0</td>\n",
       "      <td>4.0</td>\n",
       "      <td>1.0</td>\n",
       "      <td>3.0</td>\n",
       "      <td>1.0</td>\n",
       "      <td>5.0</td>\n",
       "      <td>1.0</td>\n",
       "    </tr>\n",
       "    <tr>\n",
       "      <th>2</th>\n",
       "      <td>3256.0</td>\n",
       "      <td>3.0</td>\n",
       "      <td>3.0</td>\n",
       "      <td>4.0</td>\n",
       "      <td>1.0</td>\n",
       "      <td>3.0</td>\n",
       "      <td>1.0</td>\n",
       "      <td>5.0</td>\n",
       "      <td>1.0</td>\n",
       "    </tr>\n",
       "  </tbody>\n",
       "</table>\n",
       "</div>"
      ],
      "text/plain": [
       "   pointid  grid_code  Tropograpy  Soil__Media  Net_Recharge  \\\n",
       "0   3254.0        2.0         3.0          6.0           1.0   \n",
       "1   3255.0        3.0         3.0          4.0           1.0   \n",
       "2   3256.0        3.0         3.0          4.0           1.0   \n",
       "\n",
       "   Impact_Vandose_Zone  Hydrolic_Conductivity  Depth_to_Acquifer  \\\n",
       "0                  3.0                    1.0                5.0   \n",
       "1                  3.0                    1.0                5.0   \n",
       "2                  3.0                    1.0                5.0   \n",
       "\n",
       "   Aquirfer_Media  \n",
       "0             1.0  \n",
       "1             1.0  \n",
       "2             1.0  "
      ]
     },
     "execution_count": 28,
     "metadata": {},
     "output_type": "execute_result"
    }
   ],
   "source": [
    "df_cleaned.head(3)"
   ]
  },
  {
   "cell_type": "markdown",
   "id": "27d8a476-a53b-4a1b-ad00-714f6d4223c7",
   "metadata": {},
   "source": [
    "### Train-Test Splitting"
   ]
  },
  {
   "cell_type": "code",
   "execution_count": 48,
   "id": "8c4d62f5-5088-487b-af3e-caf64d4ea22e",
   "metadata": {},
   "outputs": [],
   "source": [
    "###INFO: `support` is how many samples are in each class."
   ]
  },
  {
   "cell_type": "code",
   "execution_count": 29,
   "id": "cd260b2b-d439-4ab9-8bf9-9573813cd483",
   "metadata": {},
   "outputs": [],
   "source": [
    "from sklearn.preprocessing import label_binarize\n",
    "from sklearn.multiclass import OneVsRestClassifier\n",
    "from sklearn.metrics import accuracy_score, roc_curve, roc_auc_score, f1_score"
   ]
  },
  {
   "cell_type": "markdown",
   "id": "e5c4b65d-9b67-4f1c-8825-2db6b8cdd4f1",
   "metadata": {},
   "source": [
    "#### ==> Using label binarize technique for ROC curve"
   ]
  },
  {
   "cell_type": "markdown",
   "id": "0bbf46f3-3f16-4aba-8ccc-a0e348e53f85",
   "metadata": {},
   "source": [
    "#####     Binarize the output (One-vs-Rest)"
   ]
  },
  {
   "cell_type": "code",
   "execution_count": 30,
   "id": "1eed6b60-b1c1-4350-9805-62ffff4a139f",
   "metadata": {},
   "outputs": [
    {
     "name": "stdout",
     "output_type": "stream",
     "text": [
      "shape:  (31918, 5)\n",
      "n_classes: 5\n"
     ]
    }
   ],
   "source": [
    "y_bin = label_binarize(y, classes = np.unique(y))\n",
    "n_classes = y_bin.shape[1]\n",
    "print(\"shape: \",y_bin.shape)\n",
    "print(f\"n_classes: {n_classes}\")"
   ]
  },
  {
   "cell_type": "code",
   "execution_count": 32,
   "id": "0da3d596-a747-41f2-8b77-999804178df0",
   "metadata": {},
   "outputs": [],
   "source": [
    "# Split data into training and testing sets\n",
    "# X_train, X_test, y_train, y_test = train_test_split(X, y, test_size=0.3, random_state=42, stratify=y)"
   ]
  },
  {
   "cell_type": "code",
   "execution_count": 31,
   "id": "db1361a5-2822-416b-8139-d93c85672ebf",
   "metadata": {},
   "outputs": [],
   "source": [
    "# Split data into training and testing sets\n",
    "X_train_bin, X_test_bin, y_train_bin, y_test_bin = train_test_split(X, y_bin, test_size=0.3, random_state=42, stratify=y_bin)"
   ]
  },
  {
   "cell_type": "markdown",
   "id": "102eb138-a9b0-4be7-bf08-3ef46028ad24",
   "metadata": {},
   "source": [
    "### SVM (SVC)"
   ]
  },
  {
   "cell_type": "code",
   "execution_count": 33,
   "id": "9f5930fd-073c-4c98-9603-21bbbbacbdb4",
   "metadata": {},
   "outputs": [],
   "source": [
    "from sklearn.svm import SVC"
   ]
  },
  {
   "cell_type": "code",
   "execution_count": 34,
   "id": "59664983-fdce-4e50-b462-17cc0eed32ef",
   "metadata": {
    "scrolled": true
   },
   "outputs": [
    {
     "name": "stdout",
     "output_type": "stream",
     "text": [
      "0        2.0\n",
      "1        3.0\n",
      "2        3.0\n",
      "3        3.0\n",
      "4        3.0\n",
      "        ... \n",
      "31913    3.0\n",
      "31914    5.0\n",
      "31915    5.0\n",
      "31916    5.0\n",
      "31917    5.0\n",
      "Name: grid_code, Length: 31918, dtype: float64\n",
      "[[0 1 0 0 0]\n",
      " [0 0 1 0 0]\n",
      " [0 0 1 0 0]\n",
      " ...\n",
      " [0 0 0 0 1]\n",
      " [0 0 0 0 1]\n",
      " [0 0 0 0 1]]\n",
      "y.shape: (31918,)\n",
      "y_bin.shape: (31918, 5)\n",
      "5\n"
     ]
    }
   ],
   "source": [
    "print(y)\n",
    "print(y_bin)\n",
    "print(f\"y.shape: {y.shape}\")\n",
    "print(f\"y_bin.shape: {y_bin.shape}\")\n",
    "print(n_classes)"
   ]
  },
  {
   "cell_type": "code",
   "execution_count": 35,
   "id": "ab288910-b74b-4cd7-af16-d2cd4f2ca6d5",
   "metadata": {},
   "outputs": [
    {
     "name": "stdout",
     "output_type": "stream",
     "text": [
      "SVC Accuracy: 0.5109649122807017\n",
      "              precision    recall  f1-score   support\n",
      "\n",
      "           0       0.55      0.59      0.57      4141\n",
      "           1       1.00      0.64      0.78       381\n",
      "           2       0.84      0.86      0.85      2612\n",
      "           3       0.76      0.76      0.76      2426\n",
      "           4       0.94      1.00      0.97        16\n",
      "\n",
      "   micro avg       0.69      0.71      0.70      9576\n",
      "   macro avg       0.82      0.77      0.79      9576\n",
      "weighted avg       0.70      0.71      0.70      9576\n",
      " samples avg       0.61      0.71      0.64      9576\n",
      "\n"
     ]
    },
    {
     "name": "stderr",
     "output_type": "stream",
     "text": [
      "/Users/goava/PERSONAL/Daily-Learning-Resources/Data-Science/venv/lib/python3.11/site-packages/sklearn/metrics/_classification.py:1531: UndefinedMetricWarning: Precision is ill-defined and being set to 0.0 in samples with no predicted labels. Use `zero_division` parameter to control this behavior.\n",
      "  _warn_prf(average, modifier, f\"{metric.capitalize()} is\", len(result))\n"
     ]
    },
    {
     "data": {
      "image/png": "[encoded data removed]",
      "text/plain": [
       "<Figure size 800x600 with 1 Axes>"
      ]
     },
     "metadata": {},
     "output_type": "display_data"
    }
   ],
   "source": [
    "# Train SVC with OneVsRest strategy\n",
    "svc = OneVsRestClassifier(SVC(kernel='linear', probability=True))\n",
    "svc.fit(X_train_bin, y_train_bin)\n",
    "\n",
    "y_pred = svc.predict(X_test_bin)\n",
    "print(\"SVC Accuracy:\", accuracy_score(y_test_bin, y_pred))\n",
    "print(classification_report(y_test_bin, y_pred))\n",
    "\n",
    "y_score = svc.decision_function(X_test_bin)\n",
    "\n",
    "# Plot ROC curves\n",
    "plt.figure(figsize=(8, 6))\n",
    "for i in range(n_classes):\n",
    "    fpr, tpr, _ = roc_curve(y_test_bin[:, i], y_score[:, i])\n",
    "    roc_auc = auc(fpr, tpr)\n",
    "    plt.plot(fpr, tpr, label=f\"SVC Class {i+1} (AUC = {roc_auc:.2f})\")\n",
    "\n",
    "plt.plot([0, 1], [0, 1], 'k--')\n",
    "plt.xlabel(\"False Positive Rate\")\n",
    "plt.ylabel(\"True Positive Rate\")\n",
    "plt.title(\"ROC Curve for SVC\")\n",
    "plt.legend()\n",
    "plt.show()"
   ]
  },
  {
   "cell_type": "markdown",
   "id": "742b388a-ad3a-4655-91bc-d2792566fd6a",
   "metadata": {},
   "source": [
    "### Logistic Regression"
   ]
  },
  {
   "cell_type": "code",
   "execution_count": null,
   "id": "c8244ce5-0c36-4cd9-8e48-238cf4049914",
   "metadata": {},
   "outputs": [],
   "source": [
    "from sklearn.linear_model import LogisticRegression"
   ]
  },
  {
   "cell_type": "code",
   "execution_count": 34,
   "id": "19191c94-cfe3-4ba2-9df0-a6cc69dbf47e",
   "metadata": {},
   "outputs": [
    {
     "name": "stdout",
     "output_type": "stream",
     "text": [
      "Logistic Regression Accuracy: 0.556704260651629\n",
      "              precision    recall  f1-score   support\n",
      "\n",
      "           0       0.62      0.58      0.60      4141\n",
      "           1       0.89      0.67      0.77       381\n",
      "           2       0.83      0.88      0.85      2612\n",
      "           3       0.77      0.69      0.73      2426\n",
      "           4       0.94      1.00      0.97        16\n",
      "\n",
      "   micro avg       0.73      0.69      0.71      9576\n",
      "   macro avg       0.81      0.76      0.78      9576\n",
      "weighted avg       0.73      0.69      0.71      9576\n",
      " samples avg       0.81      0.69      0.65      9576\n",
      "\n"
     ]
    },
    {
     "data": {
      "image/png": "[encoded data removed]",
      "text/plain": [
       "<Figure size 800x600 with 1 Axes>"
      ]
     },
     "metadata": {},
     "output_type": "display_data"
    }
   ],
   "source": [
    "log_reg = OneVsRestClassifier(LogisticRegression(max_iter=1000))\n",
    "log_reg.fit(X_train_bin, y_train_bin)\n",
    "\n",
    "y_pred = log_reg.predict(X_test_bin)\n",
    "print(\"Logistic Regression Accuracy:\", accuracy_score(y_test_bin, y_pred))\n",
    "print(classification_report(y_test_bin, y_pred, zero_division=1))\n",
    "\n",
    "y_score = log_reg.decision_function(X_test_bin)\n",
    "\n",
    "# Plot ROC curves\n",
    "plt.figure(figsize=(8, 6))\n",
    "for i in range(n_classes):\n",
    "    fpr, tpr, _ = roc_curve(y_test_bin[:, i], y_score[:, i])\n",
    "    roc_auc = auc(fpr, tpr)\n",
    "    plt.plot(fpr, tpr, label=f\"Logistic Regression Class {i+1} (AUC = {roc_auc:.2f})\")\n",
    "\n",
    "plt.plot([0, 1], [0, 1], 'k--')\n",
    "plt.xlabel(\"False Positive Rate\")\n",
    "plt.ylabel(\"True Positive Rate\")\n",
    "plt.title(\"ROC Curve for Logistic Regression\")\n",
    "plt.legend()\n",
    "plt.show()"
   ]
  },
  {
   "cell_type": "code",
   "execution_count": 36,
   "id": "65a74f31-01ed-43d1-b4c9-406062d95c65",
   "metadata": {},
   "outputs": [],
   "source": [
    "from sklearn.ensemble import RandomForestClassifier\n",
    "from sklearn.datasets import make_classification"
   ]
  },
  {
   "cell_type": "markdown",
   "id": "f6b7fa4e-8ab3-46d9-8f64-27c5af27fc71",
   "metadata": {
    "jp-MarkdownHeadingCollapsed": true
   },
   "source": [
    "#### --> A sample code with a random generated dataset for test only whether the codebase works or not (initial):-"
   ]
  },
  {
   "cell_type": "code",
   "execution_count": 49,
   "id": "958690e9-5862-4643-a1c7-78efa185c715",
   "metadata": {},
   "outputs": [
    {
     "name": "stdout",
     "output_type": "stream",
     "text": [
      "X_trainn.shape: (700, 20)\n",
      "X_testt.shape: (300, 20)\n",
      "y_trainn.shape: (700,)\n",
      "y_testt.shape: (300,)\n",
      "y_testt_bin.shape: (300, 3)\n",
      "y_score: [[0.19 0.04 0.77]\n",
      " [0.8  0.03 0.17]\n",
      " [0.09 0.7  0.21]\n",
      " [0.62 0.38 0.  ]\n",
      " [0.03 0.89 0.08]]\n"
     ]
    },
    {
     "data": {
      "image/png": "[encoded data removed]",
      "text/plain": [
       "<Figure size 800x600 with 1 Axes>"
      ]
     },
     "metadata": {},
     "output_type": "display_data"
    }
   ],
   "source": [
    "\n",
    "# 1. Create a synthetic multi-class dataset\n",
    "XX, yy = make_classification(\n",
    "    n_samples=1000,       # Number of samples\n",
    "    n_features=20,        # Total number of features\n",
    "    n_informative=10,     # Number of informative features\n",
    "    n_redundant=5,        # Number of redundant features\n",
    "    n_classes=3,          # Number of classes\n",
    "    n_clusters_per_class=1,  # Number of clusters per class\n",
    "    random_state=42\n",
    ")\n",
    "n_classess = 3  # Number of classes\n",
    "\n",
    "# Split the dataset\n",
    "X_trainn, X_testt, y_trainn, y_testt = train_test_split(XX, yy, test_size=0.3, random_state=42)\n",
    "\n",
    "print(f\"X_trainn.shape: {X_trainn.shape}\")\n",
    "print(f\"X_testt.shape: {X_testt.shape}\")\n",
    "print(f\"y_trainn.shape: {y_trainn.shape}\")\n",
    "print(f\"y_testt.shape: {y_testt.shape}\")\n",
    "\n",
    "# Binarize the output (One-vs-Rest) after splitting\n",
    "y_testt_bin = label_binarize(y_testt, classes=[0, 1, 2])\n",
    "\n",
    "print(f\"y_testt_bin.shape: {y_testt_bin.shape}\")\n",
    "\n",
    "# 2. Train the RandomForest classifier\n",
    "rf = RandomForestClassifier(random_state=42)\n",
    "rf.fit(X_trainn, y_trainn)  # Use 1D y_trainn for training\n",
    "\n",
    "# 3. Get prediction probabilities for each class\n",
    "y_score = rf.predict_proba(X_testt)\n",
    "print(f\"y_score: {y_score[:5]}\")\n",
    "\n",
    "# 4. Compute ROC curve and AUC for each class\n",
    "fpr = {}\n",
    "tpr = {}\n",
    "roc_auc = {}\n",
    "\n",
    "for i in range(n_classess):\n",
    "    fpr[i], tpr[i], _ = roc_curve(y_testt_bin[:, i], y_score[:, i])\n",
    "    roc_auc[i] = auc(fpr[i], tpr[i])\n",
    "\n",
    "# 5. Plot the ROC curve\n",
    "plt.figure(figsize=(8, 6))\n",
    "\n",
    "colors = ['blue', 'green', 'red']\n",
    "for i in range(n_classess):\n",
    "    plt.plot(\n",
    "        fpr[i],\n",
    "        tpr[i],\n",
    "        color=colors[i],\n",
    "        lw=2,\n",
    "        label=f\"ROC curve for class {i} (AUC = {roc_auc[i]:.2f})\",\n",
    "    )\n",
    "\n",
    "plt.plot([0, 1], [0, 1], 'k--', lw=2)  # Diagonal line (random guess)\n",
    "plt.xlim([0.0, 1.0])\n",
    "plt.ylim([0.0, 1.05])\n",
    "plt.xlabel(\"False Positive Rate\")\n",
    "plt.ylabel(\"True Positive Rate\")\n",
    "plt.title(\"ROC Curve for Multi-Class Random Forest\")\n",
    "plt.legend(loc=\"lower right\")\n",
    "plt.grid(alpha=0.3)\n",
    "plt.show()"
   ]
  },
  {
   "cell_type": "code",
   "execution_count": null,
   "id": "6b039802-a132-4375-928e-e796b914f6b0",
   "metadata": {},
   "outputs": [],
   "source": []
  },
  {
   "cell_type": "markdown",
   "id": "724f649e-30d6-4619-b765-4c6afaeec171",
   "metadata": {
    "jp-MarkdownHeadingCollapsed": true
   },
   "source": [
    "#### Now, train with our dataset:-"
   ]
  },
  {
   "cell_type": "code",
   "execution_count": 39,
   "id": "656b2e4c-90fa-42e4-82f0-39a8891fab54",
   "metadata": {},
   "outputs": [],
   "source": [
    "from sklearn.model_selection import StratifiedKFold, RandomizedSearchCV"
   ]
  },
  {
   "cell_type": "code",
   "execution_count": 62,
   "id": "1d596ff0-c87c-48cb-b0a9-0fa2cb4cdcc2",
   "metadata": {},
   "outputs": [
    {
     "data": {
      "text/html": [
       "<style>#sk-container-id-2 {\n",
       "  /* Definition of color scheme common for light and dark mode */\n",
       "  --sklearn-color-text: black;\n",
       "  --sklearn-color-line: gray;\n",
       "  /* Definition of color scheme for unfitted estimators */\n",
       "  --sklearn-color-unfitted-level-0: #fff5e6;\n",
       "  --sklearn-color-unfitted-level-1: #f6e4d2;\n",
       "  --sklearn-color-unfitted-level-2: #ffe0b3;\n",
       "  --sklearn-color-unfitted-level-3: chocolate;\n",
       "  /* Definition of color scheme for fitted estimators */\n",
       "  --sklearn-color-fitted-level-0: #f0f8ff;\n",
       "  --sklearn-color-fitted-level-1: #d4ebff;\n",
       "  --sklearn-color-fitted-level-2: #b3dbfd;\n",
       "  --sklearn-color-fitted-level-3: cornflowerblue;\n",
       "\n",
       "  /* Specific color for light theme */\n",
       "  --sklearn-color-text-on-default-background: var(--sg-text-color, var(--theme-code-foreground, var(--jp-content-font-color1, black)));\n",
       "  --sklearn-color-background: var(--sg-background-color, var(--theme-background, var(--jp-layout-color0, white)));\n",
       "  --sklearn-color-border-box: var(--sg-text-color, var(--theme-code-foreground, var(--jp-content-font-color1, black)));\n",
       "  --sklearn-color-icon: #696969;\n",
       "\n",
       "  @media (prefers-color-scheme: dark) {\n",
       "    /* Redefinition of color scheme for dark theme */\n",
       "    --sklearn-color-text-on-default-background: var(--sg-text-color, var(--theme-code-foreground, var(--jp-content-font-color1, white)));\n",
       "    --sklearn-color-background: var(--sg-background-color, var(--theme-background, var(--jp-layout-color0, #111)));\n",
       "    --sklearn-color-border-box: var(--sg-text-color, var(--theme-code-foreground, var(--jp-content-font-color1, white)));\n",
       "    --sklearn-color-icon: #878787;\n",
       "  }\n",
       "}\n",
       "\n",
       "#sk-container-id-2 {\n",
       "  color: var(--sklearn-color-text);\n",
       "}\n",
       "\n",
       "#sk-container-id-2 pre {\n",
       "  padding: 0;\n",
       "}\n",
       "\n",
       "#sk-container-id-2 input.sk-hidden--visually {\n",
       "  border: 0;\n",
       "  clip: rect(1px 1px 1px 1px);\n",
       "  clip: rect(1px, 1px, 1px, 1px);\n",
       "  height: 1px;\n",
       "  margin: -1px;\n",
       "  overflow: hidden;\n",
       "  padding: 0;\n",
       "  position: absolute;\n",
       "  width: 1px;\n",
       "}\n",
       "\n",
       "#sk-container-id-2 div.sk-dashed-wrapped {\n",
       "  border: 1px dashed var(--sklearn-color-line);\n",
       "  margin: 0 0.4em 0.5em 0.4em;\n",
       "  box-sizing: border-box;\n",
       "  padding-bottom: 0.4em;\n",
       "  background-color: var(--sklearn-color-background);\n",
       "}\n",
       "\n",
       "#sk-container-id-2 div.sk-container {\n",
       "  /* jupyter's `normalize.less` sets `[hidden] { display: none; }`\n",
       "     but bootstrap.min.css set `[hidden] { display: none !important; }`\n",
       "     so we also need the `!important` here to be able to override the\n",
       "     default hidden behavior on the sphinx rendered scikit-learn.org.\n",
       "     See: https://github.com/scikit-learn/scikit-learn/issues/21755 */\n",
       "  display: inline-block !important;\n",
       "  position: relative;\n",
       "}\n",
       "\n",
       "#sk-container-id-2 div.sk-text-repr-fallback {\n",
       "  display: none;\n",
       "}\n",
       "\n",
       "div.sk-parallel-item,\n",
       "div.sk-serial,\n",
       "div.sk-item {\n",
       "  /* draw centered vertical line to link estimators */\n",
       "  background-image: linear-gradient(var(--sklearn-color-text-on-default-background), var(--sklearn-color-text-on-default-background));\n",
       "  background-size: 2px 100%;\n",
       "  background-repeat: no-repeat;\n",
       "  background-position: center center;\n",
       "}\n",
       "\n",
       "/* Parallel-specific style estimator block */\n",
       "\n",
       "#sk-container-id-2 div.sk-parallel-item::after {\n",
       "  content: \"\";\n",
       "  width: 100%;\n",
       "  border-bottom: 2px solid var(--sklearn-color-text-on-default-background);\n",
       "  flex-grow: 1;\n",
       "}\n",
       "\n",
       "#sk-container-id-2 div.sk-parallel {\n",
       "  display: flex;\n",
       "  align-items: stretch;\n",
       "  justify-content: center;\n",
       "  background-color: var(--sklearn-color-background);\n",
       "  position: relative;\n",
       "}\n",
       "\n",
       "#sk-container-id-2 div.sk-parallel-item {\n",
       "  display: flex;\n",
       "  flex-direction: column;\n",
       "}\n",
       "\n",
       "#sk-container-id-2 div.sk-parallel-item:first-child::after {\n",
       "  align-self: flex-end;\n",
       "  width: 50%;\n",
       "}\n",
       "\n",
       "#sk-container-id-2 div.sk-parallel-item:last-child::after {\n",
       "  align-self: flex-start;\n",
       "  width: 50%;\n",
       "}\n",
       "\n",
       "#sk-container-id-2 div.sk-parallel-item:only-child::after {\n",
       "  width: 0;\n",
       "}\n",
       "\n",
       "/* Serial-specific style estimator block */\n",
       "\n",
       "#sk-container-id-2 div.sk-serial {\n",
       "  display: flex;\n",
       "  flex-direction: column;\n",
       "  align-items: center;\n",
       "  background-color: var(--sklearn-color-background);\n",
       "  padding-right: 1em;\n",
       "  padding-left: 1em;\n",
       "}\n",
       "\n",
       "\n",
       "/* Toggleable style: style used for estimator/Pipeline/ColumnTransformer box that is\n",
       "clickable and can be expanded/collapsed.\n",
       "- Pipeline and ColumnTransformer use this feature and define the default style\n",
       "- Estimators will overwrite some part of the style using the `sk-estimator` class\n",
       "*/\n",
       "\n",
       "/* Pipeline and ColumnTransformer style (default) */\n",
       "\n",
       "#sk-container-id-2 div.sk-toggleable {\n",
       "  /* Default theme specific background. It is overwritten whether we have a\n",
       "  specific estimator or a Pipeline/ColumnTransformer */\n",
       "  background-color: var(--sklearn-color-background);\n",
       "}\n",
       "\n",
       "/* Toggleable label */\n",
       "#sk-container-id-2 label.sk-toggleable__label {\n",
       "  cursor: pointer;\n",
       "  display: block;\n",
       "  width: 100%;\n",
       "  margin-bottom: 0;\n",
       "  padding: 0.5em;\n",
       "  box-sizing: border-box;\n",
       "  text-align: center;\n",
       "}\n",
       "\n",
       "#sk-container-id-2 label.sk-toggleable__label-arrow:before {\n",
       "  /* Arrow on the left of the label */\n",
       "  content: \"▸\";\n",
       "  float: left;\n",
       "  margin-right: 0.25em;\n",
       "  color: var(--sklearn-color-icon);\n",
       "}\n",
       "\n",
       "#sk-container-id-2 label.sk-toggleable__label-arrow:hover:before {\n",
       "  color: var(--sklearn-color-text);\n",
       "}\n",
       "\n",
       "/* Toggleable content - dropdown */\n",
       "\n",
       "#sk-container-id-2 div.sk-toggleable__content {\n",
       "  max-height: 0;\n",
       "  max-width: 0;\n",
       "  overflow: hidden;\n",
       "  text-align: left;\n",
       "  /* unfitted */\n",
       "  background-color: var(--sklearn-color-unfitted-level-0);\n",
       "}\n",
       "\n",
       "#sk-container-id-2 div.sk-toggleable__content.fitted {\n",
       "  /* fitted */\n",
       "  background-color: var(--sklearn-color-fitted-level-0);\n",
       "}\n",
       "\n",
       "#sk-container-id-2 div.sk-toggleable__content pre {\n",
       "  margin: 0.2em;\n",
       "  border-radius: 0.25em;\n",
       "  color: var(--sklearn-color-text);\n",
       "  /* unfitted */\n",
       "  background-color: var(--sklearn-color-unfitted-level-0);\n",
       "}\n",
       "\n",
       "#sk-container-id-2 div.sk-toggleable__content.fitted pre {\n",
       "  /* unfitted */\n",
       "  background-color: var(--sklearn-color-fitted-level-0);\n",
       "}\n",
       "\n",
       "#sk-container-id-2 input.sk-toggleable__control:checked~div.sk-toggleable__content {\n",
       "  /* Expand drop-down */\n",
       "  max-height: 200px;\n",
       "  max-width: 100%;\n",
       "  overflow: auto;\n",
       "}\n",
       "\n",
       "#sk-container-id-2 input.sk-toggleable__control:checked~label.sk-toggleable__label-arrow:before {\n",
       "  content: \"▾\";\n",
       "}\n",
       "\n",
       "/* Pipeline/ColumnTransformer-specific style */\n",
       "\n",
       "#sk-container-id-2 div.sk-label input.sk-toggleable__control:checked~label.sk-toggleable__label {\n",
       "  color: var(--sklearn-color-text);\n",
       "  background-color: var(--sklearn-color-unfitted-level-2);\n",
       "}\n",
       "\n",
       "#sk-container-id-2 div.sk-label.fitted input.sk-toggleable__control:checked~label.sk-toggleable__label {\n",
       "  background-color: var(--sklearn-color-fitted-level-2);\n",
       "}\n",
       "\n",
       "/* Estimator-specific style */\n",
       "\n",
       "/* Colorize estimator box */\n",
       "#sk-container-id-2 div.sk-estimator input.sk-toggleable__control:checked~label.sk-toggleable__label {\n",
       "  /* unfitted */\n",
       "  background-color: var(--sklearn-color-unfitted-level-2);\n",
       "}\n",
       "\n",
       "#sk-container-id-2 div.sk-estimator.fitted input.sk-toggleable__control:checked~label.sk-toggleable__label {\n",
       "  /* fitted */\n",
       "  background-color: var(--sklearn-color-fitted-level-2);\n",
       "}\n",
       "\n",
       "#sk-container-id-2 div.sk-label label.sk-toggleable__label,\n",
       "#sk-container-id-2 div.sk-label label {\n",
       "  /* The background is the default theme color */\n",
       "  color: var(--sklearn-color-text-on-default-background);\n",
       "}\n",
       "\n",
       "/* On hover, darken the color of the background */\n",
       "#sk-container-id-2 div.sk-label:hover label.sk-toggleable__label {\n",
       "  color: var(--sklearn-color-text);\n",
       "  background-color: var(--sklearn-color-unfitted-level-2);\n",
       "}\n",
       "\n",
       "/* Label box, darken color on hover, fitted */\n",
       "#sk-container-id-2 div.sk-label.fitted:hover label.sk-toggleable__label.fitted {\n",
       "  color: var(--sklearn-color-text);\n",
       "  background-color: var(--sklearn-color-fitted-level-2);\n",
       "}\n",
       "\n",
       "/* Estimator label */\n",
       "\n",
       "#sk-container-id-2 div.sk-label label {\n",
       "  font-family: monospace;\n",
       "  font-weight: bold;\n",
       "  display: inline-block;\n",
       "  line-height: 1.2em;\n",
       "}\n",
       "\n",
       "#sk-container-id-2 div.sk-label-container {\n",
       "  text-align: center;\n",
       "}\n",
       "\n",
       "/* Estimator-specific */\n",
       "#sk-container-id-2 div.sk-estimator {\n",
       "  font-family: monospace;\n",
       "  border: 1px dotted var(--sklearn-color-border-box);\n",
       "  border-radius: 0.25em;\n",
       "  box-sizing: border-box;\n",
       "  margin-bottom: 0.5em;\n",
       "  /* unfitted */\n",
       "  background-color: var(--sklearn-color-unfitted-level-0);\n",
       "}\n",
       "\n",
       "#sk-container-id-2 div.sk-estimator.fitted {\n",
       "  /* fitted */\n",
       "  background-color: var(--sklearn-color-fitted-level-0);\n",
       "}\n",
       "\n",
       "/* on hover */\n",
       "#sk-container-id-2 div.sk-estimator:hover {\n",
       "  /* unfitted */\n",
       "  background-color: var(--sklearn-color-unfitted-level-2);\n",
       "}\n",
       "\n",
       "#sk-container-id-2 div.sk-estimator.fitted:hover {\n",
       "  /* fitted */\n",
       "  background-color: var(--sklearn-color-fitted-level-2);\n",
       "}\n",
       "\n",
       "/* Specification for estimator info (e.g. \"i\" and \"?\") */\n",
       "\n",
       "/* Common style for \"i\" and \"?\" */\n",
       "\n",
       ".sk-estimator-doc-link,\n",
       "a:link.sk-estimator-doc-link,\n",
       "a:visited.sk-estimator-doc-link {\n",
       "  float: right;\n",
       "  font-size: smaller;\n",
       "  line-height: 1em;\n",
       "  font-family: monospace;\n",
       "  background-color: var(--sklearn-color-background);\n",
       "  border-radius: 1em;\n",
       "  height: 1em;\n",
       "  width: 1em;\n",
       "  text-decoration: none !important;\n",
       "  margin-left: 1ex;\n",
       "  /* unfitted */\n",
       "  border: var(--sklearn-color-unfitted-level-1) 1pt solid;\n",
       "  color: var(--sklearn-color-unfitted-level-1);\n",
       "}\n",
       "\n",
       ".sk-estimator-doc-link.fitted,\n",
       "a:link.sk-estimator-doc-link.fitted,\n",
       "a:visited.sk-estimator-doc-link.fitted {\n",
       "  /* fitted */\n",
       "  border: var(--sklearn-color-fitted-level-1) 1pt solid;\n",
       "  color: var(--sklearn-color-fitted-level-1);\n",
       "}\n",
       "\n",
       "/* On hover */\n",
       "div.sk-estimator:hover .sk-estimator-doc-link:hover,\n",
       ".sk-estimator-doc-link:hover,\n",
       "div.sk-label-container:hover .sk-estimator-doc-link:hover,\n",
       ".sk-estimator-doc-link:hover {\n",
       "  /* unfitted */\n",
       "  background-color: var(--sklearn-color-unfitted-level-3);\n",
       "  color: var(--sklearn-color-background);\n",
       "  text-decoration: none;\n",
       "}\n",
       "\n",
       "div.sk-estimator.fitted:hover .sk-estimator-doc-link.fitted:hover,\n",
       ".sk-estimator-doc-link.fitted:hover,\n",
       "div.sk-label-container:hover .sk-estimator-doc-link.fitted:hover,\n",
       ".sk-estimator-doc-link.fitted:hover {\n",
       "  /* fitted */\n",
       "  background-color: var(--sklearn-color-fitted-level-3);\n",
       "  color: var(--sklearn-color-background);\n",
       "  text-decoration: none;\n",
       "}\n",
       "\n",
       "/* Span, style for the box shown on hovering the info icon */\n",
       ".sk-estimator-doc-link span {\n",
       "  display: none;\n",
       "  z-index: 9999;\n",
       "  position: relative;\n",
       "  font-weight: normal;\n",
       "  right: .2ex;\n",
       "  padding: .5ex;\n",
       "  margin: .5ex;\n",
       "  width: min-content;\n",
       "  min-width: 20ex;\n",
       "  max-width: 50ex;\n",
       "  color: var(--sklearn-color-text);\n",
       "  box-shadow: 2pt 2pt 4pt #999;\n",
       "  /* unfitted */\n",
       "  background: var(--sklearn-color-unfitted-level-0);\n",
       "  border: .5pt solid var(--sklearn-color-unfitted-level-3);\n",
       "}\n",
       "\n",
       ".sk-estimator-doc-link.fitted span {\n",
       "  /* fitted */\n",
       "  background: var(--sklearn-color-fitted-level-0);\n",
       "  border: var(--sklearn-color-fitted-level-3);\n",
       "}\n",
       "\n",
       ".sk-estimator-doc-link:hover span {\n",
       "  display: block;\n",
       "}\n",
       "\n",
       "/* \"?\"-specific style due to the `<a>` HTML tag */\n",
       "\n",
       "#sk-container-id-2 a.estimator_doc_link {\n",
       "  float: right;\n",
       "  font-size: 1rem;\n",
       "  line-height: 1em;\n",
       "  font-family: monospace;\n",
       "  background-color: var(--sklearn-color-background);\n",
       "  border-radius: 1rem;\n",
       "  height: 1rem;\n",
       "  width: 1rem;\n",
       "  text-decoration: none;\n",
       "  /* unfitted */\n",
       "  color: var(--sklearn-color-unfitted-level-1);\n",
       "  border: var(--sklearn-color-unfitted-level-1) 1pt solid;\n",
       "}\n",
       "\n",
       "#sk-container-id-2 a.estimator_doc_link.fitted {\n",
       "  /* fitted */\n",
       "  border: var(--sklearn-color-fitted-level-1) 1pt solid;\n",
       "  color: var(--sklearn-color-fitted-level-1);\n",
       "}\n",
       "\n",
       "/* On hover */\n",
       "#sk-container-id-2 a.estimator_doc_link:hover {\n",
       "  /* unfitted */\n",
       "  background-color: var(--sklearn-color-unfitted-level-3);\n",
       "  color: var(--sklearn-color-background);\n",
       "  text-decoration: none;\n",
       "}\n",
       "\n",
       "#sk-container-id-2 a.estimator_doc_link.fitted:hover {\n",
       "  /* fitted */\n",
       "  background-color: var(--sklearn-color-fitted-level-3);\n",
       "}\n",
       "</style><div id=\"sk-container-id-2\" class=\"sk-top-container\"><div class=\"sk-text-repr-fallback\"><pre>RandomizedSearchCV(cv=StratifiedKFold(n_splits=5, random_state=42, shuffle=True),\n",
       "                   estimator=RandomForestClassifier(),\n",
       "                   param_distributions={&#x27;max_depth&#x27;: [5, 10, 20],\n",
       "                                        &#x27;min_samples_leaf&#x27;: [1, 2, 4],\n",
       "                                        &#x27;min_samples_split&#x27;: [2, 5, 10],\n",
       "                                        &#x27;n_estimators&#x27;: [100, 200, 300]},\n",
       "                   random_state=42, scoring=&#x27;roc_auc_ovr&#x27;)</pre><b>In a Jupyter environment, please rerun this cell to show the HTML representation or trust the notebook. <br />On GitHub, the HTML representation is unable to render, please try loading this page with nbviewer.org.</b></div><div class=\"sk-container\" hidden><div class=\"sk-item sk-dashed-wrapped\"><div class=\"sk-label-container\"><div class=\"sk-label fitted sk-toggleable\"><input class=\"sk-toggleable__control sk-hidden--visually\" id=\"sk-estimator-id-4\" type=\"checkbox\" ><label for=\"sk-estimator-id-4\" class=\"sk-toggleable__label fitted sk-toggleable__label-arrow fitted\">&nbsp;&nbsp;RandomizedSearchCV<a class=\"sk-estimator-doc-link fitted\" rel=\"noreferrer\" target=\"_blank\" href=\"https://scikit-learn.org/1.5/modules/generated/sklearn.model_selection.RandomizedSearchCV.html\">?<span>Documentation for RandomizedSearchCV</span></a><span class=\"sk-estimator-doc-link fitted\">i<span>Fitted</span></span></label><div class=\"sk-toggleable__content fitted\"><pre>RandomizedSearchCV(cv=StratifiedKFold(n_splits=5, random_state=42, shuffle=True),\n",
       "                   estimator=RandomForestClassifier(),\n",
       "                   param_distributions={&#x27;max_depth&#x27;: [5, 10, 20],\n",
       "                                        &#x27;min_samples_leaf&#x27;: [1, 2, 4],\n",
       "                                        &#x27;min_samples_split&#x27;: [2, 5, 10],\n",
       "                                        &#x27;n_estimators&#x27;: [100, 200, 300]},\n",
       "                   random_state=42, scoring=&#x27;roc_auc_ovr&#x27;)</pre></div> </div></div><div class=\"sk-parallel\"><div class=\"sk-parallel-item\"><div class=\"sk-item\"><div class=\"sk-label-container\"><div class=\"sk-label fitted sk-toggleable\"><input class=\"sk-toggleable__control sk-hidden--visually\" id=\"sk-estimator-id-5\" type=\"checkbox\" ><label for=\"sk-estimator-id-5\" class=\"sk-toggleable__label fitted sk-toggleable__label-arrow fitted\">best_estimator_: RandomForestClassifier</label><div class=\"sk-toggleable__content fitted\"><pre>RandomForestClassifier(max_depth=20, min_samples_leaf=2, min_samples_split=10,\n",
       "                       n_estimators=200)</pre></div> </div></div><div class=\"sk-serial\"><div class=\"sk-item\"><div class=\"sk-estimator fitted sk-toggleable\"><input class=\"sk-toggleable__control sk-hidden--visually\" id=\"sk-estimator-id-6\" type=\"checkbox\" ><label for=\"sk-estimator-id-6\" class=\"sk-toggleable__label fitted sk-toggleable__label-arrow fitted\">&nbsp;RandomForestClassifier<a class=\"sk-estimator-doc-link fitted\" rel=\"noreferrer\" target=\"_blank\" href=\"https://scikit-learn.org/1.5/modules/generated/sklearn.ensemble.RandomForestClassifier.html\">?<span>Documentation for RandomForestClassifier</span></a></label><div class=\"sk-toggleable__content fitted\"><pre>RandomForestClassifier(max_depth=20, min_samples_leaf=2, min_samples_split=10,\n",
       "                       n_estimators=200)</pre></div> </div></div></div></div></div></div></div></div></div>"
      ],
      "text/plain": [
       "RandomizedSearchCV(cv=StratifiedKFold(n_splits=5, random_state=42, shuffle=True),\n",
       "                   estimator=RandomForestClassifier(),\n",
       "                   param_distributions={'max_depth': [5, 10, 20],\n",
       "                                        'min_samples_leaf': [1, 2, 4],\n",
       "                                        'min_samples_split': [2, 5, 10],\n",
       "                                        'n_estimators': [100, 200, 300]},\n",
       "                   random_state=42, scoring='roc_auc_ovr')"
      ]
     },
     "execution_count": 62,
     "metadata": {},
     "output_type": "execute_result"
    }
   ],
   "source": [
    "# Create a StratifiedKFold object\n",
    "skf = StratifiedKFold(n_splits=5, shuffle=True, random_state=42)\n",
    "\n",
    "# Create a Random Forest Classifier\n",
    "rf = RandomForestClassifier()\n",
    "\n",
    "# Define the parameter grid for Randomized Search\n",
    "param_grid = {\n",
    "    'n_estimators': [100, 200, 300],\n",
    "    'max_depth': [5, 10, 20],\n",
    "    'min_samples_split': [2, 5, 10],\n",
    "    'min_samples_leaf': [1, 2, 4]\n",
    "}\n",
    "\n",
    "# Create a RandomizedSearchCV object\n",
    "random_search = RandomizedSearchCV(\n",
    "    estimator = rf,\n",
    "    param_distributions = param_grid, \n",
    "    n_iter = 10,\n",
    "    cv = skf,\n",
    "    # scoring = 'accuracy',\n",
    "    scoring=\"roc_auc_ovr\",  # Optimize for ROC-AUC\n",
    "    random_state = 42\n",
    ")\n",
    "\n",
    "# Fit the RandomizedSearchCV object to the training data\n",
    "random_search.fit(X_train, y_train)"
   ]
  },
  {
   "cell_type": "code",
   "execution_count": 63,
   "id": "cb8c9946-f293-42a7-a6a3-2fdd75176820",
   "metadata": {},
   "outputs": [
    {
     "name": "stdout",
     "output_type": "stream",
     "text": [
      "Best parameters: {'n_estimators': 200, 'min_samples_split': 10, 'min_samples_leaf': 2, 'max_depth': 20}\n",
      "Best score: 0.9955630034243331\n"
     ]
    },
    {
     "data": {
      "text/plain": [
       "array([1., 3., 1., ..., 3., 1., 1.])"
      ]
     },
     "execution_count": 63,
     "metadata": {},
     "output_type": "execute_result"
    }
   ],
   "source": [
    "# Print the best parameters and score\n",
    "print(\"Best parameters:\", random_search.best_params_)\n",
    "print(\"Best score:\", random_search.best_score_)\n",
    "\n",
    "# Use the best model to make predictions on the testing set\n",
    "best_model = random_search.best_estimator_\n",
    "y_pred = best_model.predict(X_test)\n",
    "y_pred"
   ]
  },
  {
   "cell_type": "code",
   "execution_count": 66,
   "id": "58257885-fdb2-471d-9ff6-0190103ecf86",
   "metadata": {},
   "outputs": [
    {
     "name": "stdout",
     "output_type": "stream",
     "text": [
      "y_score: [[8.49928200e-01 1.53233221e-06 2.02521972e-04 1.49865970e-01\n",
      "  1.77619893e-06]\n",
      " [1.50247719e-03 2.92918508e-04 9.98204604e-01 0.00000000e+00\n",
      "  0.00000000e+00]\n",
      " [7.84780441e-01 1.53233221e-06 2.02521972e-04 2.15013729e-01\n",
      "  1.77619893e-06]\n",
      " [9.32766386e-01 0.00000000e+00 6.72336137e-02 0.00000000e+00\n",
      "  0.00000000e+00]\n",
      " [9.97654448e-01 0.00000000e+00 2.20904325e-04 2.12464754e-03\n",
      "  0.00000000e+00]]\n",
      "y_score.shape: (9576, 5)\n"
     ]
    }
   ],
   "source": [
    "# 3. Get prediction probabilities for each class\n",
    "y_score = best_model.predict_proba(X_test)\n",
    "print(f\"y_score: {y_score[:5]}\")\n",
    "print(f\"y_score.shape: {y_score.shape}\")"
   ]
  },
  {
   "cell_type": "code",
   "execution_count": 56,
   "id": "ae15046b-0196-4ba9-ac94-fbd88b018a45",
   "metadata": {},
   "outputs": [
    {
     "name": "stdout",
     "output_type": "stream",
     "text": [
      "y_test_bin: [[1 0 0 0 0]\n",
      " [0 0 1 0 0]\n",
      " [1 0 0 0 0]\n",
      " [0 0 0 1 0]\n",
      " [0 1 0 0 0]]\n",
      "y_test_bin.shape: (9576, 5)\n"
     ]
    }
   ],
   "source": [
    "print(f\"y_test_bin: {y_test_bin[:5]}\")\n",
    "print(f\"y_test_bin.shape: {y_test_bin.shape}\")"
   ]
  },
  {
   "cell_type": "code",
   "execution_count": 57,
   "id": "10b339ae-56a8-452c-9c08-1decd9d40847",
   "metadata": {},
   "outputs": [
    {
     "data": {
      "text/plain": [
       "5"
      ]
     },
     "execution_count": 57,
     "metadata": {},
     "output_type": "execute_result"
    }
   ],
   "source": [
    "n_classes"
   ]
  },
  {
   "cell_type": "code",
   "execution_count": 67,
   "id": "a8b3f8da-b404-45eb-84f5-b24921724af1",
   "metadata": {
    "scrolled": true
   },
   "outputs": [
    {
     "data": {
      "image/png": "[encoded data removed]",
      "text/plain": [
       "<Figure size 800x600 with 1 Axes>"
      ]
     },
     "metadata": {},
     "output_type": "display_data"
    }
   ],
   "source": [
    "## Plot ROC curve for each class\n",
    "plt.figure(figsize=(8, 6))\n",
    "for i in range(n_classes):\n",
    "    fpr, tpr, _ = roc_curve(y_test_bin[:, i], y_score[:, i])\n",
    "    # print(f\"fpr, tpr: {fpr}, {tpr}\")\n",
    "    roc_auc = auc(fpr, tpr)\n",
    "    plt.plot(fpr, tpr, label=f\"Class {i+1} (AUC = {roc_auc:.2f})\")\n",
    "\n",
    "# Plot diagonal line for reference\n",
    "plt.plot([0, 1], [0, 1], 'k--')\n",
    "plt.xlabel(\"False Positive Rate\")\n",
    "plt.ylabel(\"True Positive Rate\")\n",
    "plt.title(\"ROC Curve for RandomForestClassifier\")\n",
    "plt.legend()\n",
    "plt.show()"
   ]
  },
  {
   "cell_type": "markdown",
   "id": "721cbdb9-abfa-4df9-ae42-6f81366f5e40",
   "metadata": {
    "jp-MarkdownHeadingCollapsed": true
   },
   "source": [
    "### A sample code of RF with label binarization only"
   ]
  },
  {
   "cell_type": "code",
   "execution_count": 74,
   "id": "e1360819-1ebe-4004-aa81-6b01bbd24590",
   "metadata": {},
   "outputs": [
    {
     "name": "stdout",
     "output_type": "stream",
     "text": [
      "X_trainn.shape: (700, 20)\n",
      "X_testt.shape: (300, 20)\n",
      "y_trainn.shape: (700,)\n",
      "y_testt.shape: (300,)\n",
      "y_testt_bin.shape: (300, 3)\n",
      "y_score: [[0.19 0.04 0.77]\n",
      " [0.8  0.03 0.17]\n",
      " [0.09 0.7  0.21]\n",
      " [0.62 0.38 0.  ]\n",
      " [0.03 0.89 0.08]]\n"
     ]
    },
    {
     "data": {
      "image/png": "[encoded data removed]",
      "text/plain": [
       "<Figure size 800x600 with 1 Axes>"
      ]
     },
     "metadata": {},
     "output_type": "display_data"
    }
   ],
   "source": [
    "# 1. Create a synthetic multi-class dataset\n",
    "XX, yy = make_classification(\n",
    "    n_samples=1000,       # Number of samples\n",
    "    n_features=20,        # Total number of features\n",
    "    n_informative=10,     # Number of informative features\n",
    "    n_redundant=5,        # Number of redundant features\n",
    "    n_classes=3,          # Number of classes\n",
    "    n_clusters_per_class=1,  # Number of clusters per class\n",
    "    random_state=42\n",
    ")\n",
    "n_classess = 3  # Number of classes\n",
    "\n",
    "# Split the dataset\n",
    "X_trainn, X_testt, y_trainn, y_testt = train_test_split(XX, yy, test_size=0.3, random_state=42)\n",
    "\n",
    "print(f\"X_trainn.shape: {X_trainn.shape}\")\n",
    "print(f\"X_testt.shape: {X_testt.shape}\")\n",
    "print(f\"y_trainn.shape: {y_trainn.shape}\")\n",
    "print(f\"y_testt.shape: {y_testt.shape}\")\n",
    "\n",
    "# Binarize the output (One-vs-Rest) after splitting\n",
    "y_testt_bin = label_binarize(y_testt, classes=[0, 1, 2])\n",
    "\n",
    "print(f\"y_testt_bin.shape: {y_testt_bin.shape}\")\n",
    "\n",
    "# 2. Train the RandomForest classifier\n",
    "rf = RandomForestClassifier(random_state=42)\n",
    "rf.fit(X_trainn, y_trainn)  # Use 1D y_trainn for training\n",
    "\n",
    "# 3. Get prediction probabilities for each class\n",
    "y_score = rf.predict_proba(X_testt)\n",
    "print(f\"y_score: {y_score[:5]}\")\n",
    "\n",
    "# 4. Compute ROC curve and AUC for each class\n",
    "fpr = {}\n",
    "tpr = {}\n",
    "roc_auc = {}\n",
    "\n",
    "for i in range(n_classess):\n",
    "    fpr[i], tpr[i], _ = roc_curve(y_testt_bin[:, i], y_score[:, i])\n",
    "    roc_auc[i] = auc(fpr[i], tpr[i])\n",
    "\n",
    "# 5. Plot the ROC curve\n",
    "plt.figure(figsize=(8, 6))\n",
    "\n",
    "colors = ['blue', 'green', 'red']\n",
    "for i in range(n_classess):\n",
    "    plt.plot(\n",
    "        fpr[i],\n",
    "        tpr[i],\n",
    "        color=colors[i],\n",
    "        lw=2,\n",
    "        label=f\"ROC curve for class {i} (AUC = {roc_auc[i]:.2f})\",\n",
    "    )\n",
    "\n",
    "plt.plot([0, 1], [0, 1], 'k--', lw=2)  # Diagonal line (random guess)\n",
    "plt.xlim([0.0, 1.0])\n",
    "plt.ylim([0.0, 1.05])\n",
    "plt.xlabel(\"False Positive Rate\")\n",
    "plt.ylabel(\"True Positive Rate\")\n",
    "plt.title(\"ROC Curve for Multi-Class Random Forest\")\n",
    "plt.legend(loc=\"lower right\")\n",
    "plt.grid(alpha=0.3)\n",
    "plt.show()"
   ]
  },
  {
   "cell_type": "markdown",
   "id": "dc3d37fb-6ab8-4c56-83d1-049e0091ceca",
   "metadata": {},
   "source": [
    "### Wrap RandomForestClassifier with OneVsRestClassifier (using StratifiedKFold & RandomizedSearchCV)"
   ]
  },
  {
   "cell_type": "code",
   "execution_count": 71,
   "id": "8f2a7851-e6ed-4282-9db0-ad3603de7601",
   "metadata": {},
   "outputs": [],
   "source": [
    "X, y = df_cleaned.iloc[:, 2:], df_cleaned['grid_code']"
   ]
  },
  {
   "cell_type": "code",
   "execution_count": 78,
   "id": "28943a0c-3154-4bd7-afa5-ed4edd38ca3d",
   "metadata": {},
   "outputs": [
    {
     "data": {
      "text/plain": [
       "array([1., 2., 3., 4., 5.])"
      ]
     },
     "execution_count": 78,
     "metadata": {},
     "output_type": "execute_result"
    }
   ],
   "source": [
    "np.unique(y)"
   ]
  },
  {
   "cell_type": "code",
   "execution_count": 76,
   "id": "07ff69d6-8298-45e2-a51a-8ba9d8354c8c",
   "metadata": {},
   "outputs": [],
   "source": [
    "# Split data into training and testing sets\n",
    "# X_train_bin, X_test_bin, y_train_bin, y_test_bin = train_test_split(X, y_bin, test_size=0.3, random_state=42, stratify=y_bin)"
   ]
  },
  {
   "cell_type": "code",
   "execution_count": 75,
   "id": "8ebc70e0-7c0c-4e9a-9e05-9fd5c2ee8b9e",
   "metadata": {},
   "outputs": [],
   "source": [
    "# Split the data\n",
    "X_train, X_test, y_train, y_test = train_test_split(X, y, test_size=0.3, random_state=42)"
   ]
  },
  {
   "cell_type": "code",
   "execution_count": 87,
   "id": "0f11cf79-e07a-478a-932a-4db26fe306ab",
   "metadata": {},
   "outputs": [
    {
     "name": "stdout",
     "output_type": "stream",
     "text": [
      "Best Parameters: {'estimator__n_estimators': 300, 'estimator__min_samples_split': 10, 'estimator__min_samples_leaf': 1, 'estimator__max_depth': None}\n",
      "Best Score: 0.9557784422800821\n"
     ]
    }
   ],
   "source": [
    "# Create a StratifiedKFold object\n",
    "skf = StratifiedKFold(n_splits=5, shuffle=True, random_state=42)\n",
    "\n",
    "# Define the RandomForestClassifier\n",
    "rf = RandomForestClassifier(random_state=42)\n",
    "\n",
    "# Wrap it in OneVsRestClassifier\n",
    "ovr = OneVsRestClassifier(rf)\n",
    "\n",
    "# Define the hyperparameter grid for RandomizedSearchCV\n",
    "param_dist = {\n",
    "    \"estimator__n_estimators\": [50, 100, 200, 300],\n",
    "    \"estimator__max_depth\": [None, 10, 20, 30],\n",
    "    \"estimator__min_samples_split\": [2, 5, 10],\n",
    "    \"estimator__min_samples_leaf\": [1, 2, 4],\n",
    "}\n",
    "\n",
    "# RandomizedSearchCV setup\n",
    "random_search = RandomizedSearchCV(\n",
    "    estimator = ovr, \n",
    "    param_distributions = param_dist, \n",
    "    n_iter = 10, \n",
    "    scoring = 'accuracy',\n",
    "    # scoring = 'roc_auc_ovr'\n",
    "    # cv = 3,\n",
    "    cv = skf,\n",
    "    random_state = 42\n",
    ")\n",
    "\n",
    "# Fit the model\n",
    "random_search.fit(X_train, y_train)\n",
    "\n",
    "# Best parameters and score\n",
    "print(\"Best Parameters:\", random_search.best_params_)\n",
    "print(\"Best Score:\", random_search.best_score_)"
   ]
  },
  {
   "cell_type": "code",
   "execution_count": 93,
   "id": "9c864043-11be-4bf4-b8b0-76d8a53ae77b",
   "metadata": {},
   "outputs": [
    {
     "name": "stdout",
     "output_type": "stream",
     "text": [
      "Accuracy: 0.9537385129490392\n",
      "F1-score (micro): 0.9537385129490392\n",
      "F1-score (macro): 0.9609987643200146\n",
      "F1-score (weighted): 0.9537173707149829\n"
     ]
    }
   ],
   "source": [
    "# Predict\n",
    "y_pred = random_search.best_estimator_.predict(X_test)\n",
    "\n",
    "# Calculate accuracy + other metrics\n",
    "accuracy = accuracy_score(y_test, y_pred)\n",
    "print(\"Accuracy:\", accuracy)\n",
    "\n",
    "f1_micro = f1_score(y_test, y_pred, average='micro')\n",
    "f1_macro = f1_score(y_test, y_pred, average='macro')\n",
    "f1_weighted = f1_score(y_test, y_pred, average='weighted')\n",
    "\n",
    "print(\"F1-score (micro):\", f1_micro)\n",
    "print(\"F1-score (macro):\", f1_macro)\n",
    "print(\"F1-score (weighted):\", f1_weighted)"
   ]
  },
  {
   "cell_type": "code",
   "execution_count": 85,
   "id": "86ed44dc-bbb4-465f-97ec-bfe692a790be",
   "metadata": {},
   "outputs": [
    {
     "name": "stdout",
     "output_type": "stream",
     "text": [
      "(9576, 5)\n"
     ]
    },
    {
     "data": {
      "text/plain": [
       "5"
      ]
     },
     "execution_count": 85,
     "metadata": {},
     "output_type": "execute_result"
    }
   ],
   "source": [
    "# Binarize the output\n",
    "y_test_bin = label_binarize(y_test, classes = np.unique(y))\n",
    "n_classes = y_test_bin.shape[1]\n",
    "print(y_test_bin.shape)\n",
    "n_classes"
   ]
  },
  {
   "cell_type": "code",
   "execution_count": 91,
   "id": "e7f00b71-bd04-4c15-8c90-40a4f61394d7",
   "metadata": {
    "scrolled": true
   },
   "outputs": [
    {
     "name": "stdout",
     "output_type": "stream",
     "text": [
      "y_score: [[0.96631391 0.         0.         0.03368609 0.        ]\n",
      " [0.97754294 0.         0.         0.02245706 0.        ]\n",
      " [0.92594069 0.         0.07405931 0.         0.        ]\n",
      " ...\n",
      " [0.99226991 0.00773009 0.         0.         0.        ]\n",
      " [0.00767149 0.         0.99232851 0.         0.        ]\n",
      " [0.         0.04224486 0.95775514 0.         0.        ]]\n",
      "y_score.shape: (9576, 5)\n"
     ]
    }
   ],
   "source": [
    "# Predict probabilities\n",
    "y_score = random_search.best_estimator_.predict_proba(X_test)\n",
    "print(f\"y_score: {y_score}\")\n",
    "print(f\"y_score.shape: {y_score.shape}\")"
   ]
  },
  {
   "cell_type": "code",
   "execution_count": 92,
   "id": "98044aff-05cd-4dfa-ab63-0ff6c0bdb362",
   "metadata": {},
   "outputs": [
    {
     "data": {
      "image/png": "[encoded data removed]",
      "text/plain": [
       "<Figure size 640x480 with 1 Axes>"
      ]
     },
     "metadata": {},
     "output_type": "display_data"
    }
   ],
   "source": [
    "# Compute & plot ROC curve and AUC for each class\n",
    "for i in range(n_classes):\n",
    "    fpr, tpr, _ = roc_curve(y_test_bin[:, i], y_score[:, i])\n",
    "    roc_auc = auc(fpr, tpr)\n",
    "    plt.plot(fpr, tpr, label=f\"Class {i+1} (AUC = {roc_auc:.2f})\")\n",
    "\n",
    "# Plot diagonal line for reference\n",
    "plt.plot([0, 1], [0, 1], 'k--')\n",
    "plt.xlabel(\"False Positive Rate\")\n",
    "plt.ylabel(\"True Positive Rate\")\n",
    "plt.title(\"ROC Curve for RandomForestClassifier (Multiclass Classification)\")\n",
    "plt.legend()\n",
    "plt.show()"
   ]
  },
  {
   "cell_type": "code",
   "execution_count": null,
   "id": "c41325a0-fab0-42bd-9476-d35396872133",
   "metadata": {},
   "outputs": [],
   "source": []
  },
  {
   "cell_type": "markdown",
   "id": "220cabcb-90b9-4f3b-8df3-d2ee43cc6cf8",
   "metadata": {
    "jp-MarkdownHeadingCollapsed": true
   },
   "source": [
    "### --> predict for a new datapoint (sample)"
   ]
  },
  {
   "cell_type": "code",
   "execution_count": null,
   "id": "bf407649-40d7-44d2-b1b5-f8a6a70a80ca",
   "metadata": {},
   "outputs": [],
   "source": [
    "# Example new data point\n",
    "new_data_point = np.array([[5.0, 3.0, 1.0, 1.0, 2.0, 2.0, 5.0]])  # Replace with your actual data\n",
    "\n",
    "# Assuming random_search is a fitted RandomizedSearchCV object\n",
    "best_rf_model = random_search.best_estimator_  # Access best model\n",
    "\n",
    "# Predict probabilities and class for RandomForestClassifier\n",
    "class_probabilities = best_rf_model.predict_proba(new_data_point)\n",
    "predicted_class = best_rf_model.predict(new_data_point)\n",
    "\n",
    "print(\"Predicted Class Probabilities (RandomForest):\", class_probabilities)\n",
    "print(\"Predicted Class (RandomForest):\", predicted_class)\n",
    "\n",
    "# If using OneVsRestClassifier\n",
    "class_probabilities_ovr = ovr_model.predict_proba(new_data_point)\n",
    "predicted_class_ovr = np.argmax(class_probabilities_ovr, axis=1)\n",
    "\n",
    "print(\"\\nPredicted Class Probabilities (OneVsRest):\", class_probabilities_ovr)\n",
    "print(\"Predicted Class (OneVsRest):\", predicted_class_ovr)"
   ]
  },
  {
   "cell_type": "code",
   "execution_count": null,
   "id": "91d7d581-90ff-4139-b96c-b39c7f2600ac",
   "metadata": {},
   "outputs": [],
   "source": []
  }
 ],
 "metadata": {
  "kernelspec": {
   "display_name": "Python 3 (ipykernel)",
   "language": "python",
   "name": "python3"
  },
  "language_info": {
   "codemirror_mode": {
    "name": "ipython",
    "version": 3
   },
   "file_extension": ".py",
   "mimetype": "text/x-python",
   "name": "python",
   "nbconvert_exporter": "python",
   "pygments_lexer": "ipython3",
   "version": "3.11.9"
  }
 },
 "nbformat": 4,
 "nbformat_minor": 5
}
