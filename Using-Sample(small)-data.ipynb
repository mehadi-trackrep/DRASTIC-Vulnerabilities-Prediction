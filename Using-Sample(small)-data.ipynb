{
 "cells": [
  {
   "cell_type": "code",
   "execution_count": 1,
   "id": "77e87531-db4e-481c-b3dd-8d4bb6b4685c",
   "metadata": {},
   "outputs": [
    {
     "name": "stdout",
     "output_type": "stream",
     "text": [
      "Libraries Imported\n"
     ]
    }
   ],
   "source": [
    " #Importing Libraries\n",
    "import numpy as np\n",
    "import pandas as pd\n",
    "from sklearn.svm import SVC\n",
    "from sklearn.model_selection import train_test_split\n",
    "from sklearn.preprocessing import StandardScaler\n",
    "from sklearn.ensemble import RandomForestClassifier\n",
    "from sklearn.metrics import classification_report, confusion_matrix, roc_curve, auc\n",
    "from sklearn.multiclass import OneVsRestClassifier\n",
    "import matplotlib.pyplot as plt\n",
    "import seaborn as sns\n",
    "print('Libraries Imported')"
   ]
  },
  {
   "cell_type": "code",
   "execution_count": 5,
   "id": "d9d1bfee-4210-4a6c-9e48-81bd168164c9",
   "metadata": {},
   "outputs": [],
   "source": [
    "df = pd.read_csv('data/input/sample.csv')"
   ]
  },
  {
   "cell_type": "code",
   "execution_count": 9,
   "id": "1f68015d-f8b7-48d5-b6a8-b626a3bd88b3",
   "metadata": {},
   "outputs": [
    {
     "data": {
      "text/html": [
       "<div>\n",
       "<style scoped>\n",
       "    .dataframe tbody tr th:only-of-type {\n",
       "        vertical-align: middle;\n",
       "    }\n",
       "\n",
       "    .dataframe tbody tr th {\n",
       "        vertical-align: top;\n",
       "    }\n",
       "\n",
       "    .dataframe thead th {\n",
       "        text-align: right;\n",
       "    }\n",
       "</style>\n",
       "<table border=\"1\" class=\"dataframe\">\n",
       "  <thead>\n",
       "    <tr style=\"text-align: right;\">\n",
       "      <th></th>\n",
       "      <th>OBJECTID *</th>\n",
       "      <th>pointid</th>\n",
       "      <th>grid_code</th>\n",
       "      <th>Vulnerabil</th>\n",
       "      <th>Tropograpy</th>\n",
       "      <th>Soil__Media</th>\n",
       "      <th>Net_Recharge</th>\n",
       "      <th>Impact_Vandose_Zone</th>\n",
       "      <th>Hydrolic_Conductivity</th>\n",
       "      <th>Depth_to_Acquifer</th>\n",
       "      <th>Aquirfer_Media</th>\n",
       "    </tr>\n",
       "  </thead>\n",
       "  <tbody>\n",
       "    <tr>\n",
       "      <th>0</th>\n",
       "      <td>2</td>\n",
       "      <td>3255</td>\n",
       "      <td>3</td>\n",
       "      <td>Medium (78-100)</td>\n",
       "      <td>3</td>\n",
       "      <td>4</td>\n",
       "      <td>1</td>\n",
       "      <td>3</td>\n",
       "      <td>1</td>\n",
       "      <td>5</td>\n",
       "      <td>1</td>\n",
       "    </tr>\n",
       "    <tr>\n",
       "      <th>1</th>\n",
       "      <td>4</td>\n",
       "      <td>3257</td>\n",
       "      <td>3</td>\n",
       "      <td>Medium (78-100)</td>\n",
       "      <td>1</td>\n",
       "      <td>4</td>\n",
       "      <td>1</td>\n",
       "      <td>3</td>\n",
       "      <td>1</td>\n",
       "      <td>5</td>\n",
       "      <td>1</td>\n",
       "    </tr>\n",
       "    <tr>\n",
       "      <th>2</th>\n",
       "      <td>5</td>\n",
       "      <td>3258</td>\n",
       "      <td>3</td>\n",
       "      <td>Medium (78-100)</td>\n",
       "      <td>2</td>\n",
       "      <td>4</td>\n",
       "      <td>1</td>\n",
       "      <td>3</td>\n",
       "      <td>1</td>\n",
       "      <td>5</td>\n",
       "      <td>1</td>\n",
       "    </tr>\n",
       "    <tr>\n",
       "      <th>3</th>\n",
       "      <td>6</td>\n",
       "      <td>3259</td>\n",
       "      <td>3</td>\n",
       "      <td>Medium (78-100)</td>\n",
       "      <td>1</td>\n",
       "      <td>4</td>\n",
       "      <td>1</td>\n",
       "      <td>2</td>\n",
       "      <td>1</td>\n",
       "      <td>5</td>\n",
       "      <td>1</td>\n",
       "    </tr>\n",
       "    <tr>\n",
       "      <th>4</th>\n",
       "      <td>9</td>\n",
       "      <td>3262</td>\n",
       "      <td>2</td>\n",
       "      <td>Low (47-78)</td>\n",
       "      <td>1</td>\n",
       "      <td>4</td>\n",
       "      <td>1</td>\n",
       "      <td>3</td>\n",
       "      <td>1</td>\n",
       "      <td>5</td>\n",
       "      <td>1</td>\n",
       "    </tr>\n",
       "  </tbody>\n",
       "</table>\n",
       "</div>"
      ],
      "text/plain": [
       "   OBJECTID *  pointid  grid_code       Vulnerabil  Tropograpy  Soil__Media  \\\n",
       "0           2     3255          3  Medium (78-100)           3            4   \n",
       "1           4     3257          3  Medium (78-100)           1            4   \n",
       "2           5     3258          3  Medium (78-100)           2            4   \n",
       "3           6     3259          3  Medium (78-100)           1            4   \n",
       "4           9     3262          2      Low (47-78)           1            4   \n",
       "\n",
       "   Net_Recharge  Impact_Vandose_Zone  Hydrolic_Conductivity  \\\n",
       "0             1                    3                      1   \n",
       "1             1                    3                      1   \n",
       "2             1                    3                      1   \n",
       "3             1                    2                      1   \n",
       "4             1                    3                      1   \n",
       "\n",
       "   Depth_to_Acquifer  Aquirfer_Media  \n",
       "0                  5               1  \n",
       "1                  5               1  \n",
       "2                  5               1  \n",
       "3                  5               1  \n",
       "4                  5               1  "
      ]
     },
     "execution_count": 9,
     "metadata": {},
     "output_type": "execute_result"
    }
   ],
   "source": [
    "df.head()"
   ]
  },
  {
   "cell_type": "code",
   "execution_count": 6,
   "id": "f77358df-5396-4d93-82eb-1de70006a8a1",
   "metadata": {},
   "outputs": [],
   "source": [
    "df = df.drop(['OBJECTID *'], axis=1) # remove unnecessary columns"
   ]
  },
  {
   "cell_type": "code",
   "execution_count": 7,
   "id": "11f86974-d7b8-421d-92fe-7c46c004cbd0",
   "metadata": {},
   "outputs": [
    {
     "data": {
      "text/html": [
       "<div>\n",
       "<style scoped>\n",
       "    .dataframe tbody tr th:only-of-type {\n",
       "        vertical-align: middle;\n",
       "    }\n",
       "\n",
       "    .dataframe tbody tr th {\n",
       "        vertical-align: top;\n",
       "    }\n",
       "\n",
       "    .dataframe thead th {\n",
       "        text-align: right;\n",
       "    }\n",
       "</style>\n",
       "<table border=\"1\" class=\"dataframe\">\n",
       "  <thead>\n",
       "    <tr style=\"text-align: right;\">\n",
       "      <th></th>\n",
       "      <th>pointid</th>\n",
       "      <th>grid_code</th>\n",
       "      <th>Vulnerabil</th>\n",
       "      <th>Tropograpy</th>\n",
       "      <th>Soil__Media</th>\n",
       "      <th>Net_Recharge</th>\n",
       "      <th>Impact_Vandose_Zone</th>\n",
       "      <th>Hydrolic_Conductivity</th>\n",
       "      <th>Depth_to_Acquifer</th>\n",
       "      <th>Aquirfer_Media</th>\n",
       "    </tr>\n",
       "  </thead>\n",
       "  <tbody>\n",
       "    <tr>\n",
       "      <th>0</th>\n",
       "      <td>3255</td>\n",
       "      <td>3</td>\n",
       "      <td>Medium (78-100)</td>\n",
       "      <td>3</td>\n",
       "      <td>4</td>\n",
       "      <td>1</td>\n",
       "      <td>3</td>\n",
       "      <td>1</td>\n",
       "      <td>5</td>\n",
       "      <td>1</td>\n",
       "    </tr>\n",
       "    <tr>\n",
       "      <th>1</th>\n",
       "      <td>3257</td>\n",
       "      <td>3</td>\n",
       "      <td>Medium (78-100)</td>\n",
       "      <td>1</td>\n",
       "      <td>4</td>\n",
       "      <td>1</td>\n",
       "      <td>3</td>\n",
       "      <td>1</td>\n",
       "      <td>5</td>\n",
       "      <td>1</td>\n",
       "    </tr>\n",
       "    <tr>\n",
       "      <th>2</th>\n",
       "      <td>3258</td>\n",
       "      <td>3</td>\n",
       "      <td>Medium (78-100)</td>\n",
       "      <td>2</td>\n",
       "      <td>4</td>\n",
       "      <td>1</td>\n",
       "      <td>3</td>\n",
       "      <td>1</td>\n",
       "      <td>5</td>\n",
       "      <td>1</td>\n",
       "    </tr>\n",
       "    <tr>\n",
       "      <th>3</th>\n",
       "      <td>3259</td>\n",
       "      <td>3</td>\n",
       "      <td>Medium (78-100)</td>\n",
       "      <td>1</td>\n",
       "      <td>4</td>\n",
       "      <td>1</td>\n",
       "      <td>2</td>\n",
       "      <td>1</td>\n",
       "      <td>5</td>\n",
       "      <td>1</td>\n",
       "    </tr>\n",
       "    <tr>\n",
       "      <th>4</th>\n",
       "      <td>3262</td>\n",
       "      <td>2</td>\n",
       "      <td>Low (47-78)</td>\n",
       "      <td>1</td>\n",
       "      <td>4</td>\n",
       "      <td>1</td>\n",
       "      <td>3</td>\n",
       "      <td>1</td>\n",
       "      <td>5</td>\n",
       "      <td>1</td>\n",
       "    </tr>\n",
       "  </tbody>\n",
       "</table>\n",
       "</div>"
      ],
      "text/plain": [
       "   pointid  grid_code       Vulnerabil  Tropograpy  Soil__Media  Net_Recharge  \\\n",
       "0     3255          3  Medium (78-100)           3            4             1   \n",
       "1     3257          3  Medium (78-100)           1            4             1   \n",
       "2     3258          3  Medium (78-100)           2            4             1   \n",
       "3     3259          3  Medium (78-100)           1            4             1   \n",
       "4     3262          2      Low (47-78)           1            4             1   \n",
       "\n",
       "   Impact_Vandose_Zone  Hydrolic_Conductivity  Depth_to_Acquifer  \\\n",
       "0                    3                      1                  5   \n",
       "1                    3                      1                  5   \n",
       "2                    3                      1                  5   \n",
       "3                    2                      1                  5   \n",
       "4                    3                      1                  5   \n",
       "\n",
       "   Aquirfer_Media  \n",
       "0               1  \n",
       "1               1  \n",
       "2               1  \n",
       "3               1  \n",
       "4               1  "
      ]
     },
     "execution_count": 7,
     "metadata": {},
     "output_type": "execute_result"
    }
   ],
   "source": [
    "df.head()"
   ]
  },
  {
   "cell_type": "code",
   "execution_count": 8,
   "id": "6ecb9d09-55e4-4cc2-aebb-75ea04af6988",
   "metadata": {},
   "outputs": [],
   "source": [
    "# <Null>\n",
    "df1 = df.replace(\"<Null>\", None)"
   ]
  },
  {
   "cell_type": "code",
   "execution_count": 10,
   "id": "61058aa2-530e-4ae2-ad98-880ac9dd962c",
   "metadata": {
    "scrolled": true
   },
   "outputs": [
    {
     "data": {
      "text/html": [
       "<div>\n",
       "<style scoped>\n",
       "    .dataframe tbody tr th:only-of-type {\n",
       "        vertical-align: middle;\n",
       "    }\n",
       "\n",
       "    .dataframe tbody tr th {\n",
       "        vertical-align: top;\n",
       "    }\n",
       "\n",
       "    .dataframe thead th {\n",
       "        text-align: right;\n",
       "    }\n",
       "</style>\n",
       "<table border=\"1\" class=\"dataframe\">\n",
       "  <thead>\n",
       "    <tr style=\"text-align: right;\">\n",
       "      <th></th>\n",
       "      <th>pointid</th>\n",
       "      <th>grid_code</th>\n",
       "      <th>Vulnerabil</th>\n",
       "      <th>Tropograpy</th>\n",
       "      <th>Soil__Media</th>\n",
       "      <th>Net_Recharge</th>\n",
       "      <th>Impact_Vandose_Zone</th>\n",
       "      <th>Hydrolic_Conductivity</th>\n",
       "      <th>Depth_to_Acquifer</th>\n",
       "      <th>Aquirfer_Media</th>\n",
       "    </tr>\n",
       "  </thead>\n",
       "  <tbody>\n",
       "    <tr>\n",
       "      <th>0</th>\n",
       "      <td>3255</td>\n",
       "      <td>3</td>\n",
       "      <td>Medium (78-100)</td>\n",
       "      <td>3</td>\n",
       "      <td>4</td>\n",
       "      <td>1</td>\n",
       "      <td>3</td>\n",
       "      <td>1</td>\n",
       "      <td>5</td>\n",
       "      <td>1</td>\n",
       "    </tr>\n",
       "    <tr>\n",
       "      <th>1</th>\n",
       "      <td>3257</td>\n",
       "      <td>3</td>\n",
       "      <td>Medium (78-100)</td>\n",
       "      <td>1</td>\n",
       "      <td>4</td>\n",
       "      <td>1</td>\n",
       "      <td>3</td>\n",
       "      <td>1</td>\n",
       "      <td>5</td>\n",
       "      <td>1</td>\n",
       "    </tr>\n",
       "    <tr>\n",
       "      <th>2</th>\n",
       "      <td>3258</td>\n",
       "      <td>3</td>\n",
       "      <td>Medium (78-100)</td>\n",
       "      <td>2</td>\n",
       "      <td>4</td>\n",
       "      <td>1</td>\n",
       "      <td>3</td>\n",
       "      <td>1</td>\n",
       "      <td>5</td>\n",
       "      <td>1</td>\n",
       "    </tr>\n",
       "  </tbody>\n",
       "</table>\n",
       "</div>"
      ],
      "text/plain": [
       "   pointid  grid_code       Vulnerabil  Tropograpy  Soil__Media  Net_Recharge  \\\n",
       "0     3255          3  Medium (78-100)           3            4             1   \n",
       "1     3257          3  Medium (78-100)           1            4             1   \n",
       "2     3258          3  Medium (78-100)           2            4             1   \n",
       "\n",
       "   Impact_Vandose_Zone  Hydrolic_Conductivity  Depth_to_Acquifer  \\\n",
       "0                    3                      1                  5   \n",
       "1                    3                      1                  5   \n",
       "2                    3                      1                  5   \n",
       "\n",
       "   Aquirfer_Media  \n",
       "0               1  \n",
       "1               1  \n",
       "2               1  "
      ]
     },
     "execution_count": 10,
     "metadata": {},
     "output_type": "execute_result"
    }
   ],
   "source": [
    "df1.head(3)"
   ]
  },
  {
   "cell_type": "markdown",
   "id": "8f5d8e17-6600-4e34-896f-9d8fdd79b970",
   "metadata": {},
   "source": [
    "### Data Cleaning"
   ]
  },
  {
   "cell_type": "markdown",
   "id": "933e7c42-1d91-41af-addc-52148707d819",
   "metadata": {},
   "source": [
    "##### '''As we have imbalanced dataset, so we will use Stratified K-Fold technique where we may use Grid Search / Randomized Search to \n",
    "##### optimize the underlying hyperparameters.'''"
   ]
  },
  {
   "cell_type": "markdown",
   "id": "53084e59-4d10-4722-833f-303b87d47d2c",
   "metadata": {},
   "source": [
    "'''\n",
    "##### And we know that - \n",
    "##### Oversampling: This technique involves increasing the number of instances in the minority class.\n",
    "##### Hybrid Approaches: Combining oversampling and undersampling techniques can be effective in certain scenarios.   \n",
    "##### Class Weighting: Assigning different weights to different classes can help balance the impact of class imbalance.   \n",
    "##### Algorithm Selection: Choosing algorithms that are robust to class imbalance, such as decision trees or ensemble methods \n",
    "##### like Random Forest and XGBoost.\n",
    "'''"
   ]
  },
  {
   "cell_type": "code",
   "execution_count": 22,
   "id": "5a79f3bf-3040-4833-b26c-19d56ab3eb40",
   "metadata": {
    "scrolled": true
   },
   "outputs": [
    {
     "data": {
      "text/html": [
       "<div>\n",
       "<style scoped>\n",
       "    .dataframe tbody tr th:only-of-type {\n",
       "        vertical-align: middle;\n",
       "    }\n",
       "\n",
       "    .dataframe tbody tr th {\n",
       "        vertical-align: top;\n",
       "    }\n",
       "\n",
       "    .dataframe thead th {\n",
       "        text-align: right;\n",
       "    }\n",
       "</style>\n",
       "<table border=\"1\" class=\"dataframe\">\n",
       "  <thead>\n",
       "    <tr style=\"text-align: right;\">\n",
       "      <th></th>\n",
       "      <th>pointid</th>\n",
       "      <th>grid_code</th>\n",
       "      <th>Tropograpy</th>\n",
       "      <th>Soil__Media</th>\n",
       "      <th>Net_Recharge</th>\n",
       "      <th>Impact_Vandose_Zone</th>\n",
       "      <th>Hydrolic_Conductivity</th>\n",
       "      <th>Depth_to_Acquifer</th>\n",
       "      <th>Aquirfer_Media</th>\n",
       "    </tr>\n",
       "  </thead>\n",
       "  <tbody>\n",
       "    <tr>\n",
       "      <th>0</th>\n",
       "      <td>3255</td>\n",
       "      <td>3</td>\n",
       "      <td>3</td>\n",
       "      <td>4</td>\n",
       "      <td>1</td>\n",
       "      <td>3</td>\n",
       "      <td>1</td>\n",
       "      <td>5</td>\n",
       "      <td>1</td>\n",
       "    </tr>\n",
       "    <tr>\n",
       "      <th>1</th>\n",
       "      <td>3257</td>\n",
       "      <td>3</td>\n",
       "      <td>1</td>\n",
       "      <td>4</td>\n",
       "      <td>1</td>\n",
       "      <td>3</td>\n",
       "      <td>1</td>\n",
       "      <td>5</td>\n",
       "      <td>1</td>\n",
       "    </tr>\n",
       "    <tr>\n",
       "      <th>2</th>\n",
       "      <td>3258</td>\n",
       "      <td>3</td>\n",
       "      <td>2</td>\n",
       "      <td>4</td>\n",
       "      <td>1</td>\n",
       "      <td>3</td>\n",
       "      <td>1</td>\n",
       "      <td>5</td>\n",
       "      <td>1</td>\n",
       "    </tr>\n",
       "    <tr>\n",
       "      <th>3</th>\n",
       "      <td>3259</td>\n",
       "      <td>3</td>\n",
       "      <td>1</td>\n",
       "      <td>4</td>\n",
       "      <td>1</td>\n",
       "      <td>2</td>\n",
       "      <td>1</td>\n",
       "      <td>5</td>\n",
       "      <td>1</td>\n",
       "    </tr>\n",
       "    <tr>\n",
       "      <th>4</th>\n",
       "      <td>3262</td>\n",
       "      <td>2</td>\n",
       "      <td>1</td>\n",
       "      <td>4</td>\n",
       "      <td>1</td>\n",
       "      <td>3</td>\n",
       "      <td>1</td>\n",
       "      <td>5</td>\n",
       "      <td>1</td>\n",
       "    </tr>\n",
       "    <tr>\n",
       "      <th>5</th>\n",
       "      <td>3263</td>\n",
       "      <td>3</td>\n",
       "      <td>3</td>\n",
       "      <td>6</td>\n",
       "      <td>1</td>\n",
       "      <td>3</td>\n",
       "      <td>1</td>\n",
       "      <td>5</td>\n",
       "      <td>1</td>\n",
       "    </tr>\n",
       "    <tr>\n",
       "      <th>6</th>\n",
       "      <td>3264</td>\n",
       "      <td>2</td>\n",
       "      <td>1</td>\n",
       "      <td>2</td>\n",
       "      <td>1</td>\n",
       "      <td>3</td>\n",
       "      <td>1</td>\n",
       "      <td>5</td>\n",
       "      <td>1</td>\n",
       "    </tr>\n",
       "    <tr>\n",
       "      <th>7</th>\n",
       "      <td>3265</td>\n",
       "      <td>3</td>\n",
       "      <td>4</td>\n",
       "      <td>2</td>\n",
       "      <td>1</td>\n",
       "      <td>2</td>\n",
       "      <td>1</td>\n",
       "      <td>5</td>\n",
       "      <td>1</td>\n",
       "    </tr>\n",
       "    <tr>\n",
       "      <th>8</th>\n",
       "      <td>3266</td>\n",
       "      <td>2</td>\n",
       "      <td>3</td>\n",
       "      <td>2</td>\n",
       "      <td>1</td>\n",
       "      <td>3</td>\n",
       "      <td>1</td>\n",
       "      <td>5</td>\n",
       "      <td>1</td>\n",
       "    </tr>\n",
       "    <tr>\n",
       "      <th>9</th>\n",
       "      <td>3267</td>\n",
       "      <td>3</td>\n",
       "      <td>3</td>\n",
       "      <td>4</td>\n",
       "      <td>1</td>\n",
       "      <td>3</td>\n",
       "      <td>1</td>\n",
       "      <td>5</td>\n",
       "      <td>1</td>\n",
       "    </tr>\n",
       "    <tr>\n",
       "      <th>10</th>\n",
       "      <td>3268</td>\n",
       "      <td>2</td>\n",
       "      <td>2</td>\n",
       "      <td>4</td>\n",
       "      <td>1</td>\n",
       "      <td>3</td>\n",
       "      <td>1</td>\n",
       "      <td>5</td>\n",
       "      <td>1</td>\n",
       "    </tr>\n",
       "    <tr>\n",
       "      <th>11</th>\n",
       "      <td>3269</td>\n",
       "      <td>3</td>\n",
       "      <td>2</td>\n",
       "      <td>6</td>\n",
       "      <td>1</td>\n",
       "      <td>2</td>\n",
       "      <td>1</td>\n",
       "      <td>5</td>\n",
       "      <td>1</td>\n",
       "    </tr>\n",
       "    <tr>\n",
       "      <th>12</th>\n",
       "      <td>3270</td>\n",
       "      <td>2</td>\n",
       "      <td>1</td>\n",
       "      <td>4</td>\n",
       "      <td>1</td>\n",
       "      <td>2</td>\n",
       "      <td>1</td>\n",
       "      <td>5</td>\n",
       "      <td>1</td>\n",
       "    </tr>\n",
       "    <tr>\n",
       "      <th>13</th>\n",
       "      <td>3271</td>\n",
       "      <td>3</td>\n",
       "      <td>3</td>\n",
       "      <td>4</td>\n",
       "      <td>1</td>\n",
       "      <td>3</td>\n",
       "      <td>1</td>\n",
       "      <td>5</td>\n",
       "      <td>1</td>\n",
       "    </tr>\n",
       "    <tr>\n",
       "      <th>14</th>\n",
       "      <td>3272</td>\n",
       "      <td>2</td>\n",
       "      <td>3</td>\n",
       "      <td>7</td>\n",
       "      <td>1</td>\n",
       "      <td>1</td>\n",
       "      <td>1</td>\n",
       "      <td>5</td>\n",
       "      <td>3</td>\n",
       "    </tr>\n",
       "    <tr>\n",
       "      <th>15</th>\n",
       "      <td>3273</td>\n",
       "      <td>3</td>\n",
       "      <td>3</td>\n",
       "      <td>4</td>\n",
       "      <td>1</td>\n",
       "      <td>3</td>\n",
       "      <td>1</td>\n",
       "      <td>5</td>\n",
       "      <td>1</td>\n",
       "    </tr>\n",
       "    <tr>\n",
       "      <th>16</th>\n",
       "      <td>3274</td>\n",
       "      <td>3</td>\n",
       "      <td>2</td>\n",
       "      <td>4</td>\n",
       "      <td>1</td>\n",
       "      <td>3</td>\n",
       "      <td>1</td>\n",
       "      <td>5</td>\n",
       "      <td>1</td>\n",
       "    </tr>\n",
       "    <tr>\n",
       "      <th>17</th>\n",
       "      <td>3475</td>\n",
       "      <td>1</td>\n",
       "      <td>3</td>\n",
       "      <td>4</td>\n",
       "      <td>2</td>\n",
       "      <td>2</td>\n",
       "      <td>2</td>\n",
       "      <td>5</td>\n",
       "      <td>1</td>\n",
       "    </tr>\n",
       "    <tr>\n",
       "      <th>18</th>\n",
       "      <td>3476</td>\n",
       "      <td>1</td>\n",
       "      <td>4</td>\n",
       "      <td>4</td>\n",
       "      <td>2</td>\n",
       "      <td>2</td>\n",
       "      <td>2</td>\n",
       "      <td>5</td>\n",
       "      <td>1</td>\n",
       "    </tr>\n",
       "    <tr>\n",
       "      <th>19</th>\n",
       "      <td>3477</td>\n",
       "      <td>1</td>\n",
       "      <td>2</td>\n",
       "      <td>4</td>\n",
       "      <td>2</td>\n",
       "      <td>2</td>\n",
       "      <td>2</td>\n",
       "      <td>5</td>\n",
       "      <td>1</td>\n",
       "    </tr>\n",
       "    <tr>\n",
       "      <th>20</th>\n",
       "      <td>3478</td>\n",
       "      <td>1</td>\n",
       "      <td>3</td>\n",
       "      <td>4</td>\n",
       "      <td>2</td>\n",
       "      <td>2</td>\n",
       "      <td>2</td>\n",
       "      <td>5</td>\n",
       "      <td>1</td>\n",
       "    </tr>\n",
       "  </tbody>\n",
       "</table>\n",
       "</div>"
      ],
      "text/plain": [
       "    pointid  grid_code  Tropograpy  Soil__Media  Net_Recharge  \\\n",
       "0      3255          3           3            4             1   \n",
       "1      3257          3           1            4             1   \n",
       "2      3258          3           2            4             1   \n",
       "3      3259          3           1            4             1   \n",
       "4      3262          2           1            4             1   \n",
       "5      3263          3           3            6             1   \n",
       "6      3264          2           1            2             1   \n",
       "7      3265          3           4            2             1   \n",
       "8      3266          2           3            2             1   \n",
       "9      3267          3           3            4             1   \n",
       "10     3268          2           2            4             1   \n",
       "11     3269          3           2            6             1   \n",
       "12     3270          2           1            4             1   \n",
       "13     3271          3           3            4             1   \n",
       "14     3272          2           3            7             1   \n",
       "15     3273          3           3            4             1   \n",
       "16     3274          3           2            4             1   \n",
       "17     3475          1           3            4             2   \n",
       "18     3476          1           4            4             2   \n",
       "19     3477          1           2            4             2   \n",
       "20     3478          1           3            4             2   \n",
       "\n",
       "    Impact_Vandose_Zone  Hydrolic_Conductivity  Depth_to_Acquifer  \\\n",
       "0                     3                      1                  5   \n",
       "1                     3                      1                  5   \n",
       "2                     3                      1                  5   \n",
       "3                     2                      1                  5   \n",
       "4                     3                      1                  5   \n",
       "5                     3                      1                  5   \n",
       "6                     3                      1                  5   \n",
       "7                     2                      1                  5   \n",
       "8                     3                      1                  5   \n",
       "9                     3                      1                  5   \n",
       "10                    3                      1                  5   \n",
       "11                    2                      1                  5   \n",
       "12                    2                      1                  5   \n",
       "13                    3                      1                  5   \n",
       "14                    1                      1                  5   \n",
       "15                    3                      1                  5   \n",
       "16                    3                      1                  5   \n",
       "17                    2                      2                  5   \n",
       "18                    2                      2                  5   \n",
       "19                    2                      2                  5   \n",
       "20                    2                      2                  5   \n",
       "\n",
       "    Aquirfer_Media  \n",
       "0                1  \n",
       "1                1  \n",
       "2                1  \n",
       "3                1  \n",
       "4                1  \n",
       "5                1  \n",
       "6                1  \n",
       "7                1  \n",
       "8                1  \n",
       "9                1  \n",
       "10               1  \n",
       "11               1  \n",
       "12               1  \n",
       "13               1  \n",
       "14               3  \n",
       "15               1  \n",
       "16               1  \n",
       "17               1  \n",
       "18               1  \n",
       "19               1  \n",
       "20               1  "
      ]
     },
     "execution_count": 22,
     "metadata": {},
     "output_type": "execute_result"
    }
   ],
   "source": [
    "df"
   ]
  },
  {
   "cell_type": "code",
   "execution_count": 11,
   "id": "4d2ac9ce-f473-4c56-97bf-635d0b68bdcf",
   "metadata": {},
   "outputs": [],
   "source": [
    "X, y = df.drop(['grid_code'], axis=1), df['grid_code']"
   ]
  },
  {
   "cell_type": "code",
   "execution_count": 12,
   "id": "ddf4c00d-f4fa-4c6d-a690-30bf7fe951ec",
   "metadata": {},
   "outputs": [
    {
     "name": "stdout",
     "output_type": "stream",
     "text": [
      "(21, 9)\n",
      "(21,)\n"
     ]
    }
   ],
   "source": [
    "print(X.shape)\n",
    "print(y.shape)"
   ]
  },
  {
   "cell_type": "code",
   "execution_count": 13,
   "id": "88949d4f-c8d0-471b-ab41-f3e347761839",
   "metadata": {},
   "outputs": [
    {
     "data": {
      "text/plain": [
       "21"
      ]
     },
     "execution_count": 13,
     "metadata": {},
     "output_type": "execute_result"
    }
   ],
   "source": [
    "df['pointid'].nunique()"
   ]
  },
  {
   "cell_type": "code",
   "execution_count": 25,
   "id": "dc89eeaf-a19c-420a-92f6-9158844f25ac",
   "metadata": {},
   "outputs": [],
   "source": [
    "IGNORED_COLS_DURING_TRAINING = ['pointid','Vulnerabil']"
   ]
  },
  {
   "cell_type": "code",
   "execution_count": 52,
   "id": "c840f314-e64f-4a4d-b912-a0746d5867a9",
   "metadata": {},
   "outputs": [],
   "source": [
    "DRASTIC_COLS = ['Tropograpy', 'Soil__Media', 'Net_Recharge', 'Impact_Vandose_Zone', 'Hydrolic_Conductivity', 'Depth_to_Acquifer', 'Aquirfer_Media']"
   ]
  },
  {
   "cell_type": "markdown",
   "id": "27d8a476-a53b-4a1b-ad00-714f6d4223c7",
   "metadata": {},
   "source": [
    "### Train-Test Splitting"
   ]
  },
  {
   "cell_type": "code",
   "execution_count": 48,
   "id": "8c4d62f5-5088-487b-af3e-caf64d4ea22e",
   "metadata": {},
   "outputs": [],
   "source": [
    "###INFO: `support` is how many samples are in each class."
   ]
  },
  {
   "cell_type": "code",
   "execution_count": 14,
   "id": "cd260b2b-d439-4ab9-8bf9-9573813cd483",
   "metadata": {},
   "outputs": [],
   "source": [
    "from sklearn.preprocessing import label_binarize\n",
    "from sklearn.multiclass import OneVsRestClassifier\n",
    "from sklearn.metrics import accuracy_score, roc_curve, roc_auc_score, f1_score"
   ]
  },
  {
   "cell_type": "markdown",
   "id": "e5c4b65d-9b67-4f1c-8825-2db6b8cdd4f1",
   "metadata": {},
   "source": [
    "#### ==> Using label binarize technique for ROC curve"
   ]
  },
  {
   "cell_type": "markdown",
   "id": "0bbf46f3-3f16-4aba-8ccc-a0e348e53f85",
   "metadata": {},
   "source": [
    "#####     Binarize the output (One-vs-Rest)"
   ]
  },
  {
   "cell_type": "code",
   "execution_count": 15,
   "id": "1eed6b60-b1c1-4350-9805-62ffff4a139f",
   "metadata": {},
   "outputs": [
    {
     "name": "stdout",
     "output_type": "stream",
     "text": [
      "shape:  (21, 3)\n",
      "n_classes: 3\n"
     ]
    }
   ],
   "source": [
    "y_bin = label_binarize(y, classes = np.unique(y))\n",
    "n_classes = y_bin.shape[1]\n",
    "print(\"shape: \",y_bin.shape)\n",
    "print(f\"n_classes: {n_classes}\")"
   ]
  },
  {
   "cell_type": "code",
   "execution_count": 16,
   "id": "797832ce-10e3-4528-9ffe-bd5981e2ec87",
   "metadata": {},
   "outputs": [
    {
     "data": {
      "text/plain": [
       "array([[0, 0, 1],\n",
       "       [0, 0, 1],\n",
       "       [0, 0, 1],\n",
       "       [0, 0, 1],\n",
       "       [0, 1, 0],\n",
       "       [0, 0, 1],\n",
       "       [0, 1, 0],\n",
       "       [0, 0, 1],\n",
       "       [0, 1, 0],\n",
       "       [0, 0, 1],\n",
       "       [0, 1, 0],\n",
       "       [0, 0, 1],\n",
       "       [0, 1, 0],\n",
       "       [0, 0, 1],\n",
       "       [0, 1, 0],\n",
       "       [0, 0, 1],\n",
       "       [0, 0, 1],\n",
       "       [1, 0, 0],\n",
       "       [1, 0, 0],\n",
       "       [1, 0, 0],\n",
       "       [1, 0, 0]])"
      ]
     },
     "execution_count": 16,
     "metadata": {},
     "output_type": "execute_result"
    }
   ],
   "source": [
    "y_bin"
   ]
  },
  {
   "cell_type": "code",
   "execution_count": 17,
   "id": "db1361a5-2822-416b-8139-d93c85672ebf",
   "metadata": {},
   "outputs": [],
   "source": [
    "# Split data into training and testing sets\n",
    "X_train_bin, X_test_bin, y_train_bin, y_test_bin = train_test_split(X, y_bin, test_size=0.3, random_state=42, stratify=y_bin)"
   ]
  },
  {
   "cell_type": "code",
   "execution_count": 18,
   "id": "55d13a0a-bf98-4fef-9b0d-3e3598ff13f2",
   "metadata": {},
   "outputs": [
    {
     "data": {
      "text/plain": [
       "(14, 9)"
      ]
     },
     "execution_count": 18,
     "metadata": {},
     "output_type": "execute_result"
    }
   ],
   "source": [
    "X_train_bin.shape"
   ]
  },
  {
   "cell_type": "code",
   "execution_count": 19,
   "id": "f6b7bd67-3442-4649-af22-0bf66415a142",
   "metadata": {},
   "outputs": [
    {
     "data": {
      "text/html": [
       "<div>\n",
       "<style scoped>\n",
       "    .dataframe tbody tr th:only-of-type {\n",
       "        vertical-align: middle;\n",
       "    }\n",
       "\n",
       "    .dataframe tbody tr th {\n",
       "        vertical-align: top;\n",
       "    }\n",
       "\n",
       "    .dataframe thead th {\n",
       "        text-align: right;\n",
       "    }\n",
       "</style>\n",
       "<table border=\"1\" class=\"dataframe\">\n",
       "  <thead>\n",
       "    <tr style=\"text-align: right;\">\n",
       "      <th></th>\n",
       "      <th>pointid</th>\n",
       "      <th>Vulnerabil</th>\n",
       "      <th>Tropograpy</th>\n",
       "      <th>Soil__Media</th>\n",
       "      <th>Net_Recharge</th>\n",
       "      <th>Impact_Vandose_Zone</th>\n",
       "      <th>Hydrolic_Conductivity</th>\n",
       "      <th>Depth_to_Acquifer</th>\n",
       "      <th>Aquirfer_Media</th>\n",
       "    </tr>\n",
       "  </thead>\n",
       "  <tbody>\n",
       "    <tr>\n",
       "      <th>5</th>\n",
       "      <td>3263</td>\n",
       "      <td>Medium (78-100)</td>\n",
       "      <td>3</td>\n",
       "      <td>6</td>\n",
       "      <td>1</td>\n",
       "      <td>3</td>\n",
       "      <td>1</td>\n",
       "      <td>5</td>\n",
       "      <td>1</td>\n",
       "    </tr>\n",
       "    <tr>\n",
       "      <th>17</th>\n",
       "      <td>3475</td>\n",
       "      <td>High (100-122)</td>\n",
       "      <td>3</td>\n",
       "      <td>4</td>\n",
       "      <td>2</td>\n",
       "      <td>2</td>\n",
       "      <td>2</td>\n",
       "      <td>5</td>\n",
       "      <td>1</td>\n",
       "    </tr>\n",
       "    <tr>\n",
       "      <th>3</th>\n",
       "      <td>3259</td>\n",
       "      <td>Medium (78-100)</td>\n",
       "      <td>1</td>\n",
       "      <td>4</td>\n",
       "      <td>1</td>\n",
       "      <td>2</td>\n",
       "      <td>1</td>\n",
       "      <td>5</td>\n",
       "      <td>1</td>\n",
       "    </tr>\n",
       "    <tr>\n",
       "      <th>10</th>\n",
       "      <td>3268</td>\n",
       "      <td>Low (47-78)</td>\n",
       "      <td>2</td>\n",
       "      <td>4</td>\n",
       "      <td>1</td>\n",
       "      <td>3</td>\n",
       "      <td>1</td>\n",
       "      <td>5</td>\n",
       "      <td>1</td>\n",
       "    </tr>\n",
       "    <tr>\n",
       "      <th>12</th>\n",
       "      <td>3270</td>\n",
       "      <td>Low (47-78)</td>\n",
       "      <td>1</td>\n",
       "      <td>4</td>\n",
       "      <td>1</td>\n",
       "      <td>2</td>\n",
       "      <td>1</td>\n",
       "      <td>5</td>\n",
       "      <td>1</td>\n",
       "    </tr>\n",
       "    <tr>\n",
       "      <th>9</th>\n",
       "      <td>3267</td>\n",
       "      <td>Medium (78-100)</td>\n",
       "      <td>3</td>\n",
       "      <td>4</td>\n",
       "      <td>1</td>\n",
       "      <td>3</td>\n",
       "      <td>1</td>\n",
       "      <td>5</td>\n",
       "      <td>1</td>\n",
       "    </tr>\n",
       "    <tr>\n",
       "      <th>11</th>\n",
       "      <td>3269</td>\n",
       "      <td>Medium (78-100)</td>\n",
       "      <td>2</td>\n",
       "      <td>6</td>\n",
       "      <td>1</td>\n",
       "      <td>2</td>\n",
       "      <td>1</td>\n",
       "      <td>5</td>\n",
       "      <td>1</td>\n",
       "    </tr>\n",
       "  </tbody>\n",
       "</table>\n",
       "</div>"
      ],
      "text/plain": [
       "    pointid       Vulnerabil  Tropograpy  Soil__Media  Net_Recharge  \\\n",
       "5      3263  Medium (78-100)           3            6             1   \n",
       "17     3475   High (100-122)           3            4             2   \n",
       "3      3259  Medium (78-100)           1            4             1   \n",
       "10     3268      Low (47-78)           2            4             1   \n",
       "12     3270      Low (47-78)           1            4             1   \n",
       "9      3267  Medium (78-100)           3            4             1   \n",
       "11     3269  Medium (78-100)           2            6             1   \n",
       "\n",
       "    Impact_Vandose_Zone  Hydrolic_Conductivity  Depth_to_Acquifer  \\\n",
       "5                     3                      1                  5   \n",
       "17                    2                      2                  5   \n",
       "3                     2                      1                  5   \n",
       "10                    3                      1                  5   \n",
       "12                    2                      1                  5   \n",
       "9                     3                      1                  5   \n",
       "11                    2                      1                  5   \n",
       "\n",
       "    Aquirfer_Media  \n",
       "5                1  \n",
       "17               1  \n",
       "3                1  \n",
       "10               1  \n",
       "12               1  \n",
       "9                1  \n",
       "11               1  "
      ]
     },
     "execution_count": 19,
     "metadata": {},
     "output_type": "execute_result"
    }
   ],
   "source": [
    "X_test_bin"
   ]
  },
  {
   "cell_type": "code",
   "execution_count": 20,
   "id": "2eea5a6c-5498-43f0-a5bb-de6138db9421",
   "metadata": {},
   "outputs": [
    {
     "data": {
      "text/plain": [
       "array([[0, 0, 1],\n",
       "       [1, 0, 0],\n",
       "       [0, 0, 1],\n",
       "       [0, 1, 0],\n",
       "       [0, 1, 0],\n",
       "       [0, 0, 1],\n",
       "       [0, 0, 1]])"
      ]
     },
     "execution_count": 20,
     "metadata": {},
     "output_type": "execute_result"
    }
   ],
   "source": [
    "y_test_bin"
   ]
  },
  {
   "cell_type": "code",
   "execution_count": 36,
   "id": "9c9ef670-0404-4e4b-ad58-97b5c0805fec",
   "metadata": {},
   "outputs": [
    {
     "data": {
      "text/plain": [
       "array([1, 2, 3])"
      ]
     },
     "execution_count": 36,
     "metadata": {},
     "output_type": "execute_result"
    }
   ],
   "source": [
    "class_labels = np.unique(y)\n",
    "class_labels"
   ]
  },
  {
   "cell_type": "code",
   "execution_count": 84,
   "id": "0b870233-54d3-489e-a7f4-a139f794dee4",
   "metadata": {},
   "outputs": [
    {
     "name": "stdout",
     "output_type": "stream",
     "text": [
      "[3, 1, 3, 2, 2, 3, 3]\n"
     ]
    }
   ],
   "source": [
    "# Find the index of the maximum value in each row\n",
    "ground_truth_indices = np.argmax(y_test_bin, axis=1) # it's binary data & we need to look for 1 value (true)\n",
    "\n",
    "# Map the indices to the class labels\n",
    "ground_truth_labels = [int(class_labels[i]) for i in ground_truth_indices]\n",
    "\n",
    "print(ground_truth_labels)"
   ]
  },
  {
   "cell_type": "markdown",
   "id": "102eb138-a9b0-4be7-bf08-3ef46028ad24",
   "metadata": {},
   "source": [
    "### SVM (SVC)"
   ]
  },
  {
   "cell_type": "code",
   "execution_count": 21,
   "id": "9f5930fd-073c-4c98-9603-21bbbbacbdb4",
   "metadata": {},
   "outputs": [],
   "source": [
    "from sklearn.svm import SVC"
   ]
  },
  {
   "cell_type": "code",
   "execution_count": 22,
   "id": "59664983-fdce-4e50-b462-17cc0eed32ef",
   "metadata": {
    "scrolled": true
   },
   "outputs": [
    {
     "name": "stdout",
     "output_type": "stream",
     "text": [
      "0     3\n",
      "1     3\n",
      "2     3\n",
      "3     3\n",
      "4     2\n",
      "5     3\n",
      "6     2\n",
      "7     3\n",
      "8     2\n",
      "9     3\n",
      "10    2\n",
      "11    3\n",
      "12    2\n",
      "13    3\n",
      "14    2\n",
      "15    3\n",
      "16    3\n",
      "17    1\n",
      "18    1\n",
      "19    1\n",
      "20    1\n",
      "Name: grid_code, dtype: int64\n",
      "[[0 0 1]\n",
      " [0 0 1]\n",
      " [0 0 1]\n",
      " [0 0 1]\n",
      " [0 1 0]\n",
      " [0 0 1]\n",
      " [0 1 0]\n",
      " [0 0 1]\n",
      " [0 1 0]\n",
      " [0 0 1]\n",
      " [0 1 0]\n",
      " [0 0 1]\n",
      " [0 1 0]\n",
      " [0 0 1]\n",
      " [0 1 0]\n",
      " [0 0 1]\n",
      " [0 0 1]\n",
      " [1 0 0]\n",
      " [1 0 0]\n",
      " [1 0 0]\n",
      " [1 0 0]]\n",
      "y.shape: (21,)\n",
      "y_bin.shape: (21, 3)\n",
      "3\n"
     ]
    }
   ],
   "source": [
    "print(y)\n",
    "print(y_bin)\n",
    "print(f\"y.shape: {y.shape}\")\n",
    "print(f\"y_bin.shape: {y_bin.shape}\")\n",
    "print(n_classes)"
   ]
  },
  {
   "cell_type": "code",
   "execution_count": 85,
   "id": "b6ee5b1f-fa7d-4180-a073-51d68b9fa9c4",
   "metadata": {},
   "outputs": [
    {
     "name": "stdout",
     "output_type": "stream",
     "text": [
      "SVC Accuracy: 0.7142857142857143\n",
      "              precision    recall  f1-score   support\n",
      "\n",
      "           0       1.00      1.00      1.00         1\n",
      "           1       0.50      0.50      0.50         2\n",
      "           2       0.75      0.75      0.75         4\n",
      "\n",
      "   micro avg       0.71      0.71      0.71         7\n",
      "   macro avg       0.75      0.75      0.75         7\n",
      "weighted avg       0.71      0.71      0.71         7\n",
      " samples avg       0.71      0.71      0.71         7\n",
      "\n"
     ]
    }
   ],
   "source": [
    "# Train SVC with OneVsRest strategy\n",
    "svc = OneVsRestClassifier(SVC(kernel='linear', probability=True))\n",
    "svc.fit(X_train_bin.drop(columns=IGNORED_COLS_DURING_TRAINING), y_train_bin)\n",
    "\n",
    "y_pred = svc.predict(\n",
    "    X_test_bin.drop(columns=IGNORED_COLS_DURING_TRAINING)\n",
    ")\n",
    "\n",
    "print(\"SVC Accuracy:\", accuracy_score(y_test_bin, y_pred))\n",
    "print(classification_report(y_test_bin, y_pred))\n",
    "\n",
    "y_score = svc.decision_function(\n",
    "    X_test_bin.drop(columns=IGNORED_COLS_DURING_TRAINING)\n",
    ")"
   ]
  },
  {
   "cell_type": "code",
   "execution_count": 86,
   "id": "5de77889-c67c-44e3-9a34-a36a03a0e9d4",
   "metadata": {},
   "outputs": [
    {
     "data": {
      "text/html": [
       "<div>\n",
       "<style scoped>\n",
       "    .dataframe tbody tr th:only-of-type {\n",
       "        vertical-align: middle;\n",
       "    }\n",
       "\n",
       "    .dataframe tbody tr th {\n",
       "        vertical-align: top;\n",
       "    }\n",
       "\n",
       "    .dataframe thead th {\n",
       "        text-align: right;\n",
       "    }\n",
       "</style>\n",
       "<table border=\"1\" class=\"dataframe\">\n",
       "  <thead>\n",
       "    <tr style=\"text-align: right;\">\n",
       "      <th></th>\n",
       "      <th>pointid</th>\n",
       "      <th>Vulnerabil</th>\n",
       "      <th>Tropograpy</th>\n",
       "      <th>Soil__Media</th>\n",
       "      <th>Net_Recharge</th>\n",
       "      <th>Impact_Vandose_Zone</th>\n",
       "      <th>Hydrolic_Conductivity</th>\n",
       "      <th>Depth_to_Acquifer</th>\n",
       "      <th>Aquirfer_Media</th>\n",
       "    </tr>\n",
       "  </thead>\n",
       "  <tbody>\n",
       "    <tr>\n",
       "      <th>5</th>\n",
       "      <td>3263</td>\n",
       "      <td>Medium (78-100)</td>\n",
       "      <td>3</td>\n",
       "      <td>6</td>\n",
       "      <td>1</td>\n",
       "      <td>3</td>\n",
       "      <td>1</td>\n",
       "      <td>5</td>\n",
       "      <td>1</td>\n",
       "    </tr>\n",
       "    <tr>\n",
       "      <th>17</th>\n",
       "      <td>3475</td>\n",
       "      <td>High (100-122)</td>\n",
       "      <td>3</td>\n",
       "      <td>4</td>\n",
       "      <td>2</td>\n",
       "      <td>2</td>\n",
       "      <td>2</td>\n",
       "      <td>5</td>\n",
       "      <td>1</td>\n",
       "    </tr>\n",
       "    <tr>\n",
       "      <th>3</th>\n",
       "      <td>3259</td>\n",
       "      <td>Medium (78-100)</td>\n",
       "      <td>1</td>\n",
       "      <td>4</td>\n",
       "      <td>1</td>\n",
       "      <td>2</td>\n",
       "      <td>1</td>\n",
       "      <td>5</td>\n",
       "      <td>1</td>\n",
       "    </tr>\n",
       "    <tr>\n",
       "      <th>10</th>\n",
       "      <td>3268</td>\n",
       "      <td>Low (47-78)</td>\n",
       "      <td>2</td>\n",
       "      <td>4</td>\n",
       "      <td>1</td>\n",
       "      <td>3</td>\n",
       "      <td>1</td>\n",
       "      <td>5</td>\n",
       "      <td>1</td>\n",
       "    </tr>\n",
       "    <tr>\n",
       "      <th>12</th>\n",
       "      <td>3270</td>\n",
       "      <td>Low (47-78)</td>\n",
       "      <td>1</td>\n",
       "      <td>4</td>\n",
       "      <td>1</td>\n",
       "      <td>2</td>\n",
       "      <td>1</td>\n",
       "      <td>5</td>\n",
       "      <td>1</td>\n",
       "    </tr>\n",
       "  </tbody>\n",
       "</table>\n",
       "</div>"
      ],
      "text/plain": [
       "    pointid       Vulnerabil  Tropograpy  Soil__Media  Net_Recharge  \\\n",
       "5      3263  Medium (78-100)           3            6             1   \n",
       "17     3475   High (100-122)           3            4             2   \n",
       "3      3259  Medium (78-100)           1            4             1   \n",
       "10     3268      Low (47-78)           2            4             1   \n",
       "12     3270      Low (47-78)           1            4             1   \n",
       "\n",
       "    Impact_Vandose_Zone  Hydrolic_Conductivity  Depth_to_Acquifer  \\\n",
       "5                     3                      1                  5   \n",
       "17                    2                      2                  5   \n",
       "3                     2                      1                  5   \n",
       "10                    3                      1                  5   \n",
       "12                    2                      1                  5   \n",
       "\n",
       "    Aquirfer_Media  \n",
       "5                1  \n",
       "17               1  \n",
       "3                1  \n",
       "10               1  \n",
       "12               1  "
      ]
     },
     "execution_count": 86,
     "metadata": {},
     "output_type": "execute_result"
    }
   ],
   "source": [
    "results = X_test_bin.copy()\n",
    "results.head()"
   ]
  },
  {
   "cell_type": "code",
   "execution_count": 87,
   "id": "4d940ed2-8a4f-4e69-82e4-45e18cb7b2df",
   "metadata": {},
   "outputs": [
    {
     "data": {
      "text/html": [
       "<div>\n",
       "<style scoped>\n",
       "    .dataframe tbody tr th:only-of-type {\n",
       "        vertical-align: middle;\n",
       "    }\n",
       "\n",
       "    .dataframe tbody tr th {\n",
       "        vertical-align: top;\n",
       "    }\n",
       "\n",
       "    .dataframe thead th {\n",
       "        text-align: right;\n",
       "    }\n",
       "</style>\n",
       "<table border=\"1\" class=\"dataframe\">\n",
       "  <thead>\n",
       "    <tr style=\"text-align: right;\">\n",
       "      <th></th>\n",
       "      <th>0</th>\n",
       "    </tr>\n",
       "  </thead>\n",
       "  <tbody>\n",
       "    <tr>\n",
       "      <th>0</th>\n",
       "      <td>3</td>\n",
       "    </tr>\n",
       "    <tr>\n",
       "      <th>1</th>\n",
       "      <td>1</td>\n",
       "    </tr>\n",
       "    <tr>\n",
       "      <th>2</th>\n",
       "      <td>3</td>\n",
       "    </tr>\n",
       "    <tr>\n",
       "      <th>3</th>\n",
       "      <td>2</td>\n",
       "    </tr>\n",
       "    <tr>\n",
       "      <th>4</th>\n",
       "      <td>2</td>\n",
       "    </tr>\n",
       "    <tr>\n",
       "      <th>5</th>\n",
       "      <td>3</td>\n",
       "    </tr>\n",
       "    <tr>\n",
       "      <th>6</th>\n",
       "      <td>3</td>\n",
       "    </tr>\n",
       "  </tbody>\n",
       "</table>\n",
       "</div>"
      ],
      "text/plain": [
       "   0\n",
       "0  3\n",
       "1  1\n",
       "2  3\n",
       "3  2\n",
       "4  2\n",
       "5  3\n",
       "6  3"
      ]
     },
     "execution_count": 87,
     "metadata": {},
     "output_type": "execute_result"
    }
   ],
   "source": [
    "test_ground_truth_df = pd.DataFrame(np.array(ground_truth_labels))\n",
    "test_ground_truth_df "
   ]
  },
  {
   "cell_type": "code",
   "execution_count": 89,
   "id": "c7fb7747-65b0-4e9d-826f-b2acec17e4d0",
   "metadata": {},
   "outputs": [
    {
     "name": "stdout",
     "output_type": "stream",
     "text": [
      "[3, 1, 2, 3, 2, 3, 3]\n"
     ]
    }
   ],
   "source": [
    "# Find the index of the maximum value in each row\n",
    "predicted_indices = np.argmax(y_pred, axis=1) # it's binary data & we need to look for 1 value (true)\n",
    "\n",
    "# Map the indices to the class labels\n",
    "predicted_labels = [int(class_labels[i]) for i in predicted_indices]\n",
    "\n",
    "print(predicted_labels)"
   ]
  },
  {
   "cell_type": "code",
   "execution_count": 90,
   "id": "f4a4ebb0-9e31-4734-9ccc-a8080e35a1c5",
   "metadata": {},
   "outputs": [
    {
     "data": {
      "text/html": [
       "<div>\n",
       "<style scoped>\n",
       "    .dataframe tbody tr th:only-of-type {\n",
       "        vertical-align: middle;\n",
       "    }\n",
       "\n",
       "    .dataframe tbody tr th {\n",
       "        vertical-align: top;\n",
       "    }\n",
       "\n",
       "    .dataframe thead th {\n",
       "        text-align: right;\n",
       "    }\n",
       "</style>\n",
       "<table border=\"1\" class=\"dataframe\">\n",
       "  <thead>\n",
       "    <tr style=\"text-align: right;\">\n",
       "      <th></th>\n",
       "      <th>0</th>\n",
       "    </tr>\n",
       "  </thead>\n",
       "  <tbody>\n",
       "    <tr>\n",
       "      <th>0</th>\n",
       "      <td>3</td>\n",
       "    </tr>\n",
       "    <tr>\n",
       "      <th>1</th>\n",
       "      <td>1</td>\n",
       "    </tr>\n",
       "    <tr>\n",
       "      <th>2</th>\n",
       "      <td>2</td>\n",
       "    </tr>\n",
       "    <tr>\n",
       "      <th>3</th>\n",
       "      <td>3</td>\n",
       "    </tr>\n",
       "    <tr>\n",
       "      <th>4</th>\n",
       "      <td>2</td>\n",
       "    </tr>\n",
       "    <tr>\n",
       "      <th>5</th>\n",
       "      <td>3</td>\n",
       "    </tr>\n",
       "    <tr>\n",
       "      <th>6</th>\n",
       "      <td>3</td>\n",
       "    </tr>\n",
       "  </tbody>\n",
       "</table>\n",
       "</div>"
      ],
      "text/plain": [
       "   0\n",
       "0  3\n",
       "1  1\n",
       "2  2\n",
       "3  3\n",
       "4  2\n",
       "5  3\n",
       "6  3"
      ]
     },
     "execution_count": 90,
     "metadata": {},
     "output_type": "execute_result"
    }
   ],
   "source": [
    "test_prediction_df = pd.DataFrame(np.array(predicted_labels))\n",
    "test_prediction_df"
   ]
  },
  {
   "cell_type": "markdown",
   "id": "56345173-b81f-4ccb-ba54-0ced6d176b69",
   "metadata": {},
   "source": [
    "#### Merging prediction and taking the ground truth with location params"
   ]
  },
  {
   "cell_type": "code",
   "execution_count": 91,
   "id": "3e65d4dc-2800-4abe-880f-5045b0d003a9",
   "metadata": {},
   "outputs": [
    {
     "name": "stdout",
     "output_type": "stream",
     "text": [
      "   pointid       vulnerabil  ground_truth  predicted_label\n",
      "0     3263  Medium (78-100)             3                3\n",
      "1     3475   High (100-122)             1                1\n",
      "2     3259  Medium (78-100)             3                2\n",
      "3     3268      Low (47-78)             2                3\n",
      "4     3270      Low (47-78)             2                2\n",
      "5     3267  Medium (78-100)             3                3\n",
      "6     3269  Medium (78-100)             3                3\n"
     ]
    }
   ],
   "source": [
    "df1 = pd.DataFrame({'pointid': results['pointid'].values.flatten().tolist()})\n",
    "df2 = pd.DataFrame({'vulnerabil': results['Vulnerabil'].values.flatten().tolist()})\n",
    "df3 = pd.DataFrame({'ground_truth': test_ground_truth_df.values.flatten().tolist()})\n",
    "df4 = pd.DataFrame({'predicted_label': test_prediction_df.values.flatten().tolist()})\n",
    "\n",
    "# Concatenate DataFrames side-by-side\n",
    "merged_df = pd.concat([df1, df2, df3, df4], axis=1)\n",
    "\n",
    "print(merged_df)"
   ]
  },
  {
   "cell_type": "code",
   "execution_count": 92,
   "id": "ab288910-b74b-4cd7-af16-d2cd4f2ca6d5",
   "metadata": {},
   "outputs": [
    {
     "data": {
      "image/png": "[encoded data removed]",
      "text/plain": [
       "<Figure size 800x600 with 1 Axes>"
      ]
     },
     "metadata": {},
     "output_type": "display_data"
    }
   ],
   "source": [
    "# Plot ROC curves\n",
    "plt.figure(figsize=(8, 6))\n",
    "for i in range(n_classes):\n",
    "    fpr, tpr, _ = roc_curve(y_test_bin[:, i], y_score[:, i])\n",
    "    roc_auc = auc(fpr, tpr)\n",
    "    plt.plot(fpr, tpr, label=f\"SVC Class {i+1} (AUC = {roc_auc:.2f})\")\n",
    "\n",
    "plt.plot([0, 1], [0, 1], 'k--')\n",
    "plt.xlabel(\"False Positive Rate\")\n",
    "plt.ylabel(\"True Positive Rate\")\n",
    "plt.title(\"ROC Curve for SVC\")\n",
    "plt.legend()\n",
    "plt.show()"
   ]
  },
  {
   "cell_type": "code",
   "execution_count": 93,
   "id": "db1f4a59-d938-4e31-a698-7416b6f1ce06",
   "metadata": {},
   "outputs": [],
   "source": [
    "merged_df.to_csv('data/output/svm_result.csv',\n",
    "          index=False,  # Don't include the index\n",
    "          sep=',',      # Use comma as the delimiter\n",
    "          decimal='.',  # Specify the decimal point\n",
    "          header=True,  # Include the column headers\n",
    "          encoding='utf-8')  # Specify the encoding"
   ]
  },
  {
   "cell_type": "code",
   "execution_count": null,
   "id": "6b039802-a132-4375-928e-e796b914f6b0",
   "metadata": {},
   "outputs": [],
   "source": []
  },
  {
   "cell_type": "code",
   "execution_count": null,
   "id": "b8bf68fa-d315-48a2-9446-61b88ddd7017",
   "metadata": {},
   "outputs": [],
   "source": []
  },
  {
   "cell_type": "code",
   "execution_count": null,
   "id": "b111f981-00a2-44da-984b-33de9bec987b",
   "metadata": {},
   "outputs": [],
   "source": []
  },
  {
   "cell_type": "code",
   "execution_count": 55,
   "id": "656b2e4c-90fa-42e4-82f0-39a8891fab54",
   "metadata": {},
   "outputs": [],
   "source": [
    "from sklearn.model_selection import StratifiedKFold, RandomizedSearchCV\n",
    "from sklearn.datasets import make_classification"
   ]
  },
  {
   "cell_type": "markdown",
   "id": "66c81c99-8bac-4bb1-8205-275b33ecd455",
   "metadata": {
    "jp-MarkdownHeadingCollapsed": true
   },
   "source": [
    "##### ***Sample code with test generated data using make_classification!! :D"
   ]
  },
  {
   "cell_type": "code",
   "execution_count": 56,
   "id": "e1360819-1ebe-4004-aa81-6b01bbd24590",
   "metadata": {},
   "outputs": [
    {
     "name": "stdout",
     "output_type": "stream",
     "text": [
      "X_trainn.shape: (700, 20)\n",
      "X_testt.shape: (300, 20)\n",
      "y_trainn.shape: (700,)\n",
      "y_testt.shape: (300,)\n",
      "y_testt_bin.shape: (300, 3)\n",
      "y_score: [[0.19 0.04 0.77]\n",
      " [0.8  0.03 0.17]\n",
      " [0.09 0.7  0.21]\n",
      " [0.62 0.38 0.  ]\n",
      " [0.03 0.89 0.08]]\n"
     ]
    },
    {
     "data": {
      "image/png": "[encoded data removed]",
      "text/plain": [
       "<Figure size 800x600 with 1 Axes>"
      ]
     },
     "metadata": {},
     "output_type": "display_data"
    }
   ],
   "source": [
    "# 1. Create a synthetic multi-class dataset\n",
    "XX, yy = make_classification(\n",
    "    n_samples=1000,       # Number of samples\n",
    "    n_features=20,        # Total number of features\n",
    "    n_informative=10,     # Number of informative features\n",
    "    n_redundant=5,        # Number of redundant features\n",
    "    n_classes=3,          # Number of classes\n",
    "    n_clusters_per_class=1,  # Number of clusters per class\n",
    "    random_state=42\n",
    ")\n",
    "n_classess = 3  # Number of classes\n",
    "\n",
    "# Split the dataset\n",
    "X_trainn, X_testt, y_trainn, y_testt = train_test_split(XX, yy, test_size=0.3, random_state=42)\n",
    "\n",
    "print(f\"X_trainn.shape: {X_trainn.shape}\")\n",
    "print(f\"X_testt.shape: {X_testt.shape}\")\n",
    "print(f\"y_trainn.shape: {y_trainn.shape}\")\n",
    "print(f\"y_testt.shape: {y_testt.shape}\")\n",
    "\n",
    "# Binarize the output (One-vs-Rest) after splitting\n",
    "y_testt_bin = label_binarize(y_testt, classes=[0, 1, 2])\n",
    "\n",
    "print(f\"y_testt_bin.shape: {y_testt_bin.shape}\")\n",
    "\n",
    "# 2. Train the RandomForest classifier\n",
    "rf = RandomForestClassifier(random_state=42)\n",
    "rf.fit(X_trainn, y_trainn)  # Use 1D y_trainn for training\n",
    "\n",
    "# 3. Get prediction probabilities for each class\n",
    "y_score = rf.predict_proba(X_testt)\n",
    "print(f\"y_score: {y_score[:5]}\")\n",
    "\n",
    "# 4. Compute ROC curve and AUC for each class\n",
    "fpr = {}\n",
    "tpr = {}\n",
    "roc_auc = {}\n",
    "\n",
    "for i in range(n_classess):\n",
    "    fpr[i], tpr[i], _ = roc_curve(y_testt_bin[:, i], y_score[:, i])\n",
    "    roc_auc[i] = auc(fpr[i], tpr[i])\n",
    "\n",
    "# 5. Plot the ROC curve\n",
    "plt.figure(figsize=(8, 6))\n",
    "\n",
    "colors = ['blue', 'green', 'red']\n",
    "for i in range(n_classess):\n",
    "    plt.plot(\n",
    "        fpr[i],\n",
    "        tpr[i],\n",
    "        color=colors[i],\n",
    "        lw=2,\n",
    "        label=f\"ROC curve for class {i} (AUC = {roc_auc[i]:.2f})\",\n",
    "    )\n",
    "\n",
    "plt.plot([0, 1], [0, 1], 'k--', lw=2)  # Diagonal line (random guess)\n",
    "plt.xlim([0.0, 1.0])\n",
    "plt.ylim([0.0, 1.05])\n",
    "plt.xlabel(\"False Positive Rate\")\n",
    "plt.ylabel(\"True Positive Rate\")\n",
    "plt.title(\"ROC Curve for Multi-Class Random Forest\")\n",
    "plt.legend(loc=\"lower right\")\n",
    "plt.grid(alpha=0.3)\n",
    "plt.show()"
   ]
  },
  {
   "cell_type": "markdown",
   "id": "dc3d37fb-6ab8-4c56-83d1-049e0091ceca",
   "metadata": {
    "jp-MarkdownHeadingCollapsed": true
   },
   "source": [
    "### Wrap RandomForestClassifier with OneVsRestClassifier (using StratifiedKFold & RandomizedSearchCV)"
   ]
  },
  {
   "cell_type": "code",
   "execution_count": 58,
   "id": "8ebc70e0-7c0c-4e9a-9e05-9fd5c2ee8b9e",
   "metadata": {},
   "outputs": [],
   "source": [
    "# Split the data\n",
    "X_train, X_test, y_train, y_test = train_test_split(X, y, test_size=0.3, random_state=42)"
   ]
  },
  {
   "cell_type": "code",
   "execution_count": 61,
   "id": "7dc66f8b-ed2b-4de1-a22e-4aade1adb0dc",
   "metadata": {},
   "outputs": [
    {
     "data": {
      "text/html": [
       "<div>\n",
       "<style scoped>\n",
       "    .dataframe tbody tr th:only-of-type {\n",
       "        vertical-align: middle;\n",
       "    }\n",
       "\n",
       "    .dataframe tbody tr th {\n",
       "        vertical-align: top;\n",
       "    }\n",
       "\n",
       "    .dataframe thead th {\n",
       "        text-align: right;\n",
       "    }\n",
       "</style>\n",
       "<table border=\"1\" class=\"dataframe\">\n",
       "  <thead>\n",
       "    <tr style=\"text-align: right;\">\n",
       "      <th></th>\n",
       "      <th>pointid</th>\n",
       "      <th>Vulnerabil</th>\n",
       "      <th>Tropograpy</th>\n",
       "      <th>Soil__Media</th>\n",
       "      <th>Net_Recharge</th>\n",
       "      <th>Impact_Vandose_Zone</th>\n",
       "      <th>Hydrolic_Conductivity</th>\n",
       "      <th>Depth_to_Acquifer</th>\n",
       "      <th>Aquirfer_Media</th>\n",
       "    </tr>\n",
       "  </thead>\n",
       "  <tbody>\n",
       "    <tr>\n",
       "      <th>0</th>\n",
       "      <td>3255</td>\n",
       "      <td>Medium (78-100)</td>\n",
       "      <td>3</td>\n",
       "      <td>4</td>\n",
       "      <td>1</td>\n",
       "      <td>3</td>\n",
       "      <td>1</td>\n",
       "      <td>5</td>\n",
       "      <td>1</td>\n",
       "    </tr>\n",
       "    <tr>\n",
       "      <th>17</th>\n",
       "      <td>3475</td>\n",
       "      <td>High (100-122)</td>\n",
       "      <td>3</td>\n",
       "      <td>4</td>\n",
       "      <td>2</td>\n",
       "      <td>2</td>\n",
       "      <td>2</td>\n",
       "      <td>5</td>\n",
       "      <td>1</td>\n",
       "    </tr>\n",
       "    <tr>\n",
       "      <th>15</th>\n",
       "      <td>3273</td>\n",
       "      <td>Medium (78-100)</td>\n",
       "      <td>3</td>\n",
       "      <td>4</td>\n",
       "      <td>1</td>\n",
       "      <td>3</td>\n",
       "      <td>1</td>\n",
       "      <td>5</td>\n",
       "      <td>1</td>\n",
       "    </tr>\n",
       "    <tr>\n",
       "      <th>1</th>\n",
       "      <td>3257</td>\n",
       "      <td>Medium (78-100)</td>\n",
       "      <td>1</td>\n",
       "      <td>4</td>\n",
       "      <td>1</td>\n",
       "      <td>3</td>\n",
       "      <td>1</td>\n",
       "      <td>5</td>\n",
       "      <td>1</td>\n",
       "    </tr>\n",
       "    <tr>\n",
       "      <th>8</th>\n",
       "      <td>3266</td>\n",
       "      <td>Low (47-78)</td>\n",
       "      <td>3</td>\n",
       "      <td>2</td>\n",
       "      <td>1</td>\n",
       "      <td>3</td>\n",
       "      <td>1</td>\n",
       "      <td>5</td>\n",
       "      <td>1</td>\n",
       "    </tr>\n",
       "  </tbody>\n",
       "</table>\n",
       "</div>"
      ],
      "text/plain": [
       "    pointid       Vulnerabil  Tropograpy  Soil__Media  Net_Recharge  \\\n",
       "0      3255  Medium (78-100)           3            4             1   \n",
       "17     3475   High (100-122)           3            4             2   \n",
       "15     3273  Medium (78-100)           3            4             1   \n",
       "1      3257  Medium (78-100)           1            4             1   \n",
       "8      3266      Low (47-78)           3            2             1   \n",
       "\n",
       "    Impact_Vandose_Zone  Hydrolic_Conductivity  Depth_to_Acquifer  \\\n",
       "0                     3                      1                  5   \n",
       "17                    2                      2                  5   \n",
       "15                    3                      1                  5   \n",
       "1                     3                      1                  5   \n",
       "8                     3                      1                  5   \n",
       "\n",
       "    Aquirfer_Media  \n",
       "0                1  \n",
       "17               1  \n",
       "15               1  \n",
       "1                1  \n",
       "8                1  "
      ]
     },
     "execution_count": 61,
     "metadata": {},
     "output_type": "execute_result"
    }
   ],
   "source": [
    "X_test.head()"
   ]
  },
  {
   "cell_type": "code",
   "execution_count": 62,
   "id": "10458af6-23bb-48e3-b882-b1afe54922ff",
   "metadata": {},
   "outputs": [
    {
     "data": {
      "text/plain": [
       "0     3\n",
       "17    1\n",
       "15    3\n",
       "1     3\n",
       "8     2\n",
       "Name: grid_code, dtype: int64"
      ]
     },
     "execution_count": 62,
     "metadata": {},
     "output_type": "execute_result"
    }
   ],
   "source": [
    "y_test.head()"
   ]
  },
  {
   "cell_type": "code",
   "execution_count": 63,
   "id": "b506c0fa-d957-4ed8-b5a2-4a7a9594d19e",
   "metadata": {},
   "outputs": [
    {
     "name": "stdout",
     "output_type": "stream",
     "text": [
      "(14, 9)\n",
      "(14,)\n"
     ]
    }
   ],
   "source": [
    "print(X_train.shape)\n",
    "print(y_train.shape)"
   ]
  },
  {
   "cell_type": "code",
   "execution_count": 64,
   "id": "0f11cf79-e07a-478a-932a-4db26fe306ab",
   "metadata": {},
   "outputs": [
    {
     "name": "stderr",
     "output_type": "stream",
     "text": [
      "/Users/goava/PERSONAL/Daily-Learning-Resources/Data-Science/venv/lib/python3.11/site-packages/sklearn/model_selection/_split.py:776: UserWarning: The least populated class in y has only 3 members, which is less than n_splits=5.\n",
      "  warnings.warn(\n"
     ]
    },
    {
     "name": "stdout",
     "output_type": "stream",
     "text": [
      "Best Parameters: {'estimator__n_estimators': 200, 'estimator__min_samples_split': 5, 'estimator__min_samples_leaf': 2, 'estimator__max_depth': None}\n",
      "Best Score: 0.6666666666666666\n"
     ]
    }
   ],
   "source": [
    "# Create a StratifiedKFold object\n",
    "skf = StratifiedKFold(n_splits=5, shuffle=True, random_state=42)\n",
    "\n",
    "# Define the RandomForestClassifier\n",
    "rf = RandomForestClassifier(random_state=42)\n",
    "\n",
    "# Wrap it in OneVsRestClassifier\n",
    "ovr = OneVsRestClassifier(rf)\n",
    "\n",
    "# Define the hyperparameter grid for RandomizedSearchCV\n",
    "param_dist = {\n",
    "    \"estimator__n_estimators\": [50, 100, 200, 300],\n",
    "    \"estimator__max_depth\": [None, 10, 20, 30],\n",
    "    \"estimator__min_samples_split\": [2, 5, 10],\n",
    "    \"estimator__min_samples_leaf\": [1, 2, 4],\n",
    "}\n",
    "\n",
    "# RandomizedSearchCV setup\n",
    "random_search = RandomizedSearchCV(\n",
    "    estimator = ovr, \n",
    "    param_distributions = param_dist, \n",
    "    n_iter = 10, \n",
    "    scoring = 'accuracy',\n",
    "    # scoring = 'roc_auc_ovr'\n",
    "    # cv = 3,\n",
    "    cv = skf,\n",
    "    random_state = 42\n",
    ")\n",
    "\n",
    "# Fit the model\n",
    "random_search.fit(X_train.drop(columns=IGNORED_COLS_DURING_TRAINING), y_train)\n",
    "\n",
    "# Best parameters and score\n",
    "print(\"Best Parameters:\", random_search.best_params_)\n",
    "print(\"Best Score:\", random_search.best_score_)"
   ]
  },
  {
   "cell_type": "code",
   "execution_count": 65,
   "id": "9c864043-11be-4bf4-b8b0-76d8a53ae77b",
   "metadata": {},
   "outputs": [
    {
     "name": "stdout",
     "output_type": "stream",
     "text": [
      "Accuracy: 0.7142857142857143\n",
      "F1-score (micro): 0.7142857142857143\n",
      "F1-score (macro): 0.6\n",
      "F1-score (weighted): 0.7142857142857143\n"
     ]
    }
   ],
   "source": [
    "# Predict\n",
    "y_pred = random_search.best_estimator_.predict(X_test.drop(columns=IGNORED_COLS_DURING_TRAINING))\n",
    "\n",
    "# Calculate accuracy + other metrics\n",
    "accuracy = accuracy_score(y_test, y_pred)\n",
    "print(\"Accuracy:\", accuracy)\n",
    "\n",
    "f1_micro = f1_score(y_test, y_pred, average='micro')\n",
    "f1_macro = f1_score(y_test, y_pred, average='macro')\n",
    "f1_weighted = f1_score(y_test, y_pred, average='weighted')\n",
    "\n",
    "print(\"F1-score (micro):\", f1_micro)\n",
    "print(\"F1-score (macro):\", f1_macro)\n",
    "print(\"F1-score (weighted):\", f1_weighted)"
   ]
  },
  {
   "cell_type": "code",
   "execution_count": 66,
   "id": "e7f00b71-bd04-4c15-8c90-40a4f61394d7",
   "metadata": {
    "scrolled": true
   },
   "outputs": [
    {
     "name": "stdout",
     "output_type": "stream",
     "text": [
      "y_score: [[0.07170736 0.31701351 0.61127914]\n",
      " [0.65677551 0.14877242 0.19445207]\n",
      " [0.07170736 0.31701351 0.61127914]\n",
      " [0.04832621 0.58541071 0.36626308]\n",
      " [0.06495674 0.33985874 0.59518452]\n",
      " [0.07170736 0.31701351 0.61127914]\n",
      " [0.12355431 0.40432076 0.47212492]]\n",
      "y_score.shape: (7, 3)\n"
     ]
    }
   ],
   "source": [
    "# Predict probabilities\n",
    "y_score = random_search.best_estimator_.predict_proba(X_test.drop(columns=IGNORED_COLS_DURING_TRAINING))\n",
    "print(f\"y_score: {y_score}\")\n",
    "print(f\"y_score.shape: {y_score.shape}\")"
   ]
  },
  {
   "cell_type": "code",
   "execution_count": 69,
   "id": "9e5dfda6-35a3-44dc-9d7f-95246f40d52a",
   "metadata": {},
   "outputs": [
    {
     "data": {
      "text/plain": [
       "3"
      ]
     },
     "execution_count": 69,
     "metadata": {},
     "output_type": "execute_result"
    }
   ],
   "source": [
    "n_classes = y.nunique()\n",
    "n_classes"
   ]
  },
  {
   "cell_type": "code",
   "execution_count": 70,
   "id": "98044aff-05cd-4dfa-ab63-0ff6c0bdb362",
   "metadata": {},
   "outputs": [
    {
     "data": {
      "image/png": "[encoded data removed]",
      "text/plain": [
       "<Figure size 640x480 with 1 Axes>"
      ]
     },
     "metadata": {},
     "output_type": "display_data"
    }
   ],
   "source": [
    "# Compute & plot ROC curve and AUC for each class\n",
    "for i in range(n_classes):\n",
    "    fpr, tpr, _ = roc_curve(y_test_bin[:, i], y_score[:, i])\n",
    "    roc_auc = auc(fpr, tpr)\n",
    "    plt.plot(fpr, tpr, label=f\"Class {i+1} (AUC = {roc_auc:.2f})\")\n",
    "\n",
    "# Plot diagonal line for reference\n",
    "plt.plot([0, 1], [0, 1], 'k--')\n",
    "plt.xlabel(\"False Positive Rate\")\n",
    "plt.ylabel(\"True Positive Rate\")\n",
    "plt.title(\"ROC Curve for RandomForestClassifier (Multiclass Classification)\")\n",
    "plt.legend()\n",
    "plt.show()"
   ]
  },
  {
   "cell_type": "code",
   "execution_count": 72,
   "id": "40c5474c-3647-4b57-a919-7691df36c2f7",
   "metadata": {},
   "outputs": [
    {
     "data": {
      "text/plain": [
       "array([3, 1, 3, 2, 3, 3, 3])"
      ]
     },
     "execution_count": 72,
     "metadata": {},
     "output_type": "execute_result"
    }
   ],
   "source": [
    "y_pred"
   ]
  },
  {
   "cell_type": "code",
   "execution_count": 74,
   "id": "9bb83319-f03f-4e89-95cd-f6385ddbc205",
   "metadata": {},
   "outputs": [
    {
     "name": "stdout",
     "output_type": "stream",
     "text": [
      "[3, 1, 3, 2, 3, 3, 3]\n"
     ]
    }
   ],
   "source": [
    "# Map the indices to the class labels\n",
    "predicted_labels = [int(val) for val in y_pred]\n",
    "\n",
    "print(predicted_labels)"
   ]
  },
  {
   "cell_type": "code",
   "execution_count": 75,
   "id": "fb37040d-2dcf-49ef-9a95-b4537f134823",
   "metadata": {},
   "outputs": [
    {
     "data": {
      "text/html": [
       "<div>\n",
       "<style scoped>\n",
       "    .dataframe tbody tr th:only-of-type {\n",
       "        vertical-align: middle;\n",
       "    }\n",
       "\n",
       "    .dataframe tbody tr th {\n",
       "        vertical-align: top;\n",
       "    }\n",
       "\n",
       "    .dataframe thead th {\n",
       "        text-align: right;\n",
       "    }\n",
       "</style>\n",
       "<table border=\"1\" class=\"dataframe\">\n",
       "  <thead>\n",
       "    <tr style=\"text-align: right;\">\n",
       "      <th></th>\n",
       "      <th>0</th>\n",
       "    </tr>\n",
       "  </thead>\n",
       "  <tbody>\n",
       "    <tr>\n",
       "      <th>0</th>\n",
       "      <td>3</td>\n",
       "    </tr>\n",
       "    <tr>\n",
       "      <th>1</th>\n",
       "      <td>1</td>\n",
       "    </tr>\n",
       "    <tr>\n",
       "      <th>2</th>\n",
       "      <td>3</td>\n",
       "    </tr>\n",
       "    <tr>\n",
       "      <th>3</th>\n",
       "      <td>2</td>\n",
       "    </tr>\n",
       "    <tr>\n",
       "      <th>4</th>\n",
       "      <td>3</td>\n",
       "    </tr>\n",
       "    <tr>\n",
       "      <th>5</th>\n",
       "      <td>3</td>\n",
       "    </tr>\n",
       "    <tr>\n",
       "      <th>6</th>\n",
       "      <td>3</td>\n",
       "    </tr>\n",
       "  </tbody>\n",
       "</table>\n",
       "</div>"
      ],
      "text/plain": [
       "   0\n",
       "0  3\n",
       "1  1\n",
       "2  3\n",
       "3  2\n",
       "4  3\n",
       "5  3\n",
       "6  3"
      ]
     },
     "execution_count": 75,
     "metadata": {},
     "output_type": "execute_result"
    }
   ],
   "source": [
    "test_prediction_df = pd.DataFrame(np.array(predicted_labels))\n",
    "test_prediction_df"
   ]
  },
  {
   "cell_type": "code",
   "execution_count": 76,
   "id": "8469b593-d438-4d47-8807-e9dfd469a510",
   "metadata": {},
   "outputs": [
    {
     "name": "stdout",
     "output_type": "stream",
     "text": [
      "   pointid       vulnerabil  ground_truth  predicted_label\n",
      "0     3263  Medium (78-100)             3                3\n",
      "1     3475   High (100-122)             1                1\n",
      "2     3259  Medium (78-100)             3                3\n",
      "3     3268      Low (47-78)             2                2\n",
      "4     3270      Low (47-78)             2                3\n",
      "5     3267  Medium (78-100)             3                3\n",
      "6     3269  Medium (78-100)             3                3\n"
     ]
    }
   ],
   "source": [
    "df1 = pd.DataFrame({'pointid': results['pointid'].values.flatten().tolist()})\n",
    "df2 = pd.DataFrame({'vulnerabil': results['Vulnerabil'].values.flatten().tolist()})\n",
    "df3 = pd.DataFrame({'ground_truth': test_ground_truth_df.values.flatten().tolist()})\n",
    "df4 = pd.DataFrame({'predicted_label': test_prediction_df.values.flatten().tolist()})\n",
    "\n",
    "# Concatenate DataFrames side-by-side\n",
    "merged_df = pd.concat([df1, df2, df3, df4], axis=1)\n",
    "\n",
    "print(merged_df)"
   ]
  },
  {
   "cell_type": "code",
   "execution_count": 79,
   "id": "0884d4d6-6e10-45c8-b240-fec2b721a5be",
   "metadata": {},
   "outputs": [],
   "source": [
    "merged_df.to_csv('data/output/rf_classifier_result.csv',\n",
    "          index=False,  # Don't include the index\n",
    "          sep=',',      # Use comma as the delimiter\n",
    "          decimal='.',  # Specify the decimal point\n",
    "          header=True,  # Include the column headers\n",
    "          encoding='utf-8')  # Specify the encoding"
   ]
  },
  {
   "cell_type": "code",
   "execution_count": null,
   "id": "c41325a0-fab0-42bd-9476-d35396872133",
   "metadata": {},
   "outputs": [],
   "source": []
  },
  {
   "cell_type": "markdown",
   "id": "220cabcb-90b9-4f3b-8df3-d2ee43cc6cf8",
   "metadata": {
    "jp-MarkdownHeadingCollapsed": true
   },
   "source": [
    "### --> predict for a new datapoint (sample)"
   ]
  },
  {
   "cell_type": "code",
   "execution_count": null,
   "id": "bf407649-40d7-44d2-b1b5-f8a6a70a80ca",
   "metadata": {},
   "outputs": [],
   "source": [
    "# Example new data point\n",
    "new_data_point = np.array([[5.0, 3.0, 1.0, 1.0, 2.0, 2.0, 5.0]])  # Replace with your actual data\n",
    "\n",
    "# Assuming random_search is a fitted RandomizedSearchCV object\n",
    "best_rf_model = random_search.best_estimator_  # Access best model\n",
    "\n",
    "# Predict probabilities and class for RandomForestClassifier\n",
    "class_probabilities = best_rf_model.predict_proba(new_data_point)\n",
    "predicted_class = best_rf_model.predict(new_data_point)\n",
    "\n",
    "print(\"Predicted Class Probabilities (RandomForest):\", class_probabilities)\n",
    "print(\"Predicted Class (RandomForest):\", predicted_class)\n",
    "\n",
    "# If using OneVsRestClassifier\n",
    "class_probabilities_ovr = ovr_model.predict_proba(new_data_point)\n",
    "predicted_class_ovr = np.argmax(class_probabilities_ovr, axis=1)\n",
    "\n",
    "print(\"\\nPredicted Class Probabilities (OneVsRest):\", class_probabilities_ovr)\n",
    "print(\"Predicted Class (OneVsRest):\", predicted_class_ovr)"
   ]
  },
  {
   "cell_type": "code",
   "execution_count": null,
   "id": "91d7d581-90ff-4139-b96c-b39c7f2600ac",
   "metadata": {},
   "outputs": [],
   "source": []
  }
 ],
 "metadata": {
  "kernelspec": {
   "display_name": "Python 3 (ipykernel)",
   "language": "python",
   "name": "python3"
  },
  "language_info": {
   "codemirror_mode": {
    "name": "ipython",
    "version": 3
   },
   "file_extension": ".py",
   "mimetype": "text/x-python",
   "name": "python",
   "nbconvert_exporter": "python",
   "pygments_lexer": "ipython3",
   "version": "3.11.9"
  }
 },
 "nbformat": 4,
 "nbformat_minor": 5
}
