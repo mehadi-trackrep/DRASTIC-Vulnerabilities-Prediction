{
 "cells": [
  {
   "cell_type": "code",
   "execution_count": 1,
   "id": "77e87531-db4e-481c-b3dd-8d4bb6b4685c",
   "metadata": {},
   "outputs": [
    {
     "name": "stdout",
     "output_type": "stream",
     "text": [
      "Libraries Imported\n"
     ]
    }
   ],
   "source": [
    " #Importing Libraries\n",
    "import numpy as np\n",
    "import pandas as pd\n",
    "from sklearn.svm import SVC\n",
    "from sklearn.model_selection import train_test_split\n",
    "from sklearn.preprocessing import StandardScaler\n",
    "from sklearn.ensemble import RandomForestClassifier\n",
    "from sklearn.metrics import classification_report, confusion_matrix, roc_curve, auc\n",
    "from sklearn.multiclass import OneVsRestClassifier\n",
    "import matplotlib.pyplot as plt\n",
    "import seaborn as sns\n",
    "print('Libraries Imported')"
   ]
  },
  {
   "cell_type": "code",
   "execution_count": 3,
   "id": "30369c34-64ec-44cf-a6b6-4a0f433c3223",
   "metadata": {},
   "outputs": [],
   "source": [
    "#df = pd.read_excel('data/input/Drastic-Model-Data-For-ML-Analysis.xlsx', header=0)"
   ]
  },
  {
   "cell_type": "code",
   "execution_count": 5,
   "id": "3619b2ce-f891-476b-b06e-8064aae8eec8",
   "metadata": {},
   "outputs": [],
   "source": [
    "#df.to_csv('data/input/Drastic-Model-Data-For-ML-Analysis.csv', index=False)"
   ]
  },
  {
   "cell_type": "code",
   "execution_count": 7,
   "id": "c30e28ab-9b93-474a-a452-048b0017abd6",
   "metadata": {},
   "outputs": [
    {
     "data": {
      "text/html": [
       "<div>\n",
       "<style scoped>\n",
       "    .dataframe tbody tr th:only-of-type {\n",
       "        vertical-align: middle;\n",
       "    }\n",
       "\n",
       "    .dataframe tbody tr th {\n",
       "        vertical-align: top;\n",
       "    }\n",
       "\n",
       "    .dataframe thead th {\n",
       "        text-align: right;\n",
       "    }\n",
       "</style>\n",
       "<table border=\"1\" class=\"dataframe\">\n",
       "  <thead>\n",
       "    <tr style=\"text-align: right;\">\n",
       "      <th></th>\n",
       "      <th>OBJECTID *</th>\n",
       "      <th>pointid</th>\n",
       "      <th>grid_code</th>\n",
       "      <th>Vulnerabil</th>\n",
       "      <th>Tropograpy</th>\n",
       "      <th>Soil__Media</th>\n",
       "      <th>Net_Recharge</th>\n",
       "      <th>Impact_Vandose_Zone</th>\n",
       "      <th>Hydrolic_Conductivity</th>\n",
       "      <th>Depth_to_Acquifer</th>\n",
       "      <th>Aquirfer_Media</th>\n",
       "    </tr>\n",
       "  </thead>\n",
       "  <tbody>\n",
       "    <tr>\n",
       "      <th>0</th>\n",
       "      <td>1</td>\n",
       "      <td>3254</td>\n",
       "      <td>2</td>\n",
       "      <td>Low (47-78)</td>\n",
       "      <td>&lt;Null&gt;</td>\n",
       "      <td>6</td>\n",
       "      <td>1</td>\n",
       "      <td>3</td>\n",
       "      <td>1</td>\n",
       "      <td>5</td>\n",
       "      <td>1</td>\n",
       "    </tr>\n",
       "    <tr>\n",
       "      <th>1</th>\n",
       "      <td>2</td>\n",
       "      <td>3255</td>\n",
       "      <td>3</td>\n",
       "      <td>Medium (78-100)</td>\n",
       "      <td>3</td>\n",
       "      <td>4</td>\n",
       "      <td>1</td>\n",
       "      <td>3</td>\n",
       "      <td>1</td>\n",
       "      <td>5</td>\n",
       "      <td>1</td>\n",
       "    </tr>\n",
       "    <tr>\n",
       "      <th>2</th>\n",
       "      <td>3</td>\n",
       "      <td>3256</td>\n",
       "      <td>3</td>\n",
       "      <td>Medium (78-100)</td>\n",
       "      <td>3</td>\n",
       "      <td>4</td>\n",
       "      <td>1</td>\n",
       "      <td>3</td>\n",
       "      <td>1</td>\n",
       "      <td>5</td>\n",
       "      <td>1</td>\n",
       "    </tr>\n",
       "    <tr>\n",
       "      <th>3</th>\n",
       "      <td>4</td>\n",
       "      <td>3257</td>\n",
       "      <td>3</td>\n",
       "      <td>Medium (78-100)</td>\n",
       "      <td>1</td>\n",
       "      <td>4</td>\n",
       "      <td>1</td>\n",
       "      <td>3</td>\n",
       "      <td>1</td>\n",
       "      <td>5</td>\n",
       "      <td>1</td>\n",
       "    </tr>\n",
       "    <tr>\n",
       "      <th>4</th>\n",
       "      <td>5</td>\n",
       "      <td>3258</td>\n",
       "      <td>3</td>\n",
       "      <td>Medium (78-100)</td>\n",
       "      <td>2</td>\n",
       "      <td>4</td>\n",
       "      <td>1</td>\n",
       "      <td>3</td>\n",
       "      <td>1</td>\n",
       "      <td>5</td>\n",
       "      <td>1</td>\n",
       "    </tr>\n",
       "  </tbody>\n",
       "</table>\n",
       "</div>"
      ],
      "text/plain": [
       "   OBJECTID *  pointid  grid_code       Vulnerabil Tropograpy Soil__Media  \\\n",
       "0           1     3254          2      Low (47-78)     <Null>           6   \n",
       "1           2     3255          3  Medium (78-100)          3           4   \n",
       "2           3     3256          3  Medium (78-100)          3           4   \n",
       "3           4     3257          3  Medium (78-100)          1           4   \n",
       "4           5     3258          3  Medium (78-100)          2           4   \n",
       "\n",
       "  Net_Recharge  Impact_Vandose_Zone  Hydrolic_Conductivity  Depth_to_Acquifer  \\\n",
       "0            1                    3                      1                  5   \n",
       "1            1                    3                      1                  5   \n",
       "2            1                    3                      1                  5   \n",
       "3            1                    3                      1                  5   \n",
       "4            1                    3                      1                  5   \n",
       "\n",
       "   Aquirfer_Media  \n",
       "0               1  \n",
       "1               1  \n",
       "2               1  \n",
       "3               1  \n",
       "4               1  "
      ]
     },
     "execution_count": 7,
     "metadata": {},
     "output_type": "execute_result"
    }
   ],
   "source": [
    "#df.head()"
   ]
  },
  {
   "cell_type": "code",
   "execution_count": 2,
   "id": "d9d1bfee-4210-4a6c-9e48-81bd168164c9",
   "metadata": {},
   "outputs": [],
   "source": [
    "df = pd.read_csv('data/input/Drastic-Model-Data-For-ML-Analysis.csv')"
   ]
  },
  {
   "cell_type": "code",
   "execution_count": 3,
   "id": "1f68015d-f8b7-48d5-b6a8-b626a3bd88b3",
   "metadata": {},
   "outputs": [
    {
     "data": {
      "text/html": [
       "<div>\n",
       "<style scoped>\n",
       "    .dataframe tbody tr th:only-of-type {\n",
       "        vertical-align: middle;\n",
       "    }\n",
       "\n",
       "    .dataframe tbody tr th {\n",
       "        vertical-align: top;\n",
       "    }\n",
       "\n",
       "    .dataframe thead th {\n",
       "        text-align: right;\n",
       "    }\n",
       "</style>\n",
       "<table border=\"1\" class=\"dataframe\">\n",
       "  <thead>\n",
       "    <tr style=\"text-align: right;\">\n",
       "      <th></th>\n",
       "      <th>OBJECTID *</th>\n",
       "      <th>pointid</th>\n",
       "      <th>grid_code</th>\n",
       "      <th>Vulnerabil</th>\n",
       "      <th>Tropograpy</th>\n",
       "      <th>Soil__Media</th>\n",
       "      <th>Net_Recharge</th>\n",
       "      <th>Impact_Vandose_Zone</th>\n",
       "      <th>Hydrolic_Conductivity</th>\n",
       "      <th>Depth_to_Acquifer</th>\n",
       "      <th>Aquirfer_Media</th>\n",
       "    </tr>\n",
       "  </thead>\n",
       "  <tbody>\n",
       "    <tr>\n",
       "      <th>0</th>\n",
       "      <td>1</td>\n",
       "      <td>3254</td>\n",
       "      <td>2</td>\n",
       "      <td>Low (47-78)</td>\n",
       "      <td>&lt;Null&gt;</td>\n",
       "      <td>6</td>\n",
       "      <td>1</td>\n",
       "      <td>3</td>\n",
       "      <td>1</td>\n",
       "      <td>5</td>\n",
       "      <td>1</td>\n",
       "    </tr>\n",
       "    <tr>\n",
       "      <th>1</th>\n",
       "      <td>2</td>\n",
       "      <td>3255</td>\n",
       "      <td>3</td>\n",
       "      <td>Medium (78-100)</td>\n",
       "      <td>3</td>\n",
       "      <td>4</td>\n",
       "      <td>1</td>\n",
       "      <td>3</td>\n",
       "      <td>1</td>\n",
       "      <td>5</td>\n",
       "      <td>1</td>\n",
       "    </tr>\n",
       "    <tr>\n",
       "      <th>2</th>\n",
       "      <td>3</td>\n",
       "      <td>3256</td>\n",
       "      <td>3</td>\n",
       "      <td>Medium (78-100)</td>\n",
       "      <td>3</td>\n",
       "      <td>4</td>\n",
       "      <td>1</td>\n",
       "      <td>3</td>\n",
       "      <td>1</td>\n",
       "      <td>5</td>\n",
       "      <td>1</td>\n",
       "    </tr>\n",
       "    <tr>\n",
       "      <th>3</th>\n",
       "      <td>4</td>\n",
       "      <td>3257</td>\n",
       "      <td>3</td>\n",
       "      <td>Medium (78-100)</td>\n",
       "      <td>1</td>\n",
       "      <td>4</td>\n",
       "      <td>1</td>\n",
       "      <td>3</td>\n",
       "      <td>1</td>\n",
       "      <td>5</td>\n",
       "      <td>1</td>\n",
       "    </tr>\n",
       "    <tr>\n",
       "      <th>4</th>\n",
       "      <td>5</td>\n",
       "      <td>3258</td>\n",
       "      <td>3</td>\n",
       "      <td>Medium (78-100)</td>\n",
       "      <td>2</td>\n",
       "      <td>4</td>\n",
       "      <td>1</td>\n",
       "      <td>3</td>\n",
       "      <td>1</td>\n",
       "      <td>5</td>\n",
       "      <td>1</td>\n",
       "    </tr>\n",
       "  </tbody>\n",
       "</table>\n",
       "</div>"
      ],
      "text/plain": [
       "   OBJECTID *  pointid  grid_code       Vulnerabil Tropograpy Soil__Media  \\\n",
       "0           1     3254          2      Low (47-78)     <Null>           6   \n",
       "1           2     3255          3  Medium (78-100)          3           4   \n",
       "2           3     3256          3  Medium (78-100)          3           4   \n",
       "3           4     3257          3  Medium (78-100)          1           4   \n",
       "4           5     3258          3  Medium (78-100)          2           4   \n",
       "\n",
       "  Net_Recharge  Impact_Vandose_Zone  Hydrolic_Conductivity  Depth_to_Acquifer  \\\n",
       "0            1                    3                      1                  5   \n",
       "1            1                    3                      1                  5   \n",
       "2            1                    3                      1                  5   \n",
       "3            1                    3                      1                  5   \n",
       "4            1                    3                      1                  5   \n",
       "\n",
       "   Aquirfer_Media  \n",
       "0               1  \n",
       "1               1  \n",
       "2               1  \n",
       "3               1  \n",
       "4               1  "
      ]
     },
     "execution_count": 3,
     "metadata": {},
     "output_type": "execute_result"
    }
   ],
   "source": [
    "df.head()"
   ]
  },
  {
   "cell_type": "code",
   "execution_count": 4,
   "id": "d8445d55-f3f1-49d0-aefc-96c8cd1ed6f8",
   "metadata": {},
   "outputs": [
    {
     "data": {
      "text/plain": [
       "OBJECTID *                int64\n",
       "pointid                   int64\n",
       "grid_code                 int64\n",
       "Vulnerabil               object\n",
       "Tropograpy               object\n",
       "Soil__Media              object\n",
       "Net_Recharge             object\n",
       "Impact_Vandose_Zone       int64\n",
       "Hydrolic_Conductivity     int64\n",
       "Depth_to_Acquifer         int64\n",
       "Aquirfer_Media            int64\n",
       "dtype: object"
      ]
     },
     "execution_count": 4,
     "metadata": {},
     "output_type": "execute_result"
    }
   ],
   "source": [
    "df.dtypes"
   ]
  },
  {
   "cell_type": "code",
   "execution_count": 6,
   "id": "f77358df-5396-4d93-82eb-1de70006a8a1",
   "metadata": {},
   "outputs": [],
   "source": [
    "df = df.drop(['OBJECTID *', 'Vulnerabil'], axis=1) # remove full column"
   ]
  },
  {
   "cell_type": "code",
   "execution_count": 7,
   "id": "11f86974-d7b8-421d-92fe-7c46c004cbd0",
   "metadata": {},
   "outputs": [
    {
     "data": {
      "text/html": [
       "<div>\n",
       "<style scoped>\n",
       "    .dataframe tbody tr th:only-of-type {\n",
       "        vertical-align: middle;\n",
       "    }\n",
       "\n",
       "    .dataframe tbody tr th {\n",
       "        vertical-align: top;\n",
       "    }\n",
       "\n",
       "    .dataframe thead th {\n",
       "        text-align: right;\n",
       "    }\n",
       "</style>\n",
       "<table border=\"1\" class=\"dataframe\">\n",
       "  <thead>\n",
       "    <tr style=\"text-align: right;\">\n",
       "      <th></th>\n",
       "      <th>pointid</th>\n",
       "      <th>grid_code</th>\n",
       "      <th>Tropograpy</th>\n",
       "      <th>Soil__Media</th>\n",
       "      <th>Net_Recharge</th>\n",
       "      <th>Impact_Vandose_Zone</th>\n",
       "      <th>Hydrolic_Conductivity</th>\n",
       "      <th>Depth_to_Acquifer</th>\n",
       "      <th>Aquirfer_Media</th>\n",
       "    </tr>\n",
       "  </thead>\n",
       "  <tbody>\n",
       "    <tr>\n",
       "      <th>0</th>\n",
       "      <td>3254</td>\n",
       "      <td>2</td>\n",
       "      <td>&lt;Null&gt;</td>\n",
       "      <td>6</td>\n",
       "      <td>1</td>\n",
       "      <td>3</td>\n",
       "      <td>1</td>\n",
       "      <td>5</td>\n",
       "      <td>1</td>\n",
       "    </tr>\n",
       "    <tr>\n",
       "      <th>1</th>\n",
       "      <td>3255</td>\n",
       "      <td>3</td>\n",
       "      <td>3</td>\n",
       "      <td>4</td>\n",
       "      <td>1</td>\n",
       "      <td>3</td>\n",
       "      <td>1</td>\n",
       "      <td>5</td>\n",
       "      <td>1</td>\n",
       "    </tr>\n",
       "    <tr>\n",
       "      <th>2</th>\n",
       "      <td>3256</td>\n",
       "      <td>3</td>\n",
       "      <td>3</td>\n",
       "      <td>4</td>\n",
       "      <td>1</td>\n",
       "      <td>3</td>\n",
       "      <td>1</td>\n",
       "      <td>5</td>\n",
       "      <td>1</td>\n",
       "    </tr>\n",
       "    <tr>\n",
       "      <th>3</th>\n",
       "      <td>3257</td>\n",
       "      <td>3</td>\n",
       "      <td>1</td>\n",
       "      <td>4</td>\n",
       "      <td>1</td>\n",
       "      <td>3</td>\n",
       "      <td>1</td>\n",
       "      <td>5</td>\n",
       "      <td>1</td>\n",
       "    </tr>\n",
       "    <tr>\n",
       "      <th>4</th>\n",
       "      <td>3258</td>\n",
       "      <td>3</td>\n",
       "      <td>2</td>\n",
       "      <td>4</td>\n",
       "      <td>1</td>\n",
       "      <td>3</td>\n",
       "      <td>1</td>\n",
       "      <td>5</td>\n",
       "      <td>1</td>\n",
       "    </tr>\n",
       "  </tbody>\n",
       "</table>\n",
       "</div>"
      ],
      "text/plain": [
       "   pointid  grid_code Tropograpy Soil__Media Net_Recharge  \\\n",
       "0     3254          2     <Null>           6            1   \n",
       "1     3255          3          3           4            1   \n",
       "2     3256          3          3           4            1   \n",
       "3     3257          3          1           4            1   \n",
       "4     3258          3          2           4            1   \n",
       "\n",
       "   Impact_Vandose_Zone  Hydrolic_Conductivity  Depth_to_Acquifer  \\\n",
       "0                    3                      1                  5   \n",
       "1                    3                      1                  5   \n",
       "2                    3                      1                  5   \n",
       "3                    3                      1                  5   \n",
       "4                    3                      1                  5   \n",
       "\n",
       "   Aquirfer_Media  \n",
       "0               1  \n",
       "1               1  \n",
       "2               1  \n",
       "3               1  \n",
       "4               1  "
      ]
     },
     "execution_count": 7,
     "metadata": {},
     "output_type": "execute_result"
    }
   ],
   "source": [
    "df.head()"
   ]
  },
  {
   "cell_type": "markdown",
   "id": "2d6d7756-7025-494a-9376-b56a392179c4",
   "metadata": {},
   "source": [
    "## Understanding Class Imbalance in Multiclass Datasets"
   ]
  },
  {
   "cell_type": "code",
   "execution_count": 8,
   "id": "265a0889-93e3-4418-bf22-4ba0bafb8ce5",
   "metadata": {
    "scrolled": true
   },
   "outputs": [
    {
     "data": {
      "image/png": "[encoded data removed]",
      "text/plain": [
       "<Figure size 1000x600 with 1 Axes>"
      ]
     },
     "metadata": {},
     "output_type": "display_data"
    },
    {
     "name": "stdout",
     "output_type": "stream",
     "text": [
      "grid_code\n",
      "1    13804\n",
      "3     8706\n",
      "4     8085\n",
      "2     1271\n",
      "5       52\n",
      "Name: count, dtype: int64\n",
      "grid_code\n",
      "1    0.432483\n",
      "3    0.272761\n",
      "4    0.253305\n",
      "2    0.039821\n",
      "5    0.001629\n",
      "Name: count, dtype: float64\n"
     ]
    }
   ],
   "source": [
    "# Visualize class distribution\n",
    "plt.figure(figsize=(10, 6))\n",
    "df['grid_code'].value_counts().plot(kind='bar')\n",
    "plt.title('Class Distribution')\n",
    "plt.xlabel('Class')\n",
    "plt.ylabel('Count')\n",
    "plt.show()\n",
    "\n",
    "# Calculate class frequencies and ratios\n",
    "class_counts = df['grid_code'].value_counts()\n",
    "class_ratios = class_counts / class_counts.sum()\n",
    "\n",
    "print(class_counts)\n",
    "print(class_ratios)"
   ]
  },
  {
   "cell_type": "code",
   "execution_count": 9,
   "id": "6ecb9d09-55e4-4cc2-aebb-75ea04af6988",
   "metadata": {},
   "outputs": [],
   "source": [
    "# <Null>\n",
    "df1 = df.replace(\"<Null>\", None)"
   ]
  },
  {
   "cell_type": "code",
   "execution_count": 10,
   "id": "4528b3a5-846a-4714-b922-d8f302a20fc4",
   "metadata": {},
   "outputs": [
    {
     "name": "stdout",
     "output_type": "stream",
     "text": [
      "pointid                    0\n",
      "grid_code                  0\n",
      "Tropograpy               460\n",
      "Soil__Media              159\n",
      "Net_Recharge              54\n",
      "Impact_Vandose_Zone        0\n",
      "Hydrolic_Conductivity      0\n",
      "Depth_to_Acquifer          0\n",
      "Aquirfer_Media             0\n",
      "dtype: int64\n",
      "<class 'pandas.core.frame.DataFrame'>\n",
      "RangeIndex: 31918 entries, 0 to 31917\n",
      "Data columns (total 9 columns):\n",
      " #   Column                 Non-Null Count  Dtype \n",
      "---  ------                 --------------  ----- \n",
      " 0   pointid                31918 non-null  int64 \n",
      " 1   grid_code              31918 non-null  int64 \n",
      " 2   Tropograpy             31458 non-null  object\n",
      " 3   Soil__Media            31759 non-null  object\n",
      " 4   Net_Recharge           31864 non-null  object\n",
      " 5   Impact_Vandose_Zone    31918 non-null  int64 \n",
      " 6   Hydrolic_Conductivity  31918 non-null  int64 \n",
      " 7   Depth_to_Acquifer      31918 non-null  int64 \n",
      " 8   Aquirfer_Media         31918 non-null  int64 \n",
      "dtypes: int64(6), object(3)\n",
      "memory usage: 2.2+ MB\n",
      "None\n"
     ]
    }
   ],
   "source": [
    "# Check for missing values\n",
    "print(df1.isnull().sum())  # Counts missing values per column\n",
    "print(df1.info())  # Provides overall information"
   ]
  },
  {
   "cell_type": "code",
   "execution_count": 11,
   "id": "61058aa2-530e-4ae2-ad98-880ac9dd962c",
   "metadata": {
    "scrolled": true
   },
   "outputs": [
    {
     "data": {
      "text/html": [
       "<div>\n",
       "<style scoped>\n",
       "    .dataframe tbody tr th:only-of-type {\n",
       "        vertical-align: middle;\n",
       "    }\n",
       "\n",
       "    .dataframe tbody tr th {\n",
       "        vertical-align: top;\n",
       "    }\n",
       "\n",
       "    .dataframe thead th {\n",
       "        text-align: right;\n",
       "    }\n",
       "</style>\n",
       "<table border=\"1\" class=\"dataframe\">\n",
       "  <thead>\n",
       "    <tr style=\"text-align: right;\">\n",
       "      <th></th>\n",
       "      <th>pointid</th>\n",
       "      <th>grid_code</th>\n",
       "      <th>Tropograpy</th>\n",
       "      <th>Soil__Media</th>\n",
       "      <th>Net_Recharge</th>\n",
       "      <th>Impact_Vandose_Zone</th>\n",
       "      <th>Hydrolic_Conductivity</th>\n",
       "      <th>Depth_to_Acquifer</th>\n",
       "      <th>Aquirfer_Media</th>\n",
       "    </tr>\n",
       "  </thead>\n",
       "  <tbody>\n",
       "    <tr>\n",
       "      <th>0</th>\n",
       "      <td>3254</td>\n",
       "      <td>2</td>\n",
       "      <td>None</td>\n",
       "      <td>6</td>\n",
       "      <td>1</td>\n",
       "      <td>3</td>\n",
       "      <td>1</td>\n",
       "      <td>5</td>\n",
       "      <td>1</td>\n",
       "    </tr>\n",
       "    <tr>\n",
       "      <th>1</th>\n",
       "      <td>3255</td>\n",
       "      <td>3</td>\n",
       "      <td>3</td>\n",
       "      <td>4</td>\n",
       "      <td>1</td>\n",
       "      <td>3</td>\n",
       "      <td>1</td>\n",
       "      <td>5</td>\n",
       "      <td>1</td>\n",
       "    </tr>\n",
       "    <tr>\n",
       "      <th>2</th>\n",
       "      <td>3256</td>\n",
       "      <td>3</td>\n",
       "      <td>3</td>\n",
       "      <td>4</td>\n",
       "      <td>1</td>\n",
       "      <td>3</td>\n",
       "      <td>1</td>\n",
       "      <td>5</td>\n",
       "      <td>1</td>\n",
       "    </tr>\n",
       "  </tbody>\n",
       "</table>\n",
       "</div>"
      ],
      "text/plain": [
       "   pointid  grid_code Tropograpy Soil__Media Net_Recharge  \\\n",
       "0     3254          2       None           6            1   \n",
       "1     3255          3          3           4            1   \n",
       "2     3256          3          3           4            1   \n",
       "\n",
       "   Impact_Vandose_Zone  Hydrolic_Conductivity  Depth_to_Acquifer  \\\n",
       "0                    3                      1                  5   \n",
       "1                    3                      1                  5   \n",
       "2                    3                      1                  5   \n",
       "\n",
       "   Aquirfer_Media  \n",
       "0               1  \n",
       "1               1  \n",
       "2               1  "
      ]
     },
     "execution_count": 11,
     "metadata": {},
     "output_type": "execute_result"
    }
   ],
   "source": [
    "df1.head(3)"
   ]
  },
  {
   "cell_type": "code",
   "execution_count": 11,
   "id": "a5861e91-01d2-4e0f-a5c6-77e14d3b6cf3",
   "metadata": {},
   "outputs": [
    {
     "data": {
      "text/plain": [
       "grid_code    86\n",
       "dtype: int64"
      ]
     },
     "execution_count": 11,
     "metadata": {},
     "output_type": "execute_result"
    }
   ],
   "source": [
    "# df1[df1.apply(lambda x: x.Tropograpy == None and x.grid_code == 1, axis=1)][['grid_code', 'Tropograpy']].head()\n",
    "df1[df1.apply(lambda x: x.Tropograpy == None and x.grid_code == 1, axis=1)][['grid_code']].count()"
   ]
  },
  {
   "cell_type": "code",
   "execution_count": 12,
   "id": "4cf8f0b6-4d9e-4e0c-8f8e-ecd619a784c3",
   "metadata": {},
   "outputs": [
    {
     "data": {
      "image/png": "[encoded data removed]",
      "text/plain": [
       "<Figure size 1500x500 with 3 Axes>"
      ]
     },
     "metadata": {},
     "output_type": "display_data"
    }
   ],
   "source": [
    "# Create a new figure for plotting\n",
    "fig, axes = plt.subplots(1, 3, figsize=(15, 5))  # 1 row, 3 columns\n",
    "\n",
    "\n",
    "NULL_VALUES_COLS = df1.columns[df1.isnull().any()] # get null columns\n",
    "TARGET_COL = 'grid_code'\n",
    "\n",
    "# Iterate over columns and create subplots\n",
    "for i, col in enumerate(NULL_VALUES_COLS):\n",
    "    counts = df1[df1[col].isna()][TARGET_COL].value_counts()\n",
    "    axes[i].bar(counts.index, counts.values)\n",
    "    axes[i].set_xlabel(f'{TARGET_COL} Values')\n",
    "    axes[i].set_ylabel('Count')\n",
    "    axes[i].set_title(f'Count of {TARGET_COL} when {col} is Null')\n",
    "\n",
    "# Adjust layout to prevent overlapping labels\n",
    "plt.tight_layout()\n",
    "\n",
    "# Display the plot\n",
    "plt.show()"
   ]
  },
  {
   "cell_type": "markdown",
   "id": "8f5d8e17-6600-4e34-896f-9d8fdd79b970",
   "metadata": {},
   "source": [
    "### Data Cleaning"
   ]
  },
  {
   "cell_type": "code",
   "execution_count": 13,
   "id": "4cd5cac5-a6ba-468c-9736-aaa3eceabec7",
   "metadata": {},
   "outputs": [
    {
     "name": "stdout",
     "output_type": "stream",
     "text": [
      "df_cleaned.shape: (31387, 9)\n",
      "df.shape: (31918, 9)\n",
      "df1.shape: (31918, 9)\n"
     ]
    }
   ],
   "source": [
    "# drop all Null value rows\n",
    "# Drop rows with null values\n",
    "df_cleaned = df1.dropna()\n",
    "print(f\"df_cleaned.shape: {df_cleaned.shape}\")\n",
    "print(f\"df.shape: {df.shape}\")\n",
    "print(f\"df1.shape: {df1.shape}\")"
   ]
  },
  {
   "cell_type": "code",
   "execution_count": 17,
   "id": "9add5654-4107-4d39-a6bf-409ef9a0f38e",
   "metadata": {},
   "outputs": [],
   "source": [
    "from prettytable import PrettyTable"
   ]
  },
  {
   "cell_type": "code",
   "execution_count": 18,
   "id": "2276d632-cd85-4d30-80a2-447305c02985",
   "metadata": {},
   "outputs": [
    {
     "name": "stdout",
     "output_type": "stream",
     "text": [
      "+---------+-----------+------------+-------------+--------------+---------------------+-----------------------+-------------------+----------------+\n",
      "| pointid | grid_code | Tropograpy | Soil__Media | Net_Recharge | Impact_Vandose_Zone | Hydrolic_Conductivity | Depth_to_Acquifer | Aquirfer_Media |\n",
      "+---------+-----------+------------+-------------+--------------+---------------------+-----------------------+-------------------+----------------+\n",
      "|   3255  |     3     |     3      |      4      |      1       |          3          |           1           |         5         |       1        |\n",
      "|   3256  |     3     |     3      |      4      |      1       |          3          |           1           |         5         |       1        |\n",
      "|   3257  |     3     |     1      |      4      |      1       |          3          |           1           |         5         |       1        |\n",
      "+---------+-----------+------------+-------------+--------------+---------------------+-----------------------+-------------------+----------------+\n",
      "\n",
      "====***====\n",
      "\n",
      "+---------+-----------+------------+-------------+--------------+---------------------+-----------------------+-------------------+----------------+\n",
      "| pointid | grid_code | Tropograpy | Soil__Media | Net_Recharge | Impact_Vandose_Zone | Hydrolic_Conductivity | Depth_to_Acquifer | Aquirfer_Media |\n",
      "+---------+-----------+------------+-------------+--------------+---------------------+-----------------------+-------------------+----------------+\n",
      "|   3247  |     1     |     3      |      4      |      3       |          2          |           2           |         5         |       1        |\n",
      "|   3248  |     3     |     1      |      4      |      3       |          3          |           2           |         5         |       1        |\n",
      "|   3249  |     3     |     1      |      6      |      3       |          3          |           2           |         5         |       1        |\n",
      "+---------+-----------+------------+-------------+--------------+---------------------+-----------------------+-------------------+----------------+\n"
     ]
    }
   ],
   "source": [
    "# Create a PrettyTable instance\n",
    "table = PrettyTable()\n",
    "\n",
    "# Add columns from the DataFrame to the table\n",
    "for col in df_cleaned.head(3).columns:\n",
    "    table.add_column(col, df_cleaned.head(3)[col].tolist())\n",
    "\n",
    "# Print the table\n",
    "print(table)\n",
    "print(\"\\n====***====\\n\")\n",
    "table = PrettyTable()\n",
    "# Add columns from the DataFrame to the table\n",
    "for col in df_cleaned.tail(3).columns:\n",
    "    table.add_column(col, df_cleaned.tail(3)[col].tolist())\n",
    "\n",
    "# Print the table\n",
    "print(table)"
   ]
  },
  {
   "cell_type": "code",
   "execution_count": 21,
   "id": "03edd563-e026-4b12-862d-272bacc58a2f",
   "metadata": {},
   "outputs": [
    {
     "name": "stdout",
     "output_type": "stream",
     "text": [
      "Number of unique values in 'grid_code': 4\n"
     ]
    },
    {
     "data": {
      "text/plain": [
       "array([3, 2, 1, 4])"
      ]
     },
     "execution_count": 21,
     "metadata": {},
     "output_type": "execute_result"
    }
   ],
   "source": [
    "print(\"Number of unique values in 'grid_code':\", df_cleaned['grid_code'].nunique())\n",
    "df_cleaned['grid_code'].unique()"
   ]
  },
  {
   "cell_type": "code",
   "execution_count": null,
   "id": "0694cbca-a954-4018-a6be-1c5217328c06",
   "metadata": {},
   "outputs": [],
   "source": [
    "# Convert to dictionary\n",
    "dictionary = df.set_index('grid_code')['Vulnerabil'].to_dict()\n",
    "dictionary"
   ]
  },
  {
   "cell_type": "code",
   "execution_count": 23,
   "id": "ba21a38c-0fc6-4753-b3b3-5ccb17e7ec13",
   "metadata": {},
   "outputs": [
    {
     "data": {
      "text/plain": [
       "grid_code\n",
       "1    13672\n",
       "3     8571\n",
       "4     7925\n",
       "2     1219\n",
       "Name: count, dtype: int64"
      ]
     },
     "execution_count": 23,
     "metadata": {},
     "output_type": "execute_result"
    }
   ],
   "source": [
    "value_counts = df_cleaned['grid_code'].value_counts()\n",
    "value_counts"
   ]
  },
  {
   "cell_type": "code",
   "execution_count": null,
   "id": "07df27ef-0438-4a79-8b2b-e980bb17daa7",
   "metadata": {},
   "outputs": [],
   "source": []
  },
  {
   "cell_type": "markdown",
   "id": "933e7c42-1d91-41af-addc-52148707d819",
   "metadata": {},
   "source": [
    "##### '''As we have imbalanced dataset, so we will use Stratified K-Fold technique where we may use Grid Search / Randomized Search to \n",
    "##### optimize the underlying hyperparameters.'''"
   ]
  },
  {
   "cell_type": "markdown",
   "id": "53084e59-4d10-4722-833f-303b87d47d2c",
   "metadata": {},
   "source": [
    "'''\n",
    "##### And we know that - \n",
    "##### Oversampling: This technique involves increasing the number of instances in the minority class.\n",
    "##### Hybrid Approaches: Combining oversampling and undersampling techniques can be effective in certain scenarios.   \n",
    "##### Class Weighting: Assigning different weights to different classes can help balance the impact of class imbalance.   \n",
    "##### Algorithm Selection: Choosing algorithms that are robust to class imbalance, such as decision trees or ensemble methods \n",
    "##### like Random Forest and XGBoost.\n",
    "'''"
   ]
  },
  {
   "cell_type": "code",
   "execution_count": null,
   "id": "e170450d-18a6-4a87-8003-993f82a057ec",
   "metadata": {},
   "outputs": [],
   "source": []
  },
  {
   "cell_type": "markdown",
   "id": "c99f0af5-d38b-4f2c-a5d1-64a2c66dd6d3",
   "metadata": {},
   "source": [
    "### Train Test Splitting"
   ]
  },
  {
   "cell_type": "code",
   "execution_count": null,
   "id": "db7e3e6c-f5a9-4776-998c-2ccef2a54267",
   "metadata": {},
   "outputs": [],
   "source": []
  },
  {
   "cell_type": "code",
   "execution_count": 19,
   "id": "5a79f3bf-3040-4833-b26c-19d56ab3eb40",
   "metadata": {
    "scrolled": true
   },
   "outputs": [
    {
     "data": {
      "text/html": [
       "<div>\n",
       "<style scoped>\n",
       "    .dataframe tbody tr th:only-of-type {\n",
       "        vertical-align: middle;\n",
       "    }\n",
       "\n",
       "    .dataframe tbody tr th {\n",
       "        vertical-align: top;\n",
       "    }\n",
       "\n",
       "    .dataframe thead th {\n",
       "        text-align: right;\n",
       "    }\n",
       "</style>\n",
       "<table border=\"1\" class=\"dataframe\">\n",
       "  <thead>\n",
       "    <tr style=\"text-align: right;\">\n",
       "      <th></th>\n",
       "      <th>pointid</th>\n",
       "      <th>grid_code</th>\n",
       "      <th>Tropograpy</th>\n",
       "      <th>Soil__Media</th>\n",
       "      <th>Net_Recharge</th>\n",
       "      <th>Impact_Vandose_Zone</th>\n",
       "      <th>Hydrolic_Conductivity</th>\n",
       "      <th>Depth_to_Acquifer</th>\n",
       "      <th>Aquirfer_Media</th>\n",
       "    </tr>\n",
       "  </thead>\n",
       "  <tbody>\n",
       "    <tr>\n",
       "      <th>0</th>\n",
       "      <td>3254</td>\n",
       "      <td>2</td>\n",
       "      <td>None</td>\n",
       "      <td>6</td>\n",
       "      <td>1</td>\n",
       "      <td>3</td>\n",
       "      <td>1</td>\n",
       "      <td>5</td>\n",
       "      <td>1</td>\n",
       "    </tr>\n",
       "    <tr>\n",
       "      <th>1</th>\n",
       "      <td>3255</td>\n",
       "      <td>3</td>\n",
       "      <td>3</td>\n",
       "      <td>4</td>\n",
       "      <td>1</td>\n",
       "      <td>3</td>\n",
       "      <td>1</td>\n",
       "      <td>5</td>\n",
       "      <td>1</td>\n",
       "    </tr>\n",
       "    <tr>\n",
       "      <th>2</th>\n",
       "      <td>3256</td>\n",
       "      <td>3</td>\n",
       "      <td>3</td>\n",
       "      <td>4</td>\n",
       "      <td>1</td>\n",
       "      <td>3</td>\n",
       "      <td>1</td>\n",
       "      <td>5</td>\n",
       "      <td>1</td>\n",
       "    </tr>\n",
       "    <tr>\n",
       "      <th>3</th>\n",
       "      <td>3257</td>\n",
       "      <td>3</td>\n",
       "      <td>1</td>\n",
       "      <td>4</td>\n",
       "      <td>1</td>\n",
       "      <td>3</td>\n",
       "      <td>1</td>\n",
       "      <td>5</td>\n",
       "      <td>1</td>\n",
       "    </tr>\n",
       "    <tr>\n",
       "      <th>4</th>\n",
       "      <td>3258</td>\n",
       "      <td>3</td>\n",
       "      <td>2</td>\n",
       "      <td>4</td>\n",
       "      <td>1</td>\n",
       "      <td>3</td>\n",
       "      <td>1</td>\n",
       "      <td>5</td>\n",
       "      <td>1</td>\n",
       "    </tr>\n",
       "  </tbody>\n",
       "</table>\n",
       "</div>"
      ],
      "text/plain": [
       "   pointid  grid_code Tropograpy Soil__Media Net_Recharge  \\\n",
       "0     3254          2       None           6            1   \n",
       "1     3255          3          3           4            1   \n",
       "2     3256          3          3           4            1   \n",
       "3     3257          3          1           4            1   \n",
       "4     3258          3          2           4            1   \n",
       "\n",
       "   Impact_Vandose_Zone  Hydrolic_Conductivity  Depth_to_Acquifer  \\\n",
       "0                    3                      1                  5   \n",
       "1                    3                      1                  5   \n",
       "2                    3                      1                  5   \n",
       "3                    3                      1                  5   \n",
       "4                    3                      1                  5   \n",
       "\n",
       "   Aquirfer_Media  \n",
       "0               1  \n",
       "1               1  \n",
       "2               1  \n",
       "3               1  \n",
       "4               1  "
      ]
     },
     "execution_count": 19,
     "metadata": {},
     "output_type": "execute_result"
    }
   ],
   "source": [
    "df1.head()"
   ]
  },
  {
   "cell_type": "markdown",
   "id": "4a86d7b9-d1b0-4523-852c-b073608881c6",
   "metadata": {},
   "source": [
    "### Imputation (Filling None values with Central values (Mean/Median/Mode), here is the Mean as all are numerical data\n",
    "### Using KNN Imputation!!"
   ]
  },
  {
   "cell_type": "code",
   "execution_count": 22,
   "id": "9b325a92-6291-4836-b8b6-250058c576fc",
   "metadata": {},
   "outputs": [],
   "source": [
    "from sklearn.impute import KNNImputer"
   ]
  },
  {
   "cell_type": "code",
   "execution_count": 23,
   "id": "a65afd56-9d9e-453a-b837-37b7c96055e1",
   "metadata": {},
   "outputs": [
    {
     "name": "stdout",
     "output_type": "stream",
     "text": [
      "Original DataFrame:\n",
      "       pointid  grid_code Tropograpy Soil__Media Net_Recharge  \\\n",
      "0         3254          2       None           6            1   \n",
      "1         3255          3          3           4            1   \n",
      "2         3256          3          3           4            1   \n",
      "3         3257          3          1           4            1   \n",
      "4         3258          3          2           4            1   \n",
      "...        ...        ...        ...         ...          ...   \n",
      "31913     3249          3          1           6            3   \n",
      "31914     3250          5       None           4         None   \n",
      "31915     3251          5       None           5         None   \n",
      "31916     3252          5       None           6         None   \n",
      "31917     3253          5       None           6         None   \n",
      "\n",
      "       Impact_Vandose_Zone  Hydrolic_Conductivity  Depth_to_Acquifer  \\\n",
      "0                        3                      1                  5   \n",
      "1                        3                      1                  5   \n",
      "2                        3                      1                  5   \n",
      "3                        3                      1                  5   \n",
      "4                        3                      1                  5   \n",
      "...                    ...                    ...                ...   \n",
      "31913                    3                      2                  5   \n",
      "31914                    0                      0                  0   \n",
      "31915                    0                      0                  0   \n",
      "31916                    0                      0                  0   \n",
      "31917                    0                      0                  0   \n",
      "\n",
      "       Aquirfer_Media  \n",
      "0                   1  \n",
      "1                   1  \n",
      "2                   1  \n",
      "3                   1  \n",
      "4                   1  \n",
      "...               ...  \n",
      "31913               1  \n",
      "31914               0  \n",
      "31915               0  \n",
      "31916               0  \n",
      "31917               0  \n",
      "\n",
      "[31918 rows x 9 columns]\n",
      "\n",
      "DataFrame after KNN Imputation:\n",
      "       pointid  grid_code  Tropograpy  Soil__Media  Net_Recharge  \\\n",
      "0       3254.0        2.0         3.0          6.0           1.0   \n",
      "1       3255.0        3.0         3.0          4.0           1.0   \n",
      "2       3256.0        3.0         3.0          4.0           1.0   \n",
      "3       3257.0        3.0         1.0          4.0           1.0   \n",
      "4       3258.0        3.0         2.0          4.0           1.0   \n",
      "...        ...        ...         ...          ...           ...   \n",
      "31913   3249.0        3.0         1.0          6.0           3.0   \n",
      "31914   3250.0        5.0         1.0          4.0           3.0   \n",
      "31915   3251.0        5.0         1.0          5.0           3.0   \n",
      "31916   3252.0        5.0         2.0          6.0           2.0   \n",
      "31917   3253.0        5.0         3.0          6.0           1.0   \n",
      "\n",
      "       Impact_Vandose_Zone  Hydrolic_Conductivity  Depth_to_Acquifer  \\\n",
      "0                      3.0                    1.0                5.0   \n",
      "1                      3.0                    1.0                5.0   \n",
      "2                      3.0                    1.0                5.0   \n",
      "3                      3.0                    1.0                5.0   \n",
      "4                      3.0                    1.0                5.0   \n",
      "...                    ...                    ...                ...   \n",
      "31913                  3.0                    2.0                5.0   \n",
      "31914                  0.0                    0.0                0.0   \n",
      "31915                  0.0                    0.0                0.0   \n",
      "31916                  0.0                    0.0                0.0   \n",
      "31917                  0.0                    0.0                0.0   \n",
      "\n",
      "       Aquirfer_Media  \n",
      "0                 1.0  \n",
      "1                 1.0  \n",
      "2                 1.0  \n",
      "3                 1.0  \n",
      "4                 1.0  \n",
      "...               ...  \n",
      "31913             1.0  \n",
      "31914             0.0  \n",
      "31915             0.0  \n",
      "31916             0.0  \n",
      "31917             0.0  \n",
      "\n",
      "[31918 rows x 9 columns]\n"
     ]
    }
   ],
   "source": [
    "df = pd.DataFrame(df1)\n",
    "\n",
    "# Initialize KNNImputer with a specified number of neighbors\n",
    "imputer = KNNImputer(n_neighbors=2)\n",
    "\n",
    "# Apply KNN imputation on the entire DataFrame\n",
    "df_imputed = pd.DataFrame(imputer.fit_transform(df), columns=df.columns)\n",
    "\n",
    "print(\"Original DataFrame:\")\n",
    "print(df1)\n",
    "print(\"\\nDataFrame after KNN Imputation:\")\n",
    "print(df_imputed)"
   ]
  },
  {
   "cell_type": "code",
   "execution_count": 24,
   "id": "d5e153d0-2ac3-45d9-b2e2-8db25395eded",
   "metadata": {},
   "outputs": [
    {
     "data": {
      "text/html": [
       "<div>\n",
       "<style scoped>\n",
       "    .dataframe tbody tr th:only-of-type {\n",
       "        vertical-align: middle;\n",
       "    }\n",
       "\n",
       "    .dataframe tbody tr th {\n",
       "        vertical-align: top;\n",
       "    }\n",
       "\n",
       "    .dataframe thead th {\n",
       "        text-align: right;\n",
       "    }\n",
       "</style>\n",
       "<table border=\"1\" class=\"dataframe\">\n",
       "  <thead>\n",
       "    <tr style=\"text-align: right;\">\n",
       "      <th></th>\n",
       "      <th>pointid</th>\n",
       "      <th>grid_code</th>\n",
       "      <th>Tropograpy</th>\n",
       "      <th>Soil__Media</th>\n",
       "      <th>Net_Recharge</th>\n",
       "      <th>Impact_Vandose_Zone</th>\n",
       "      <th>Hydrolic_Conductivity</th>\n",
       "      <th>Depth_to_Acquifer</th>\n",
       "      <th>Aquirfer_Media</th>\n",
       "    </tr>\n",
       "  </thead>\n",
       "  <tbody>\n",
       "    <tr>\n",
       "      <th>count</th>\n",
       "      <td>31918.000000</td>\n",
       "      <td>31918.000000</td>\n",
       "      <td>31918.000000</td>\n",
       "      <td>31918.000000</td>\n",
       "      <td>31918.000000</td>\n",
       "      <td>31918.000000</td>\n",
       "      <td>31918.000000</td>\n",
       "      <td>31918.000000</td>\n",
       "      <td>31918.000000</td>\n",
       "    </tr>\n",
       "    <tr>\n",
       "      <th>mean</th>\n",
       "      <td>15959.500000</td>\n",
       "      <td>2.351776</td>\n",
       "      <td>2.066624</td>\n",
       "      <td>3.168040</td>\n",
       "      <td>3.577339</td>\n",
       "      <td>2.720753</td>\n",
       "      <td>2.791215</td>\n",
       "      <td>3.054891</td>\n",
       "      <td>1.446958</td>\n",
       "    </tr>\n",
       "    <tr>\n",
       "      <th>std</th>\n",
       "      <td>9214.077282</td>\n",
       "      <td>1.268634</td>\n",
       "      <td>0.912546</td>\n",
       "      <td>1.756301</td>\n",
       "      <td>1.291732</td>\n",
       "      <td>0.789021</td>\n",
       "      <td>1.178903</td>\n",
       "      <td>1.591383</td>\n",
       "      <td>0.991199</td>\n",
       "    </tr>\n",
       "    <tr>\n",
       "      <th>min</th>\n",
       "      <td>1.000000</td>\n",
       "      <td>1.000000</td>\n",
       "      <td>1.000000</td>\n",
       "      <td>1.000000</td>\n",
       "      <td>1.000000</td>\n",
       "      <td>0.000000</td>\n",
       "      <td>0.000000</td>\n",
       "      <td>0.000000</td>\n",
       "      <td>0.000000</td>\n",
       "    </tr>\n",
       "    <tr>\n",
       "      <th>25%</th>\n",
       "      <td>7980.250000</td>\n",
       "      <td>1.000000</td>\n",
       "      <td>1.000000</td>\n",
       "      <td>1.000000</td>\n",
       "      <td>3.000000</td>\n",
       "      <td>2.000000</td>\n",
       "      <td>2.000000</td>\n",
       "      <td>1.000000</td>\n",
       "      <td>1.000000</td>\n",
       "    </tr>\n",
       "    <tr>\n",
       "      <th>50%</th>\n",
       "      <td>15959.500000</td>\n",
       "      <td>3.000000</td>\n",
       "      <td>2.000000</td>\n",
       "      <td>4.000000</td>\n",
       "      <td>4.000000</td>\n",
       "      <td>3.000000</td>\n",
       "      <td>3.000000</td>\n",
       "      <td>3.000000</td>\n",
       "      <td>1.000000</td>\n",
       "    </tr>\n",
       "    <tr>\n",
       "      <th>75%</th>\n",
       "      <td>23938.750000</td>\n",
       "      <td>4.000000</td>\n",
       "      <td>3.000000</td>\n",
       "      <td>4.000000</td>\n",
       "      <td>5.000000</td>\n",
       "      <td>3.000000</td>\n",
       "      <td>4.000000</td>\n",
       "      <td>5.000000</td>\n",
       "      <td>1.000000</td>\n",
       "    </tr>\n",
       "    <tr>\n",
       "      <th>max</th>\n",
       "      <td>31918.000000</td>\n",
       "      <td>5.000000</td>\n",
       "      <td>5.000000</td>\n",
       "      <td>7.000000</td>\n",
       "      <td>5.000000</td>\n",
       "      <td>5.000000</td>\n",
       "      <td>5.000000</td>\n",
       "      <td>5.000000</td>\n",
       "      <td>5.000000</td>\n",
       "    </tr>\n",
       "  </tbody>\n",
       "</table>\n",
       "</div>"
      ],
      "text/plain": [
       "            pointid     grid_code    Tropograpy   Soil__Media  Net_Recharge  \\\n",
       "count  31918.000000  31918.000000  31918.000000  31918.000000  31918.000000   \n",
       "mean   15959.500000      2.351776      2.066624      3.168040      3.577339   \n",
       "std     9214.077282      1.268634      0.912546      1.756301      1.291732   \n",
       "min        1.000000      1.000000      1.000000      1.000000      1.000000   \n",
       "25%     7980.250000      1.000000      1.000000      1.000000      3.000000   \n",
       "50%    15959.500000      3.000000      2.000000      4.000000      4.000000   \n",
       "75%    23938.750000      4.000000      3.000000      4.000000      5.000000   \n",
       "max    31918.000000      5.000000      5.000000      7.000000      5.000000   \n",
       "\n",
       "       Impact_Vandose_Zone  Hydrolic_Conductivity  Depth_to_Acquifer  \\\n",
       "count         31918.000000           31918.000000       31918.000000   \n",
       "mean              2.720753               2.791215           3.054891   \n",
       "std               0.789021               1.178903           1.591383   \n",
       "min               0.000000               0.000000           0.000000   \n",
       "25%               2.000000               2.000000           1.000000   \n",
       "50%               3.000000               3.000000           3.000000   \n",
       "75%               3.000000               4.000000           5.000000   \n",
       "max               5.000000               5.000000           5.000000   \n",
       "\n",
       "       Aquirfer_Media  \n",
       "count    31918.000000  \n",
       "mean         1.446958  \n",
       "std          0.991199  \n",
       "min          0.000000  \n",
       "25%          1.000000  \n",
       "50%          1.000000  \n",
       "75%          1.000000  \n",
       "max          5.000000  "
      ]
     },
     "execution_count": 24,
     "metadata": {},
     "output_type": "execute_result"
    }
   ],
   "source": [
    "df_imputed.describe()"
   ]
  },
  {
   "cell_type": "code",
   "execution_count": 25,
   "id": "c21b3404-b141-4280-a8ad-4929c867b312",
   "metadata": {},
   "outputs": [
    {
     "data": {
      "image/png": "[encoded data removed]",
      "text/plain": [
       "<Figure size 1000x800 with 9 Axes>"
      ]
     },
     "metadata": {},
     "output_type": "display_data"
    }
   ],
   "source": [
    "# Plot histogram for each feature\n",
    "df_imputed.hist(bins=20, figsize=(10, 8))\n",
    "plt.show()"
   ]
  },
  {
   "cell_type": "code",
   "execution_count": 26,
   "id": "4e4dd80c-023c-4859-9f78-4f14479b1344",
   "metadata": {},
   "outputs": [],
   "source": [
    "df_cleaned = df_imputed"
   ]
  },
  {
   "cell_type": "code",
   "execution_count": 27,
   "id": "06413f1a-b9c4-4156-9345-83b7809765d2",
   "metadata": {},
   "outputs": [
    {
     "data": {
      "text/html": [
       "<div>\n",
       "<style scoped>\n",
       "    .dataframe tbody tr th:only-of-type {\n",
       "        vertical-align: middle;\n",
       "    }\n",
       "\n",
       "    .dataframe tbody tr th {\n",
       "        vertical-align: top;\n",
       "    }\n",
       "\n",
       "    .dataframe thead th {\n",
       "        text-align: right;\n",
       "    }\n",
       "</style>\n",
       "<table border=\"1\" class=\"dataframe\">\n",
       "  <thead>\n",
       "    <tr style=\"text-align: right;\">\n",
       "      <th></th>\n",
       "      <th>pointid</th>\n",
       "      <th>grid_code</th>\n",
       "      <th>Tropograpy</th>\n",
       "      <th>Soil__Media</th>\n",
       "      <th>Net_Recharge</th>\n",
       "      <th>Impact_Vandose_Zone</th>\n",
       "      <th>Hydrolic_Conductivity</th>\n",
       "      <th>Depth_to_Acquifer</th>\n",
       "      <th>Aquirfer_Media</th>\n",
       "    </tr>\n",
       "  </thead>\n",
       "  <tbody>\n",
       "    <tr>\n",
       "      <th>0</th>\n",
       "      <td>3254.0</td>\n",
       "      <td>2.0</td>\n",
       "      <td>3.0</td>\n",
       "      <td>6.0</td>\n",
       "      <td>1.0</td>\n",
       "      <td>3.0</td>\n",
       "      <td>1.0</td>\n",
       "      <td>5.0</td>\n",
       "      <td>1.0</td>\n",
       "    </tr>\n",
       "    <tr>\n",
       "      <th>1</th>\n",
       "      <td>3255.0</td>\n",
       "      <td>3.0</td>\n",
       "      <td>3.0</td>\n",
       "      <td>4.0</td>\n",
       "      <td>1.0</td>\n",
       "      <td>3.0</td>\n",
       "      <td>1.0</td>\n",
       "      <td>5.0</td>\n",
       "      <td>1.0</td>\n",
       "    </tr>\n",
       "    <tr>\n",
       "      <th>2</th>\n",
       "      <td>3256.0</td>\n",
       "      <td>3.0</td>\n",
       "      <td>3.0</td>\n",
       "      <td>4.0</td>\n",
       "      <td>1.0</td>\n",
       "      <td>3.0</td>\n",
       "      <td>1.0</td>\n",
       "      <td>5.0</td>\n",
       "      <td>1.0</td>\n",
       "    </tr>\n",
       "    <tr>\n",
       "      <th>3</th>\n",
       "      <td>3257.0</td>\n",
       "      <td>3.0</td>\n",
       "      <td>1.0</td>\n",
       "      <td>4.0</td>\n",
       "      <td>1.0</td>\n",
       "      <td>3.0</td>\n",
       "      <td>1.0</td>\n",
       "      <td>5.0</td>\n",
       "      <td>1.0</td>\n",
       "    </tr>\n",
       "    <tr>\n",
       "      <th>4</th>\n",
       "      <td>3258.0</td>\n",
       "      <td>3.0</td>\n",
       "      <td>2.0</td>\n",
       "      <td>4.0</td>\n",
       "      <td>1.0</td>\n",
       "      <td>3.0</td>\n",
       "      <td>1.0</td>\n",
       "      <td>5.0</td>\n",
       "      <td>1.0</td>\n",
       "    </tr>\n",
       "  </tbody>\n",
       "</table>\n",
       "</div>"
      ],
      "text/plain": [
       "   pointid  grid_code  Tropograpy  Soil__Media  Net_Recharge  \\\n",
       "0   3254.0        2.0         3.0          6.0           1.0   \n",
       "1   3255.0        3.0         3.0          4.0           1.0   \n",
       "2   3256.0        3.0         3.0          4.0           1.0   \n",
       "3   3257.0        3.0         1.0          4.0           1.0   \n",
       "4   3258.0        3.0         2.0          4.0           1.0   \n",
       "\n",
       "   Impact_Vandose_Zone  Hydrolic_Conductivity  Depth_to_Acquifer  \\\n",
       "0                  3.0                    1.0                5.0   \n",
       "1                  3.0                    1.0                5.0   \n",
       "2                  3.0                    1.0                5.0   \n",
       "3                  3.0                    1.0                5.0   \n",
       "4                  3.0                    1.0                5.0   \n",
       "\n",
       "   Aquirfer_Media  \n",
       "0             1.0  \n",
       "1             1.0  \n",
       "2             1.0  \n",
       "3             1.0  \n",
       "4             1.0  "
      ]
     },
     "execution_count": 27,
     "metadata": {},
     "output_type": "execute_result"
    }
   ],
   "source": [
    "df_cleaned.head()"
   ]
  },
  {
   "cell_type": "code",
   "execution_count": 84,
   "id": "06f03ae4-5750-49d5-b10b-66603a1adc1f",
   "metadata": {},
   "outputs": [],
   "source": [
    "X, y = df_cleaned.iloc[:, 2:], df_cleaned['grid_code']"
   ]
  },
  {
   "cell_type": "code",
   "execution_count": 29,
   "id": "02466f04-096b-476c-a2e6-e3bf63f68a6c",
   "metadata": {},
   "outputs": [
    {
     "name": "stdout",
     "output_type": "stream",
     "text": [
      "(31918, 7)\n",
      "(31918,)\n"
     ]
    }
   ],
   "source": [
    "print(X.shape)\n",
    "print(y.shape)"
   ]
  },
  {
   "cell_type": "markdown",
   "id": "27d8a476-a53b-4a1b-ad00-714f6d4223c7",
   "metadata": {},
   "source": [
    "#### Train-Test Splitting"
   ]
  },
  {
   "cell_type": "code",
   "execution_count": 85,
   "id": "f0e3e5a8-3cdf-4d50-9196-5704527b5a0e",
   "metadata": {},
   "outputs": [],
   "source": [
    "# Split data into training and testing sets\n",
    "X_train, X_test, y_train, y_test = train_test_split(X, y, test_size=0.3, random_state=42, stratify=y)"
   ]
  },
  {
   "cell_type": "code",
   "execution_count": null,
   "id": "a6a4f8ad-4094-4ff6-9308-1bca365457a4",
   "metadata": {},
   "outputs": [],
   "source": []
  },
  {
   "cell_type": "markdown",
   "id": "450ff1a3-3673-4d67-a44b-130024ce11d5",
   "metadata": {},
   "source": [
    "### KNN"
   ]
  },
  {
   "cell_type": "code",
   "execution_count": 41,
   "id": "e9ca2efa-0b2d-447e-864e-7b9ff5e67c1b",
   "metadata": {},
   "outputs": [],
   "source": [
    "from sklearn.preprocessing import StandardScaler, MinMaxScaler\n",
    "from sklearn.neighbors import KNeighborsClassifier"
   ]
  },
  {
   "cell_type": "code",
   "execution_count": 43,
   "id": "5bf9d6ed-0dcf-459f-830a-421df37fb711",
   "metadata": {},
   "outputs": [
    {
     "name": "stdout",
     "output_type": "stream",
     "text": [
      "Accuracy with Standardization: 0.9441311612364244\n",
      "Accuracy with Normalization: 0.9420426065162907\n"
     ]
    }
   ],
   "source": [
    "# Standardization\n",
    "scaler = StandardScaler()\n",
    "X_train_standardized = scaler.fit_transform(X_train)\n",
    "X_test_standardized = scaler.transform(X_test)\n",
    "\n",
    "# Fit model on standardized data\n",
    "model = KNeighborsClassifier()\n",
    "model.fit(X_train_standardized, y_train)\n",
    "y_pred = model.predict(X_test_standardized)\n",
    "print(\"Accuracy with Standardization:\", accuracy_score(y_test, y_pred))\n",
    "\n",
    "# Min-Max Normalization\n",
    "scaler = MinMaxScaler()\n",
    "X_train_normalized = scaler.fit_transform(X_train)\n",
    "X_test_normalized = scaler.transform(X_test)\n",
    "\n",
    "# Fit model on normalized data\n",
    "model.fit(X_train_normalized, y_train)\n",
    "y_pred = model.predict(X_test_normalized)\n",
    "print(\"Accuracy with Normalization:\", accuracy_score(y_test, y_pred))"
   ]
  },
  {
   "cell_type": "code",
   "execution_count": null,
   "id": "5da3f191-e053-4c74-8f85-34c3c8e71001",
   "metadata": {},
   "outputs": [],
   "source": []
  },
  {
   "cell_type": "code",
   "execution_count": 48,
   "id": "8c4d62f5-5088-487b-af3e-caf64d4ea22e",
   "metadata": {},
   "outputs": [],
   "source": [
    "###INFO: `support` is how many samples are in each class."
   ]
  },
  {
   "cell_type": "code",
   "execution_count": 73,
   "id": "cd260b2b-d439-4ab9-8bf9-9573813cd483",
   "metadata": {},
   "outputs": [],
   "source": [
    "from sklearn.preprocessing import label_binarize\n",
    "from sklearn.multiclass import OneVsRestClassifier"
   ]
  },
  {
   "cell_type": "markdown",
   "id": "102eb138-a9b0-4be7-bf08-3ef46028ad24",
   "metadata": {},
   "source": [
    "### SVM (SVC)"
   ]
  },
  {
   "cell_type": "code",
   "execution_count": 72,
   "id": "9f5930fd-073c-4c98-9603-21bbbbacbdb4",
   "metadata": {},
   "outputs": [],
   "source": [
    "from sklearn.svm import SVC"
   ]
  },
  {
   "cell_type": "code",
   "execution_count": 86,
   "id": "c7f48dfb-63e4-43d2-aaf8-efd09d243d7f",
   "metadata": {},
   "outputs": [],
   "source": [
    "# Binarize the labels for ROC curve\n",
    "y = label_binarize(y, classes=np.unique(y))\n",
    "n_classes = y.shape[1]"
   ]
  },
  {
   "cell_type": "code",
   "execution_count": 66,
   "id": "59664983-fdce-4e50-b462-17cc0eed32ef",
   "metadata": {},
   "outputs": [
    {
     "name": "stdout",
     "output_type": "stream",
     "text": [
      "[[0 1 0 0 0]\n",
      " [0 0 1 0 0]\n",
      " [0 0 1 0 0]\n",
      " ...\n",
      " [0 0 0 0 1]\n",
      " [0 0 0 0 1]\n",
      " [0 0 0 0 1]]\n",
      "5\n"
     ]
    }
   ],
   "source": [
    "print(y)\n",
    "print(n_classes)"
   ]
  },
  {
   "cell_type": "code",
   "execution_count": 88,
   "id": "f5d370e1-380d-4b0b-80b9-b8696d86b747",
   "metadata": {},
   "outputs": [],
   "source": [
    "# Split the dataset\n",
    "X_train, X_test, y_train, y_test = train_test_split(X, y, test_size=0.2, random_state=42)"
   ]
  },
  {
   "cell_type": "code",
   "execution_count": 69,
   "id": "ab288910-b74b-4cd7-af16-d2cd4f2ca6d5",
   "metadata": {},
   "outputs": [
    {
     "data": {
      "image/png": "[encoded data removed]",
      "text/plain": [
       "<Figure size 800x600 with 1 Axes>"
      ]
     },
     "metadata": {},
     "output_type": "display_data"
    }
   ],
   "source": [
    "# Train SVC with OneVsRest strategy\n",
    "svc = OneVsRestClassifier(SVC(kernel='linear', probability=True))\n",
    "svc.fit(X_train, y_train)\n",
    "\n",
    "y_pred = svc.predict(X_test)\n",
    "print(\"SVC Accuracy:\", accuracy_score(y_test, y_pred))\n",
    "print(classification_report(y_test, y_pred))\n",
    "\n",
    "y_score = svc.decision_function(X_test)\n",
    "\n",
    "# Plot ROC curves\n",
    "plt.figure(figsize=(8, 6))\n",
    "for i in range(n_classes):\n",
    "    fpr, tpr, _ = roc_curve(y_test[:, i], y_score[:, i])\n",
    "    roc_auc = auc(fpr, tpr)\n",
    "    plt.plot(fpr, tpr, label=f\"SVC Class {i+1} (AUC = {roc_auc:.2f})\")\n",
    "\n",
    "plt.plot([0, 1], [0, 1], 'k--')\n",
    "plt.xlabel(\"False Positive Rate\")\n",
    "plt.ylabel(\"True Positive Rate\")\n",
    "plt.title(\"ROC Curve for SVC\")\n",
    "plt.legend()\n",
    "plt.show()"
   ]
  },
  {
   "cell_type": "markdown",
   "id": "742b388a-ad3a-4655-91bc-d2792566fd6a",
   "metadata": {},
   "source": [
    "### Logistic Regression"
   ]
  },
  {
   "cell_type": "code",
   "execution_count": 53,
   "id": "c8244ce5-0c36-4cd9-8e48-238cf4049914",
   "metadata": {},
   "outputs": [],
   "source": [
    "from sklearn.linear_model import LogisticRegression"
   ]
  },
  {
   "cell_type": "code",
   "execution_count": 77,
   "id": "19191c94-cfe3-4ba2-9df0-a6cc69dbf47e",
   "metadata": {},
   "outputs": [
    {
     "name": "stdout",
     "output_type": "stream",
     "text": [
      "Logistic Regression Accuracy: 0.5411967418546366\n",
      "              precision    recall  f1-score   support\n",
      "\n",
      "           0       0.61      0.57      0.59      2813\n",
      "           1       0.80      0.70      0.75       255\n",
      "           2       0.81      0.88      0.84      1688\n",
      "           3       0.76      0.69      0.72      1618\n",
      "           4       1.00      1.00      1.00        10\n",
      "\n",
      "   micro avg       0.71      0.69      0.70      6384\n",
      "   macro avg       0.80      0.77      0.78      6384\n",
      "weighted avg       0.71      0.69      0.70      6384\n",
      " samples avg       0.80      0.69      0.64      6384\n",
      "\n"
     ]
    },
    {
     "data": {
      "image/png": "[encoded data removed]",
      "text/plain": [
       "<Figure size 800x600 with 1 Axes>"
      ]
     },
     "metadata": {},
     "output_type": "display_data"
    }
   ],
   "source": [
    "log_reg = OneVsRestClassifier(LogisticRegression(max_iter=1000))\n",
    "log_reg.fit(X_train, y_train)\n",
    "\n",
    "y_pred = log_reg.predict(X_test)\n",
    "print(\"Logistic Regression Accuracy:\", accuracy_score(y_test, y_pred))\n",
    "print(classification_report(y_test, y_pred, zero_division=1))\n",
    "\n",
    "y_score = log_reg.decision_function(X_test)\n",
    "\n",
    "# Plot ROC curves\n",
    "plt.figure(figsize=(8, 6))\n",
    "for i in range(n_classes):\n",
    "    fpr, tpr, _ = roc_curve(y_test[:, i], y_score[:, i])\n",
    "    roc_auc = auc(fpr, tpr)\n",
    "    plt.plot(fpr, tpr, label=f\"Logistic Regression Class {i+1} (AUC = {roc_auc:.2f})\")\n",
    "\n",
    "plt.plot([0, 1], [0, 1], 'k--')\n",
    "plt.xlabel(\"False Positive Rate\")\n",
    "plt.ylabel(\"True Positive Rate\")\n",
    "plt.title(\"ROC Curve for Logistic Regression\")\n",
    "plt.legend()\n",
    "plt.show()"
   ]
  },
  {
   "cell_type": "markdown",
   "id": "2940b3c4-8354-4107-82e5-79c8bd18cbad",
   "metadata": {},
   "source": [
    "### RandomForestClassifer (using StratifiedKFold & RandomizedSearchCV)"
   ]
  },
  {
   "cell_type": "code",
   "execution_count": null,
   "id": "16ffa2fe-64a5-4a17-a848-3eaf2a33bbb9",
   "metadata": {},
   "outputs": [],
   "source": []
  },
  {
   "cell_type": "code",
   "execution_count": 89,
   "id": "a8b3f8da-b404-45eb-84f5-b24921724af1",
   "metadata": {},
   "outputs": [
    {
     "ename": "TypeError",
     "evalue": "list indices must be integers or slices, not tuple",
     "output_type": "error",
     "traceback": [
      "\u001b[0;31m---------------------------------------------------------------------------\u001b[0m",
      "\u001b[0;31mTypeError\u001b[0m                                 Traceback (most recent call last)",
      "Cell \u001b[0;32mIn[89], line 11\u001b[0m\n\u001b[1;32m      9\u001b[0m plt\u001b[38;5;241m.\u001b[39mfigure(figsize\u001b[38;5;241m=\u001b[39m(\u001b[38;5;241m8\u001b[39m, \u001b[38;5;241m6\u001b[39m))\n\u001b[1;32m     10\u001b[0m \u001b[38;5;28;01mfor\u001b[39;00m i \u001b[38;5;129;01min\u001b[39;00m \u001b[38;5;28mrange\u001b[39m(n_classes):\n\u001b[0;32m---> 11\u001b[0m     fpr, tpr, _ \u001b[38;5;241m=\u001b[39m roc_curve(y_test[:, i], \u001b[43my_score\u001b[49m\u001b[43m[\u001b[49m\u001b[43m:\u001b[49m\u001b[43m,\u001b[49m\u001b[43m \u001b[49m\u001b[43mi\u001b[49m\u001b[43m]\u001b[49m)\n\u001b[1;32m     12\u001b[0m     roc_auc \u001b[38;5;241m=\u001b[39m auc(fpr, tpr)\n\u001b[1;32m     13\u001b[0m     plt\u001b[38;5;241m.\u001b[39mplot(fpr, tpr, label\u001b[38;5;241m=\u001b[39m\u001b[38;5;124mf\u001b[39m\u001b[38;5;124m\"\u001b[39m\u001b[38;5;124mClass \u001b[39m\u001b[38;5;132;01m{\u001b[39;00mi\u001b[38;5;241m+\u001b[39m\u001b[38;5;241m1\u001b[39m\u001b[38;5;132;01m}\u001b[39;00m\u001b[38;5;124m (AUC = \u001b[39m\u001b[38;5;132;01m{\u001b[39;00mroc_auc\u001b[38;5;132;01m:\u001b[39;00m\u001b[38;5;124m.2f\u001b[39m\u001b[38;5;132;01m}\u001b[39;00m\u001b[38;5;124m)\u001b[39m\u001b[38;5;124m\"\u001b[39m)\n",
      "\u001b[0;31mTypeError\u001b[0m: list indices must be integers or slices, not tuple"
     ]
    },
    {
     "data": {
      "text/plain": [
       "<Figure size 800x600 with 0 Axes>"
      ]
     },
     "metadata": {},
     "output_type": "display_data"
    }
   ],
   "source": [
    "# Train RandomForestClassifier\n",
    "rf = RandomForestClassifier(n_estimators=100, random_state=42)\n",
    "rf.fit(X_train, y_train)\n",
    "\n",
    "# Get probability scores for ROC curve\n",
    "y_score = rf.predict_proba(X_test)\n",
    "\n",
    "# Plot ROC curve for each class\n",
    "plt.figure(figsize=(8, 6))\n",
    "for i in range(n_classes):\n",
    "    fpr, tpr, _ = roc_curve(y_test[:, i], y_score[:, i])\n",
    "    roc_auc = auc(fpr, tpr)\n",
    "    plt.plot(fpr, tpr, label=f\"Class {i+1} (AUC = {roc_auc:.2f})\")\n",
    "\n",
    "# Plot diagonal line for reference\n",
    "plt.plot([0, 1], [0, 1], 'k--')\n",
    "plt.xlabel(\"False Positive Rate\")\n",
    "plt.ylabel(\"True Positive Rate\")\n",
    "plt.title(\"ROC Curve for RandomForestClassifier\")\n",
    "plt.legend()\n",
    "plt.show()\n"
   ]
  },
  {
   "cell_type": "code",
   "execution_count": null,
   "id": "19bc18d4-76f9-4577-b80e-d9f198c5e586",
   "metadata": {},
   "outputs": [],
   "source": []
  },
  {
   "cell_type": "code",
   "execution_count": 30,
   "id": "1061fb4d-23a8-4658-847f-44306c096ed2",
   "metadata": {},
   "outputs": [],
   "source": [
    "from sklearn.model_selection import StratifiedKFold, RandomizedSearchCV\n",
    "from sklearn.ensemble import RandomForestClassifier\n",
    "from sklearn.metrics import accuracy_score, roc_curve, roc_auc_score, f1_score"
   ]
  },
  {
   "cell_type": "code",
   "execution_count": 80,
   "id": "eddb389e-1bb8-45ea-8075-cac4645644c0",
   "metadata": {},
   "outputs": [
    {
     "ename": "ValueError",
     "evalue": "Supported target types are: ('binary', 'multiclass'). Got 'multilabel-indicator' instead.",
     "output_type": "error",
     "traceback": [
      "\u001b[0;31m---------------------------------------------------------------------------\u001b[0m",
      "\u001b[0;31mValueError\u001b[0m                                Traceback (most recent call last)",
      "Cell \u001b[0;32mIn[80], line 26\u001b[0m\n\u001b[1;32m     16\u001b[0m random_search \u001b[38;5;241m=\u001b[39m RandomizedSearchCV(\n\u001b[1;32m     17\u001b[0m     estimator \u001b[38;5;241m=\u001b[39m rf,\n\u001b[1;32m     18\u001b[0m     param_distributions \u001b[38;5;241m=\u001b[39m param_grid, \n\u001b[0;32m   (...)\u001b[0m\n\u001b[1;32m     22\u001b[0m     random_state \u001b[38;5;241m=\u001b[39m \u001b[38;5;241m42\u001b[39m\n\u001b[1;32m     23\u001b[0m )\n\u001b[1;32m     25\u001b[0m \u001b[38;5;66;03m# Fit the RandomizedSearchCV object to the training data\u001b[39;00m\n\u001b[0;32m---> 26\u001b[0m \u001b[43mrandom_search\u001b[49m\u001b[38;5;241;43m.\u001b[39;49m\u001b[43mfit\u001b[49m\u001b[43m(\u001b[49m\u001b[43mX_train\u001b[49m\u001b[43m,\u001b[49m\u001b[43m \u001b[49m\u001b[43my_train\u001b[49m\u001b[43m)\u001b[49m\n\u001b[1;32m     28\u001b[0m \u001b[38;5;66;03m# Print the best parameters and score\u001b[39;00m\n\u001b[1;32m     29\u001b[0m \u001b[38;5;28mprint\u001b[39m(\u001b[38;5;124m\"\u001b[39m\u001b[38;5;124mBest parameters:\u001b[39m\u001b[38;5;124m\"\u001b[39m, random_search\u001b[38;5;241m.\u001b[39mbest_params_)\n",
      "File \u001b[0;32m~/PERSONAL/Daily-Learning-Resources/Data-Science/venv/lib/python3.11/site-packages/sklearn/base.py:1473\u001b[0m, in \u001b[0;36m_fit_context.<locals>.decorator.<locals>.wrapper\u001b[0;34m(estimator, *args, **kwargs)\u001b[0m\n\u001b[1;32m   1466\u001b[0m     estimator\u001b[38;5;241m.\u001b[39m_validate_params()\n\u001b[1;32m   1468\u001b[0m \u001b[38;5;28;01mwith\u001b[39;00m config_context(\n\u001b[1;32m   1469\u001b[0m     skip_parameter_validation\u001b[38;5;241m=\u001b[39m(\n\u001b[1;32m   1470\u001b[0m         prefer_skip_nested_validation \u001b[38;5;129;01mor\u001b[39;00m global_skip_validation\n\u001b[1;32m   1471\u001b[0m     )\n\u001b[1;32m   1472\u001b[0m ):\n\u001b[0;32m-> 1473\u001b[0m     \u001b[38;5;28;01mreturn\u001b[39;00m \u001b[43mfit_method\u001b[49m\u001b[43m(\u001b[49m\u001b[43mestimator\u001b[49m\u001b[43m,\u001b[49m\u001b[43m \u001b[49m\u001b[38;5;241;43m*\u001b[39;49m\u001b[43margs\u001b[49m\u001b[43m,\u001b[49m\u001b[43m \u001b[49m\u001b[38;5;241;43m*\u001b[39;49m\u001b[38;5;241;43m*\u001b[39;49m\u001b[43mkwargs\u001b[49m\u001b[43m)\u001b[49m\n",
      "File \u001b[0;32m~/PERSONAL/Daily-Learning-Resources/Data-Science/venv/lib/python3.11/site-packages/sklearn/model_selection/_search.py:1019\u001b[0m, in \u001b[0;36mBaseSearchCV.fit\u001b[0;34m(self, X, y, **params)\u001b[0m\n\u001b[1;32m   1013\u001b[0m     results \u001b[38;5;241m=\u001b[39m \u001b[38;5;28mself\u001b[39m\u001b[38;5;241m.\u001b[39m_format_results(\n\u001b[1;32m   1014\u001b[0m         all_candidate_params, n_splits, all_out, all_more_results\n\u001b[1;32m   1015\u001b[0m     )\n\u001b[1;32m   1017\u001b[0m     \u001b[38;5;28;01mreturn\u001b[39;00m results\n\u001b[0;32m-> 1019\u001b[0m \u001b[38;5;28;43mself\u001b[39;49m\u001b[38;5;241;43m.\u001b[39;49m\u001b[43m_run_search\u001b[49m\u001b[43m(\u001b[49m\u001b[43mevaluate_candidates\u001b[49m\u001b[43m)\u001b[49m\n\u001b[1;32m   1021\u001b[0m \u001b[38;5;66;03m# multimetric is determined here because in the case of a callable\u001b[39;00m\n\u001b[1;32m   1022\u001b[0m \u001b[38;5;66;03m# self.scoring the return type is only known after calling\u001b[39;00m\n\u001b[1;32m   1023\u001b[0m first_test_score \u001b[38;5;241m=\u001b[39m all_out[\u001b[38;5;241m0\u001b[39m][\u001b[38;5;124m\"\u001b[39m\u001b[38;5;124mtest_scores\u001b[39m\u001b[38;5;124m\"\u001b[39m]\n",
      "File \u001b[0;32m~/PERSONAL/Daily-Learning-Resources/Data-Science/venv/lib/python3.11/site-packages/sklearn/model_selection/_search.py:1960\u001b[0m, in \u001b[0;36mRandomizedSearchCV._run_search\u001b[0;34m(self, evaluate_candidates)\u001b[0m\n\u001b[1;32m   1958\u001b[0m \u001b[38;5;28;01mdef\u001b[39;00m \u001b[38;5;21m_run_search\u001b[39m(\u001b[38;5;28mself\u001b[39m, evaluate_candidates):\n\u001b[1;32m   1959\u001b[0m \u001b[38;5;250m    \u001b[39m\u001b[38;5;124;03m\"\"\"Search n_iter candidates from param_distributions\"\"\"\u001b[39;00m\n\u001b[0;32m-> 1960\u001b[0m     \u001b[43mevaluate_candidates\u001b[49m\u001b[43m(\u001b[49m\n\u001b[1;32m   1961\u001b[0m \u001b[43m        \u001b[49m\u001b[43mParameterSampler\u001b[49m\u001b[43m(\u001b[49m\n\u001b[1;32m   1962\u001b[0m \u001b[43m            \u001b[49m\u001b[38;5;28;43mself\u001b[39;49m\u001b[38;5;241;43m.\u001b[39;49m\u001b[43mparam_distributions\u001b[49m\u001b[43m,\u001b[49m\u001b[43m \u001b[49m\u001b[38;5;28;43mself\u001b[39;49m\u001b[38;5;241;43m.\u001b[39;49m\u001b[43mn_iter\u001b[49m\u001b[43m,\u001b[49m\u001b[43m \u001b[49m\u001b[43mrandom_state\u001b[49m\u001b[38;5;241;43m=\u001b[39;49m\u001b[38;5;28;43mself\u001b[39;49m\u001b[38;5;241;43m.\u001b[39;49m\u001b[43mrandom_state\u001b[49m\n\u001b[1;32m   1963\u001b[0m \u001b[43m        \u001b[49m\u001b[43m)\u001b[49m\n\u001b[1;32m   1964\u001b[0m \u001b[43m    \u001b[49m\u001b[43m)\u001b[49m\n",
      "File \u001b[0;32m~/PERSONAL/Daily-Learning-Resources/Data-Science/venv/lib/python3.11/site-packages/sklearn/model_selection/_search.py:977\u001b[0m, in \u001b[0;36mBaseSearchCV.fit.<locals>.evaluate_candidates\u001b[0;34m(candidate_params, cv, more_results)\u001b[0m\n\u001b[1;32m    957\u001b[0m \u001b[38;5;28;01mif\u001b[39;00m \u001b[38;5;28mself\u001b[39m\u001b[38;5;241m.\u001b[39mverbose \u001b[38;5;241m>\u001b[39m \u001b[38;5;241m0\u001b[39m:\n\u001b[1;32m    958\u001b[0m     \u001b[38;5;28mprint\u001b[39m(\n\u001b[1;32m    959\u001b[0m         \u001b[38;5;124m\"\u001b[39m\u001b[38;5;124mFitting \u001b[39m\u001b[38;5;132;01m{0}\u001b[39;00m\u001b[38;5;124m folds for each of \u001b[39m\u001b[38;5;132;01m{1}\u001b[39;00m\u001b[38;5;124m candidates,\u001b[39m\u001b[38;5;124m\"\u001b[39m\n\u001b[1;32m    960\u001b[0m         \u001b[38;5;124m\"\u001b[39m\u001b[38;5;124m totalling \u001b[39m\u001b[38;5;132;01m{2}\u001b[39;00m\u001b[38;5;124m fits\u001b[39m\u001b[38;5;124m\"\u001b[39m\u001b[38;5;241m.\u001b[39mformat(\n\u001b[1;32m    961\u001b[0m             n_splits, n_candidates, n_candidates \u001b[38;5;241m*\u001b[39m n_splits\n\u001b[1;32m    962\u001b[0m         )\n\u001b[1;32m    963\u001b[0m     )\n\u001b[1;32m    965\u001b[0m out \u001b[38;5;241m=\u001b[39m parallel(\n\u001b[1;32m    966\u001b[0m     delayed(_fit_and_score)(\n\u001b[1;32m    967\u001b[0m         clone(base_estimator),\n\u001b[1;32m    968\u001b[0m         X,\n\u001b[1;32m    969\u001b[0m         y,\n\u001b[1;32m    970\u001b[0m         train\u001b[38;5;241m=\u001b[39mtrain,\n\u001b[1;32m    971\u001b[0m         test\u001b[38;5;241m=\u001b[39mtest,\n\u001b[1;32m    972\u001b[0m         parameters\u001b[38;5;241m=\u001b[39mparameters,\n\u001b[1;32m    973\u001b[0m         split_progress\u001b[38;5;241m=\u001b[39m(split_idx, n_splits),\n\u001b[1;32m    974\u001b[0m         candidate_progress\u001b[38;5;241m=\u001b[39m(cand_idx, n_candidates),\n\u001b[1;32m    975\u001b[0m         \u001b[38;5;241m*\u001b[39m\u001b[38;5;241m*\u001b[39mfit_and_score_kwargs,\n\u001b[1;32m    976\u001b[0m     )\n\u001b[0;32m--> 977\u001b[0m     \u001b[38;5;28;01mfor\u001b[39;00m (cand_idx, parameters), (split_idx, (train, test)) \u001b[38;5;129;01min\u001b[39;00m \u001b[43mproduct\u001b[49m\u001b[43m(\u001b[49m\n\u001b[1;32m    978\u001b[0m \u001b[43m        \u001b[49m\u001b[38;5;28;43menumerate\u001b[39;49m\u001b[43m(\u001b[49m\u001b[43mcandidate_params\u001b[49m\u001b[43m)\u001b[49m\u001b[43m,\u001b[49m\n\u001b[1;32m    979\u001b[0m \u001b[43m        \u001b[49m\u001b[38;5;28;43menumerate\u001b[39;49m\u001b[43m(\u001b[49m\u001b[43mcv\u001b[49m\u001b[38;5;241;43m.\u001b[39;49m\u001b[43msplit\u001b[49m\u001b[43m(\u001b[49m\u001b[43mX\u001b[49m\u001b[43m,\u001b[49m\u001b[43m \u001b[49m\u001b[43my\u001b[49m\u001b[43m,\u001b[49m\u001b[43m \u001b[49m\u001b[38;5;241;43m*\u001b[39;49m\u001b[38;5;241;43m*\u001b[39;49m\u001b[43mrouted_params\u001b[49m\u001b[38;5;241;43m.\u001b[39;49m\u001b[43msplitter\u001b[49m\u001b[38;5;241;43m.\u001b[39;49m\u001b[43msplit\u001b[49m\u001b[43m)\u001b[49m\u001b[43m)\u001b[49m\u001b[43m,\u001b[49m\n\u001b[1;32m    980\u001b[0m \u001b[43m    \u001b[49m\u001b[43m)\u001b[49m\n\u001b[1;32m    981\u001b[0m )\n\u001b[1;32m    983\u001b[0m \u001b[38;5;28;01mif\u001b[39;00m \u001b[38;5;28mlen\u001b[39m(out) \u001b[38;5;241m<\u001b[39m \u001b[38;5;241m1\u001b[39m:\n\u001b[1;32m    984\u001b[0m     \u001b[38;5;28;01mraise\u001b[39;00m \u001b[38;5;167;01mValueError\u001b[39;00m(\n\u001b[1;32m    985\u001b[0m         \u001b[38;5;124m\"\u001b[39m\u001b[38;5;124mNo fits were performed. \u001b[39m\u001b[38;5;124m\"\u001b[39m\n\u001b[1;32m    986\u001b[0m         \u001b[38;5;124m\"\u001b[39m\u001b[38;5;124mWas the CV iterator empty? \u001b[39m\u001b[38;5;124m\"\u001b[39m\n\u001b[1;32m    987\u001b[0m         \u001b[38;5;124m\"\u001b[39m\u001b[38;5;124mWere there no candidates?\u001b[39m\u001b[38;5;124m\"\u001b[39m\n\u001b[1;32m    988\u001b[0m     )\n",
      "File \u001b[0;32m~/PERSONAL/Daily-Learning-Resources/Data-Science/venv/lib/python3.11/site-packages/sklearn/model_selection/_split.py:416\u001b[0m, in \u001b[0;36m_BaseKFold.split\u001b[0;34m(self, X, y, groups)\u001b[0m\n\u001b[1;32m    408\u001b[0m \u001b[38;5;28;01mif\u001b[39;00m \u001b[38;5;28mself\u001b[39m\u001b[38;5;241m.\u001b[39mn_splits \u001b[38;5;241m>\u001b[39m n_samples:\n\u001b[1;32m    409\u001b[0m     \u001b[38;5;28;01mraise\u001b[39;00m \u001b[38;5;167;01mValueError\u001b[39;00m(\n\u001b[1;32m    410\u001b[0m         (\n\u001b[1;32m    411\u001b[0m             \u001b[38;5;124m\"\u001b[39m\u001b[38;5;124mCannot have number of splits n_splits=\u001b[39m\u001b[38;5;132;01m{0}\u001b[39;00m\u001b[38;5;124m greater\u001b[39m\u001b[38;5;124m\"\u001b[39m\n\u001b[1;32m    412\u001b[0m             \u001b[38;5;124m\"\u001b[39m\u001b[38;5;124m than the number of samples: n_samples=\u001b[39m\u001b[38;5;132;01m{1}\u001b[39;00m\u001b[38;5;124m.\u001b[39m\u001b[38;5;124m\"\u001b[39m\n\u001b[1;32m    413\u001b[0m         )\u001b[38;5;241m.\u001b[39mformat(\u001b[38;5;28mself\u001b[39m\u001b[38;5;241m.\u001b[39mn_splits, n_samples)\n\u001b[1;32m    414\u001b[0m     )\n\u001b[0;32m--> 416\u001b[0m \u001b[43m\u001b[49m\u001b[38;5;28;43;01mfor\u001b[39;49;00m\u001b[43m \u001b[49m\u001b[43mtrain\u001b[49m\u001b[43m,\u001b[49m\u001b[43m \u001b[49m\u001b[43mtest\u001b[49m\u001b[43m \u001b[49m\u001b[38;5;129;43;01min\u001b[39;49;00m\u001b[43m \u001b[49m\u001b[38;5;28;43msuper\u001b[39;49m\u001b[43m(\u001b[49m\u001b[43m)\u001b[49m\u001b[38;5;241;43m.\u001b[39;49m\u001b[43msplit\u001b[49m\u001b[43m(\u001b[49m\u001b[43mX\u001b[49m\u001b[43m,\u001b[49m\u001b[43m \u001b[49m\u001b[43my\u001b[49m\u001b[43m,\u001b[49m\u001b[43m \u001b[49m\u001b[43mgroups\u001b[49m\u001b[43m)\u001b[49m\u001b[43m:\u001b[49m\n\u001b[1;32m    417\u001b[0m \u001b[43m    \u001b[49m\u001b[38;5;28;43;01myield\u001b[39;49;00m\u001b[43m \u001b[49m\u001b[43mtrain\u001b[49m\u001b[43m,\u001b[49m\u001b[43m \u001b[49m\u001b[43mtest\u001b[49m\n",
      "File \u001b[0;32m~/PERSONAL/Daily-Learning-Resources/Data-Science/venv/lib/python3.11/site-packages/sklearn/model_selection/_split.py:147\u001b[0m, in \u001b[0;36mBaseCrossValidator.split\u001b[0;34m(self, X, y, groups)\u001b[0m\n\u001b[1;32m    145\u001b[0m X, y, groups \u001b[38;5;241m=\u001b[39m indexable(X, y, groups)\n\u001b[1;32m    146\u001b[0m indices \u001b[38;5;241m=\u001b[39m np\u001b[38;5;241m.\u001b[39marange(_num_samples(X))\n\u001b[0;32m--> 147\u001b[0m \u001b[43m\u001b[49m\u001b[38;5;28;43;01mfor\u001b[39;49;00m\u001b[43m \u001b[49m\u001b[43mtest_index\u001b[49m\u001b[43m \u001b[49m\u001b[38;5;129;43;01min\u001b[39;49;00m\u001b[43m \u001b[49m\u001b[38;5;28;43mself\u001b[39;49m\u001b[38;5;241;43m.\u001b[39;49m\u001b[43m_iter_test_masks\u001b[49m\u001b[43m(\u001b[49m\u001b[43mX\u001b[49m\u001b[43m,\u001b[49m\u001b[43m \u001b[49m\u001b[43my\u001b[49m\u001b[43m,\u001b[49m\u001b[43m \u001b[49m\u001b[43mgroups\u001b[49m\u001b[43m)\u001b[49m\u001b[43m:\u001b[49m\n\u001b[1;32m    148\u001b[0m \u001b[43m    \u001b[49m\u001b[43mtrain_index\u001b[49m\u001b[43m \u001b[49m\u001b[38;5;241;43m=\u001b[39;49m\u001b[43m \u001b[49m\u001b[43mindices\u001b[49m\u001b[43m[\u001b[49m\u001b[43mnp\u001b[49m\u001b[38;5;241;43m.\u001b[39;49m\u001b[43mlogical_not\u001b[49m\u001b[43m(\u001b[49m\u001b[43mtest_index\u001b[49m\u001b[43m)\u001b[49m\u001b[43m]\u001b[49m\n\u001b[1;32m    149\u001b[0m \u001b[43m    \u001b[49m\u001b[43mtest_index\u001b[49m\u001b[43m \u001b[49m\u001b[38;5;241;43m=\u001b[39;49m\u001b[43m \u001b[49m\u001b[43mindices\u001b[49m\u001b[43m[\u001b[49m\u001b[43mtest_index\u001b[49m\u001b[43m]\u001b[49m\n",
      "File \u001b[0;32m~/PERSONAL/Daily-Learning-Resources/Data-Science/venv/lib/python3.11/site-packages/sklearn/model_selection/_split.py:809\u001b[0m, in \u001b[0;36mStratifiedKFold._iter_test_masks\u001b[0;34m(self, X, y, groups)\u001b[0m\n\u001b[1;32m    808\u001b[0m \u001b[38;5;28;01mdef\u001b[39;00m \u001b[38;5;21m_iter_test_masks\u001b[39m(\u001b[38;5;28mself\u001b[39m, X, y\u001b[38;5;241m=\u001b[39m\u001b[38;5;28;01mNone\u001b[39;00m, groups\u001b[38;5;241m=\u001b[39m\u001b[38;5;28;01mNone\u001b[39;00m):\n\u001b[0;32m--> 809\u001b[0m     test_folds \u001b[38;5;241m=\u001b[39m \u001b[38;5;28;43mself\u001b[39;49m\u001b[38;5;241;43m.\u001b[39;49m\u001b[43m_make_test_folds\u001b[49m\u001b[43m(\u001b[49m\u001b[43mX\u001b[49m\u001b[43m,\u001b[49m\u001b[43m \u001b[49m\u001b[43my\u001b[49m\u001b[43m)\u001b[49m\n\u001b[1;32m    810\u001b[0m     \u001b[38;5;28;01mfor\u001b[39;00m i \u001b[38;5;129;01min\u001b[39;00m \u001b[38;5;28mrange\u001b[39m(\u001b[38;5;28mself\u001b[39m\u001b[38;5;241m.\u001b[39mn_splits):\n\u001b[1;32m    811\u001b[0m         \u001b[38;5;28;01myield\u001b[39;00m test_folds \u001b[38;5;241m==\u001b[39m i\n",
      "File \u001b[0;32m~/PERSONAL/Daily-Learning-Resources/Data-Science/venv/lib/python3.11/site-packages/sklearn/model_selection/_split.py:752\u001b[0m, in \u001b[0;36mStratifiedKFold._make_test_folds\u001b[0;34m(self, X, y)\u001b[0m\n\u001b[1;32m    750\u001b[0m allowed_target_types \u001b[38;5;241m=\u001b[39m (\u001b[38;5;124m\"\u001b[39m\u001b[38;5;124mbinary\u001b[39m\u001b[38;5;124m\"\u001b[39m, \u001b[38;5;124m\"\u001b[39m\u001b[38;5;124mmulticlass\u001b[39m\u001b[38;5;124m\"\u001b[39m)\n\u001b[1;32m    751\u001b[0m \u001b[38;5;28;01mif\u001b[39;00m type_of_target_y \u001b[38;5;129;01mnot\u001b[39;00m \u001b[38;5;129;01min\u001b[39;00m allowed_target_types:\n\u001b[0;32m--> 752\u001b[0m     \u001b[38;5;28;01mraise\u001b[39;00m \u001b[38;5;167;01mValueError\u001b[39;00m(\n\u001b[1;32m    753\u001b[0m         \u001b[38;5;124m\"\u001b[39m\u001b[38;5;124mSupported target types are: \u001b[39m\u001b[38;5;132;01m{}\u001b[39;00m\u001b[38;5;124m. Got \u001b[39m\u001b[38;5;132;01m{!r}\u001b[39;00m\u001b[38;5;124m instead.\u001b[39m\u001b[38;5;124m\"\u001b[39m\u001b[38;5;241m.\u001b[39mformat(\n\u001b[1;32m    754\u001b[0m             allowed_target_types, type_of_target_y\n\u001b[1;32m    755\u001b[0m         )\n\u001b[1;32m    756\u001b[0m     )\n\u001b[1;32m    758\u001b[0m y \u001b[38;5;241m=\u001b[39m column_or_1d(y)\n\u001b[1;32m    760\u001b[0m _, y_idx, y_inv \u001b[38;5;241m=\u001b[39m np\u001b[38;5;241m.\u001b[39munique(y, return_index\u001b[38;5;241m=\u001b[39m\u001b[38;5;28;01mTrue\u001b[39;00m, return_inverse\u001b[38;5;241m=\u001b[39m\u001b[38;5;28;01mTrue\u001b[39;00m)\n",
      "\u001b[0;31mValueError\u001b[0m: Supported target types are: ('binary', 'multiclass'). Got 'multilabel-indicator' instead."
     ]
    }
   ],
   "source": [
    "# Create a StratifiedKFold object\n",
    "skf = StratifiedKFold(n_splits=5, shuffle=True, random_state=42)\n",
    "\n",
    "# Create a Random Forest Classifier\n",
    "rf = RandomForestClassifier()\n",
    "\n",
    "# Define the parameter grid for Randomized Search\n",
    "param_grid = {\n",
    "    'n_estimators': [100, 200, 300],\n",
    "    'max_depth': [5, 10, 20],\n",
    "    'min_samples_split': [2, 5, 10],\n",
    "    'min_samples_leaf': [1, 2, 4]\n",
    "}\n",
    "\n",
    "# Create a RandomizedSearchCV object\n",
    "random_search = RandomizedSearchCV(\n",
    "    estimator = rf,\n",
    "    param_distributions = param_grid, \n",
    "    n_iter = 10,\n",
    "    cv = skf,\n",
    "    scoring = 'accuracy',\n",
    "    random_state = 42\n",
    ")\n",
    "\n",
    "# Fit the RandomizedSearchCV object to the training data\n",
    "random_search.fit(X_train, y_train)\n",
    "\n",
    "# Print the best parameters and score\n",
    "print(\"Best parameters:\", random_search.best_params_)\n",
    "print(\"Best score:\", random_search.best_score_)\n",
    "\n",
    "# Use the best model to make predictions on the testing set\n",
    "best_model = random_search.best_estimator_\n",
    "y_pred = best_model.predict(X_test)\n",
    "y_pred"
   ]
  },
  {
   "cell_type": "code",
   "execution_count": 32,
   "id": "de77294c-90f4-4c85-b356-7130d3f840e8",
   "metadata": {},
   "outputs": [
    {
     "name": "stdout",
     "output_type": "stream",
     "text": [
      "Accuracy: 0.9509189640768588\n",
      "F1-score (micro): 0.9509189640768588\n",
      "F1-score (macro): 0.9587348029136248\n",
      "F1-score (weighted): 0.9509007444103936\n"
     ]
    }
   ],
   "source": [
    "accuracy = accuracy_score(y_test, y_pred)\n",
    "print(\"Accuracy:\", accuracy)\n",
    "\n",
    "f1_micro = f1_score(y_test, y_pred, average='micro')\n",
    "f1_macro = f1_score(y_test, y_pred, average='macro')\n",
    "f1_weighted = f1_score(y_test, y_pred, average='weighted')\n",
    "\n",
    "print(\"F1-score (micro):\", f1_micro)\n",
    "print(\"F1-score (macro):\", f1_macro)\n",
    "print(\"F1-score (weighted):\", f1_weighted)"
   ]
  },
  {
   "cell_type": "code",
   "execution_count": null,
   "id": "df4a1abd-8b9b-40f2-ab2d-86b3dadf8dbc",
   "metadata": {},
   "outputs": [],
   "source": [
    "# Get probability scores for ROC curve\n",
    "y_score = rf.predict_proba(X_test)\n",
    "\n",
    "# Plot ROC curve for each class\n",
    "plt.figure(figsize=(8, 6))\n",
    "for i in range(n_classes):\n",
    "    fpr, tpr, _ = roc_curve(y_test[:, i], y_score[:, i])\n",
    "    roc_auc = auc(fpr, tpr)\n",
    "    plt.plot(fpr, tpr, label=f\"Class {i+1} (AUC = {roc_auc:.2f})\")\n",
    "\n",
    "# Plot diagonal line for reference\n",
    "plt.plot([0, 1], [0, 1], 'k--')\n",
    "plt.xlabel(\"False Positive Rate\")\n",
    "plt.ylabel(\"True Positive Rate\")\n",
    "plt.title(\"ROC Curve for RandomForestClassifier\")\n",
    "plt.legend()\n",
    "plt.show()"
   ]
  },
  {
   "cell_type": "markdown",
   "id": "e213bd01-643b-498c-b047-65e3e5de86d8",
   "metadata": {},
   "source": [
    "#### Training Accuracy vs Testing Accuracy"
   ]
  },
  {
   "cell_type": "code",
   "execution_count": 33,
   "id": "7e206b38-c4c5-43dc-8460-72e74bc1a7f4",
   "metadata": {},
   "outputs": [
    {
     "name": "stdout",
     "output_type": "stream",
     "text": [
      "train_accuracy: [0.9594038134455286]\n",
      "test_accuracy: [0.9509189640768588]\n"
     ]
    },
    {
     "data": {
      "image/png": "[encoded data removed]",
      "text/plain": [
       "<Figure size 1000x600 with 1 Axes>"
      ]
     },
     "metadata": {},
     "output_type": "display_data"
    }
   ],
   "source": [
    "train_accuracy = []\n",
    "test_accuracy = []\n",
    "\n",
    "# Assuming you're training in a loop, after each epoch:\n",
    "# Get predictions and calculate accuracy for the training and testing sets\n",
    "train_pred = best_model.predict(X_train)\n",
    "train_acc = accuracy_score(y_train, train_pred)\n",
    "train_accuracy.append(train_acc)\n",
    "\n",
    "test_pred = best_model.predict(X_test)\n",
    "test_acc = accuracy_score(y_test, test_pred)\n",
    "test_accuracy.append(test_acc)\n",
    "\n",
    "print(f\"train_accuracy: {train_accuracy}\")\n",
    "print(f\"test_accuracy: {test_accuracy}\")\n",
    "\n",
    "epochs = range(1, len(train_accuracy) + 1)\n",
    "# Plot the training and testing accuracy\n",
    "plt.figure(figsize=(10, 6))\n",
    "sns.lineplot(x=epochs, y=train_accuracy, label='Training Accuracy', color='b')\n",
    "sns.lineplot(x=epochs, y=test_accuracy, label='Testing Accuracy', color='r')\n",
    "\n",
    "# Add labels and title\n",
    "plt.title('Training and Testing Accuracy over Epochs')\n",
    "plt.xlabel('Epoch')\n",
    "plt.ylabel('Accuracy')\n",
    "plt.legend(loc='lower right')\n",
    "plt.show()"
   ]
  },
  {
   "cell_type": "code",
   "execution_count": 34,
   "id": "12f6e0ac-98f3-49e7-820f-165c99593857",
   "metadata": {
    "scrolled": true
   },
   "outputs": [
    {
     "data": {
      "image/png": "[encoded data removed]",
      "text/plain": [
       "<Figure size 640x480 with 1 Axes>"
      ]
     },
     "metadata": {},
     "output_type": "display_data"
    }
   ],
   "source": [
    "# Calculate the differences\n",
    "differences = y_test - y_pred\n",
    "\n",
    "# Create a scatter plot\n",
    "plt.scatter(range(len(differences)), differences)\n",
    "# plt.axhline(y=0, color='r', linestyle='--')  # Add a horizontal line at y=0\n",
    "plt.xlabel('Index')\n",
    "plt.ylabel('Difference (y_test - y_pred)')\n",
    "plt.title('Difference between Actual and Predicted Values')\n",
    "# plt.grid(True)\n",
    "plt.show()"
   ]
  },
  {
   "cell_type": "code",
   "execution_count": 35,
   "id": "af1f58fc-2f34-4b37-818f-dc419a3321fc",
   "metadata": {},
   "outputs": [
    {
     "data": {
      "image/png": "[encoded data removed]",
      "text/plain": [
       "<Figure size 1000x600 with 1 Axes>"
      ]
     },
     "metadata": {},
     "output_type": "display_data"
    }
   ],
   "source": [
    "# Calculate the accuracy difference for each point\n",
    "accuracy_diff = [y_t - y_p for y_t, y_p in zip(y_test, y_pred)]\n",
    "\n",
    "# Create a DataFrame to organize the data\n",
    "data = pd.DataFrame({'Index': range(len(y_test)), 'Accuracy Difference': accuracy_diff})\n",
    "\n",
    "# Plot the accuracy difference using Seaborn\n",
    "plt.figure(figsize=(10, 6))\n",
    "sns.barplot(x='Index', y='Accuracy Difference', data=data, color=\"skyblue\")\n",
    "plt.title('Accuracy Difference for Each Point')\n",
    "plt.xlabel('Data Point Index')\n",
    "plt.ylabel('Difference (y_test - y_pred)')\n",
    "plt.xticks(rotation=90)  # Rotate x-axis labels if needed\n",
    "plt.show()"
   ]
  },
  {
   "cell_type": "code",
   "execution_count": null,
   "id": "3504c01a-f62b-4cfe-ae13-48013a0d7914",
   "metadata": {},
   "outputs": [],
   "source": []
  },
  {
   "cell_type": "code",
   "execution_count": null,
   "id": "6c6b8cda-b8a9-45ec-8180-793150d04fd1",
   "metadata": {},
   "outputs": [],
   "source": []
  },
  {
   "cell_type": "code",
   "execution_count": null,
   "id": "fa3f47d3-fbd5-4c1d-a254-a87b0f605722",
   "metadata": {},
   "outputs": [],
   "source": []
  },
  {
   "cell_type": "code",
   "execution_count": null,
   "id": "6c338f09-af8f-43c5-ad53-13446bc2374d",
   "metadata": {},
   "outputs": [],
   "source": []
  },
  {
   "cell_type": "code",
   "execution_count": null,
   "id": "dfcbe661-c582-43d1-842f-f6a7831b2c36",
   "metadata": {},
   "outputs": [],
   "source": []
  },
  {
   "cell_type": "code",
   "execution_count": null,
   "id": "07ff69d6-8298-45e2-a51a-8ba9d8354c8c",
   "metadata": {},
   "outputs": [],
   "source": []
  },
  {
   "cell_type": "code",
   "execution_count": null,
   "id": "0f11cf79-e07a-478a-932a-4db26fe306ab",
   "metadata": {},
   "outputs": [],
   "source": []
  },
  {
   "cell_type": "code",
   "execution_count": null,
   "id": "d22dac35-0ece-4879-8705-965a6aa9e1af",
   "metadata": {},
   "outputs": [],
   "source": []
  },
  {
   "cell_type": "code",
   "execution_count": 25,
   "id": "62427865-36fd-44e0-803a-9af419dd4198",
   "metadata": {},
   "outputs": [],
   "source": [
    "from sklearn.utils import class_weight"
   ]
  },
  {
   "cell_type": "code",
   "execution_count": 27,
   "id": "94f834a0-aaf9-4e7c-969a-466d7844b83f",
   "metadata": {},
   "outputs": [],
   "source": [
    "X = df.iloc[2:]"
   ]
  },
  {
   "cell_type": "code",
   "execution_count": 28,
   "id": "db1f527a-fd25-4f17-b615-b34a29b4db90",
   "metadata": {
    "scrolled": true
   },
   "outputs": [
    {
     "data": {
      "text/html": [
       "<div>\n",
       "<style scoped>\n",
       "    .dataframe tbody tr th:only-of-type {\n",
       "        vertical-align: middle;\n",
       "    }\n",
       "\n",
       "    .dataframe tbody tr th {\n",
       "        vertical-align: top;\n",
       "    }\n",
       "\n",
       "    .dataframe thead th {\n",
       "        text-align: right;\n",
       "    }\n",
       "</style>\n",
       "<table border=\"1\" class=\"dataframe\">\n",
       "  <thead>\n",
       "    <tr style=\"text-align: right;\">\n",
       "      <th></th>\n",
       "      <th>pointid</th>\n",
       "      <th>grid_code</th>\n",
       "      <th>Tropograpy</th>\n",
       "      <th>Soil__Media</th>\n",
       "      <th>Net_Recharge</th>\n",
       "      <th>Impact_Vandose_Zone</th>\n",
       "      <th>Hydrolic_Conductivity</th>\n",
       "      <th>Depth_to_Acquifer</th>\n",
       "      <th>Aquirfer_Media</th>\n",
       "    </tr>\n",
       "  </thead>\n",
       "  <tbody>\n",
       "    <tr>\n",
       "      <th>2</th>\n",
       "      <td>3256</td>\n",
       "      <td>3</td>\n",
       "      <td>3</td>\n",
       "      <td>4</td>\n",
       "      <td>1</td>\n",
       "      <td>3</td>\n",
       "      <td>1</td>\n",
       "      <td>5</td>\n",
       "      <td>1</td>\n",
       "    </tr>\n",
       "    <tr>\n",
       "      <th>3</th>\n",
       "      <td>3257</td>\n",
       "      <td>3</td>\n",
       "      <td>1</td>\n",
       "      <td>4</td>\n",
       "      <td>1</td>\n",
       "      <td>3</td>\n",
       "      <td>1</td>\n",
       "      <td>5</td>\n",
       "      <td>1</td>\n",
       "    </tr>\n",
       "    <tr>\n",
       "      <th>4</th>\n",
       "      <td>3258</td>\n",
       "      <td>3</td>\n",
       "      <td>2</td>\n",
       "      <td>4</td>\n",
       "      <td>1</td>\n",
       "      <td>3</td>\n",
       "      <td>1</td>\n",
       "      <td>5</td>\n",
       "      <td>1</td>\n",
       "    </tr>\n",
       "    <tr>\n",
       "      <th>5</th>\n",
       "      <td>3259</td>\n",
       "      <td>3</td>\n",
       "      <td>1</td>\n",
       "      <td>4</td>\n",
       "      <td>1</td>\n",
       "      <td>2</td>\n",
       "      <td>1</td>\n",
       "      <td>5</td>\n",
       "      <td>1</td>\n",
       "    </tr>\n",
       "    <tr>\n",
       "      <th>6</th>\n",
       "      <td>3260</td>\n",
       "      <td>3</td>\n",
       "      <td>2</td>\n",
       "      <td>4</td>\n",
       "      <td>1</td>\n",
       "      <td>2</td>\n",
       "      <td>1</td>\n",
       "      <td>5</td>\n",
       "      <td>1</td>\n",
       "    </tr>\n",
       "    <tr>\n",
       "      <th>...</th>\n",
       "      <td>...</td>\n",
       "      <td>...</td>\n",
       "      <td>...</td>\n",
       "      <td>...</td>\n",
       "      <td>...</td>\n",
       "      <td>...</td>\n",
       "      <td>...</td>\n",
       "      <td>...</td>\n",
       "      <td>...</td>\n",
       "    </tr>\n",
       "    <tr>\n",
       "      <th>31913</th>\n",
       "      <td>3249</td>\n",
       "      <td>3</td>\n",
       "      <td>1</td>\n",
       "      <td>6</td>\n",
       "      <td>3</td>\n",
       "      <td>3</td>\n",
       "      <td>2</td>\n",
       "      <td>5</td>\n",
       "      <td>1</td>\n",
       "    </tr>\n",
       "    <tr>\n",
       "      <th>31914</th>\n",
       "      <td>3250</td>\n",
       "      <td>5</td>\n",
       "      <td>&lt;Null&gt;</td>\n",
       "      <td>4</td>\n",
       "      <td>&lt;Null&gt;</td>\n",
       "      <td>0</td>\n",
       "      <td>0</td>\n",
       "      <td>0</td>\n",
       "      <td>0</td>\n",
       "    </tr>\n",
       "    <tr>\n",
       "      <th>31915</th>\n",
       "      <td>3251</td>\n",
       "      <td>5</td>\n",
       "      <td>&lt;Null&gt;</td>\n",
       "      <td>5</td>\n",
       "      <td>&lt;Null&gt;</td>\n",
       "      <td>0</td>\n",
       "      <td>0</td>\n",
       "      <td>0</td>\n",
       "      <td>0</td>\n",
       "    </tr>\n",
       "    <tr>\n",
       "      <th>31916</th>\n",
       "      <td>3252</td>\n",
       "      <td>5</td>\n",
       "      <td>&lt;Null&gt;</td>\n",
       "      <td>6</td>\n",
       "      <td>&lt;Null&gt;</td>\n",
       "      <td>0</td>\n",
       "      <td>0</td>\n",
       "      <td>0</td>\n",
       "      <td>0</td>\n",
       "    </tr>\n",
       "    <tr>\n",
       "      <th>31917</th>\n",
       "      <td>3253</td>\n",
       "      <td>5</td>\n",
       "      <td>&lt;Null&gt;</td>\n",
       "      <td>6</td>\n",
       "      <td>&lt;Null&gt;</td>\n",
       "      <td>0</td>\n",
       "      <td>0</td>\n",
       "      <td>0</td>\n",
       "      <td>0</td>\n",
       "    </tr>\n",
       "  </tbody>\n",
       "</table>\n",
       "<p>31916 rows × 9 columns</p>\n",
       "</div>"
      ],
      "text/plain": [
       "       pointid  grid_code Tropograpy Soil__Media Net_Recharge  \\\n",
       "2         3256          3          3           4            1   \n",
       "3         3257          3          1           4            1   \n",
       "4         3258          3          2           4            1   \n",
       "5         3259          3          1           4            1   \n",
       "6         3260          3          2           4            1   \n",
       "...        ...        ...        ...         ...          ...   \n",
       "31913     3249          3          1           6            3   \n",
       "31914     3250          5     <Null>           4       <Null>   \n",
       "31915     3251          5     <Null>           5       <Null>   \n",
       "31916     3252          5     <Null>           6       <Null>   \n",
       "31917     3253          5     <Null>           6       <Null>   \n",
       "\n",
       "       Impact_Vandose_Zone  Hydrolic_Conductivity  Depth_to_Acquifer  \\\n",
       "2                        3                      1                  5   \n",
       "3                        3                      1                  5   \n",
       "4                        3                      1                  5   \n",
       "5                        2                      1                  5   \n",
       "6                        2                      1                  5   \n",
       "...                    ...                    ...                ...   \n",
       "31913                    3                      2                  5   \n",
       "31914                    0                      0                  0   \n",
       "31915                    0                      0                  0   \n",
       "31916                    0                      0                  0   \n",
       "31917                    0                      0                  0   \n",
       "\n",
       "       Aquirfer_Media  \n",
       "2                   1  \n",
       "3                   1  \n",
       "4                   1  \n",
       "5                   1  \n",
       "6                   1  \n",
       "...               ...  \n",
       "31913               1  \n",
       "31914               0  \n",
       "31915               0  \n",
       "31916               0  \n",
       "31917               0  \n",
       "\n",
       "[31916 rows x 9 columns]"
      ]
     },
     "execution_count": 28,
     "metadata": {},
     "output_type": "execute_result"
    }
   ],
   "source": [
    "X"
   ]
  },
  {
   "cell_type": "code",
   "execution_count": null,
   "id": "321d8af5-debe-4aef-9696-e642735ba117",
   "metadata": {},
   "outputs": [],
   "source": [
    "class_weights = class_weight.compute_class_weight('balanced', classes=np.unique(y_train), y=y_train)"
   ]
  },
  {
   "cell_type": "code",
   "execution_count": null,
   "id": "27a8eaf0-a836-420e-a487-db422bd00d90",
   "metadata": {},
   "outputs": [],
   "source": []
  },
  {
   "cell_type": "code",
   "execution_count": null,
   "id": "6b30c486-7ea3-43a3-92d2-db39a0b3d09e",
   "metadata": {},
   "outputs": [],
   "source": []
  },
  {
   "cell_type": "code",
   "execution_count": null,
   "id": "9d1aff74-0814-4ee1-9577-97d5e6b4d3b2",
   "metadata": {},
   "outputs": [],
   "source": []
  },
  {
   "cell_type": "code",
   "execution_count": null,
   "id": "cab3803a-fe4c-4441-a6ef-3b42ee5875f3",
   "metadata": {},
   "outputs": [],
   "source": []
  },
  {
   "cell_type": "code",
   "execution_count": null,
   "id": "bedf033a-1da9-4459-8139-89037991cb81",
   "metadata": {},
   "outputs": [],
   "source": [
    "from sklearn.metrics import accuracy_score"
   ]
  },
  {
   "cell_type": "code",
   "execution_count": null,
   "id": "7ca99629-4d62-40b5-8da3-eff9acc1940f",
   "metadata": {},
   "outputs": [],
   "source": [
    "accuracy = accuracy_score(y_test, y_pred)\n",
    "print(f\"Accuracy: {accuracy}\")"
   ]
  },
  {
   "cell_type": "code",
   "execution_count": null,
   "id": "67ad2db4-e545-4641-9e14-0afa3671c8b1",
   "metadata": {},
   "outputs": [],
   "source": []
  },
  {
   "cell_type": "code",
   "execution_count": null,
   "id": "b584fad0-fe94-45c6-be94-c52c5e71f37a",
   "metadata": {},
   "outputs": [],
   "source": []
  },
  {
   "cell_type": "code",
   "execution_count": null,
   "id": "cd9fbc61-294b-4462-b9d0-b2f7f527a5ec",
   "metadata": {},
   "outputs": [],
   "source": []
  }
 ],
 "metadata": {
  "kernelspec": {
   "display_name": "Python 3 (ipykernel)",
   "language": "python",
   "name": "python3"
  },
  "language_info": {
   "codemirror_mode": {
    "name": "ipython",
    "version": 3
   },
   "file_extension": ".py",
   "mimetype": "text/x-python",
   "name": "python",
   "nbconvert_exporter": "python",
   "pygments_lexer": "ipython3",
   "version": "3.11.9"
  }
 },
 "nbformat": 4,
 "nbformat_minor": 5
}
